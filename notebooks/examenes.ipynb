{
 "cells": [
  {
   "cell_type": "code",
   "execution_count": 12,
   "id": "initial_id",
   "metadata": {
    "is_executing": true
   },
   "outputs": [],
   "source": [
    "import pandas as pd\n",
    "import re\n",
    "import plotly.express as px\n",
    "import plotly.graph_objects as go"
   ]
  },
  {
   "cell_type": "code",
   "execution_count": 2,
   "id": "f230dadf-a412-4ae1-9d44-1ae535694a63",
   "metadata": {},
   "outputs": [],
   "source": [
    "def extraer_nota(nota):\n",
    "    match = re.match(r'(\\d+)\\s*/\\s*\\d+', nota)\n",
    "    if match:\n",
    "        return int(match.group(1))\n",
    "    else:\n",
    "        return None"
   ]
  },
  {
   "cell_type": "code",
   "execution_count": 157,
   "id": "b66cdcbc-efb2-4827-95ce-69fb89682c17",
   "metadata": {},
   "outputs": [],
   "source": [
    "df_pe_primer_examen = pd.read_excel('../data/examenes/1er_modulo/Notas-primer-examen.xlsx')\n",
    "df_pe_segundo_examen = pd.read_excel('../data/examenes/1er_modulo/Nota-segundo-examen.xlsx')\n",
    "df_pe_segundo_examen_martes = pd.read_excel('../data/examenes/1er_modulo/notas-segundo-Examen-martes.xlsx')\n",
    "df_pe_primer_recu = pd.read_excel('../data/examenes/1er_modulo/Notas-recuperatorio.xlsx')\n",
    "df_pe_segundo_recu = pd.read_excel('../data/examenes/1er_modulo/notas-recuperatorio-segundo-examen.xlsx')\n",
    "df_se_primer_examen = pd.read_excel('../data/examenes/2do_modulo/notas-1examen-segundomodulo.xlsx')\n",
    "df_se_segundo_examen = pd.read_excel('../data/examenes/2do_modulo/Notas-segundoexamen-modulo2.xlsx')\n",
    "df_se_primer_recu = pd.read_excel('../data/examenes/2do_modulo/recuperatorio-primerparcial.xlsx')\n",
    "df_se_segundo_recu = pd.read_excel('../data/examenes/2do_modulo/recuperatorio-segundo.xlsx')\n",
    "df_te_primer_examen = pd.read_excel('../data/examenes/3er_modulo/notas-tercermodulo-primerexamen.xlsx')"
   ]
  },
  {
   "cell_type": "code",
   "execution_count": 158,
   "id": "9b3e6d02-31eb-47bd-92e0-cd40804a4559",
   "metadata": {},
   "outputs": [],
   "source": [
    "df_pe_primer_examen = df_pe_primer_examen.assign(EXAMEN='primer')\n",
    "df_pe_primer_examen = df_pe_primer_examen.assign(RECUPERATORIO=False)\n",
    "df_pe_primer_examen = df_pe_primer_examen.assign(ETAPA='primera')\n",
    "df_pe_primer_examen['NOTA'] = df_pe_primer_examen['NOTA'].apply(extraer_nota)\n",
    "df_pe = df_pe_primer_examen[['NOTA', 'EXAMEN', 'RECUPERATORIO', 'ETAPA']]\n",
    "\n",
    "df_pe_segundo_examen = df_pe_segundo_examen.assign(EXAMEN='segundo')\n",
    "df_pe_segundo_examen = df_pe_segundo_examen.assign(RECUPERATORIO=False)\n",
    "df_pe_segundo_examen = df_pe_segundo_examen.assign(ETAPA='primera')\n",
    "df_pe_segundo_examen['NOTA'] = df_pe_segundo_examen['Nota Segundo examen']\n",
    "df_pe_segundo_examen = df_pe_segundo_examen[['NOTA', 'EXAMEN', 'RECUPERATORIO', 'ETAPA']]\n",
    "df_pe = pd.concat([df_pe, df_pe_segundo_examen], ignore_index=True)\n",
    "\n",
    "df_pe_segundo_examen_martes = df_pe_segundo_examen_martes.assign(EXAMEN='segundo')\n",
    "df_pe_segundo_examen_martes = df_pe_segundo_examen_martes.assign(RECUPERATORIO=False)\n",
    "df_pe_segundo_examen_martes = df_pe_segundo_examen_martes.assign(ETAPA='primera')\n",
    "df_pe_segundo_examen_martes['NOTA'] = df_pe_segundo_examen_martes['Nota segundo Examen'].apply(extraer_nota)\n",
    "df_pe_segundo_examen_martes = df_pe_segundo_examen_martes[['NOTA', 'EXAMEN', 'RECUPERATORIO', 'ETAPA']]\n",
    "df_pe = pd.concat([df_pe, df_pe_segundo_examen_martes], ignore_index=True)\n",
    "\n",
    "df_pe_primer_recu = df_pe_primer_recu.assign(EXAMEN='primer')\n",
    "df_pe_primer_recu = df_pe_primer_recu.assign(RECUPERATORIO=True)\n",
    "df_pe_primer_recu = df_pe_primer_recu.assign(ETAPA='primera')\n",
    "df_pe_primer_recu['NOTA'] = pd.to_numeric(df_pe_primer_recu['NOTA'], errors='coerce')\n",
    "df_pe_primer_recu = df_pe_primer_recu[['NOTA', 'EXAMEN', 'RECUPERATORIO', 'ETAPA']]\n",
    "df_pe = pd.concat([df_pe, df_pe_primer_recu], ignore_index=True)\n",
    "\n",
    "df_pe_segundo_recu = df_pe_segundo_recu.assign(EXAMEN='segundo')\n",
    "df_pe_segundo_recu = df_pe_segundo_recu.assign(RECUPERATORIO=True)\n",
    "df_pe_segundo_recu = df_pe_segundo_recu.assign(ETAPA='primera')\n",
    "df_pe_segundo_recu['NOTA'] = df_pe_segundo_recu['Nota del recuperatorio']\n",
    "df_pe_segundo_recu = df_pe_segundo_recu[['NOTA', 'EXAMEN', 'RECUPERATORIO', 'ETAPA']]\n",
    "df_pe = pd.concat([df_pe, df_pe_segundo_recu], ignore_index=True)\n",
    "\n",
    "df_se_primer_examen = df_se_primer_examen.assign(EXAMEN='primer')\n",
    "df_se_primer_examen = df_se_primer_examen.assign(RECUPERATORIO=False)\n",
    "df_se_primer_examen = df_se_primer_examen.assign(ETAPA='segunda')\n",
    "df_se_primer_examen['NOTA'] = pd.to_numeric(df_se_primer_examen['Puntuación'], errors='coerce')\n",
    "df_se_primer_examen = df_se_primer_examen[['NOTA', 'EXAMEN', 'RECUPERATORIO', 'ETAPA']]\n",
    "df_pe = pd.concat([df_pe, df_se_primer_examen], ignore_index=True)\n",
    "\n",
    "df_se_segundo_examen = df_se_segundo_examen.assign(EXAMEN='segundo')\n",
    "df_se_segundo_examen = df_se_segundo_examen.assign(RECUPERATORIO=False)\n",
    "df_se_segundo_examen = df_se_segundo_examen.assign(ETAPA='segunda')\n",
    "df_se_segundo_examen = df_se_segundo_examen[['NOTA', 'EXAMEN', 'RECUPERATORIO', 'ETAPA']]\n",
    "df_pe = pd.concat([df_pe, df_se_segundo_examen], ignore_index=True)\n",
    "\n",
    "df_se_primer_recu = df_se_primer_recu.assign(EXAMEN='primer')\n",
    "df_se_primer_recu = df_se_primer_recu.assign(RECUPERATORIO=True)\n",
    "df_se_primer_recu = df_se_primer_recu.assign(ETAPA='segunda')\n",
    "df_se_primer_recu['NOTA'] = df_se_primer_recu['Nota']\n",
    "df_se_primer_recu = df_se_primer_recu[['NOTA', 'EXAMEN', 'RECUPERATORIO', 'ETAPA']]\n",
    "df_pe = pd.concat([df_pe, df_se_primer_recu], ignore_index=True)\n",
    "\n",
    "df_se_segundo_recu = df_se_segundo_recu.assign(EXAMEN='segundo')\n",
    "df_se_segundo_recu = df_se_segundo_recu.assign(RECUPERATORIO=True)\n",
    "df_se_segundo_recu = df_se_segundo_recu.assign(ETAPA='segunda')\n",
    "df_se_segundo_recu = df_se_segundo_recu[['NOTA', 'EXAMEN', 'RECUPERATORIO', 'ETAPA']]\n",
    "df_pe = pd.concat([df_pe, df_se_segundo_recu], ignore_index=True)\n",
    "\n",
    "df_te_primer_examen = df_te_primer_examen.assign(EXAMEN='primer')\n",
    "df_te_primer_examen = df_te_primer_examen.assign(RECUPERATORIO=False)\n",
    "df_te_primer_examen = df_te_primer_examen.assign(ETAPA='tercera')\n",
    "df_te_primer_examen = df_te_primer_examen[['NOTA', 'EXAMEN', 'RECUPERATORIO', 'ETAPA']]\n",
    "df_pe = pd.concat([df_pe, df_te_primer_examen], ignore_index=True)"
   ]
  },
  {
   "cell_type": "code",
   "execution_count": 159,
   "id": "89aff273-57b1-4c1b-8602-8ccb868b1cbb",
   "metadata": {},
   "outputs": [],
   "source": [
    "df_pe['APRUEBA'] = df_pe['NOTA'].apply(lambda x: 'Si' if x >= 6 else 'No')"
   ]
  },
  {
   "cell_type": "code",
   "execution_count": 170,
   "id": "585a2173-9218-450d-b1a6-f8637436225c",
   "metadata": {},
   "outputs": [
    {
     "data": {
      "text/html": [
       "<div>\n",
       "<style scoped>\n",
       "    .dataframe tbody tr th:only-of-type {\n",
       "        vertical-align: middle;\n",
       "    }\n",
       "\n",
       "    .dataframe tbody tr th {\n",
       "        vertical-align: top;\n",
       "    }\n",
       "\n",
       "    .dataframe thead th {\n",
       "        text-align: right;\n",
       "    }\n",
       "</style>\n",
       "<table border=\"1\" class=\"dataframe\">\n",
       "  <thead>\n",
       "    <tr style=\"text-align: right;\">\n",
       "      <th></th>\n",
       "      <th>NOTA</th>\n",
       "      <th>EXAMEN</th>\n",
       "      <th>RECUPERATORIO</th>\n",
       "      <th>ETAPA</th>\n",
       "      <th>APRUEBA</th>\n",
       "    </tr>\n",
       "  </thead>\n",
       "  <tbody>\n",
       "    <tr>\n",
       "      <th>176</th>\n",
       "      <td>6.0</td>\n",
       "      <td>primer</td>\n",
       "      <td>False</td>\n",
       "      <td>primera</td>\n",
       "      <td>Si</td>\n",
       "    </tr>\n",
       "    <tr>\n",
       "      <th>1011</th>\n",
       "      <td>9.0</td>\n",
       "      <td>primer</td>\n",
       "      <td>False</td>\n",
       "      <td>primera</td>\n",
       "      <td>Si</td>\n",
       "    </tr>\n",
       "    <tr>\n",
       "      <th>2966</th>\n",
       "      <td>6.0</td>\n",
       "      <td>segundo</td>\n",
       "      <td>True</td>\n",
       "      <td>primera</td>\n",
       "      <td>Si</td>\n",
       "    </tr>\n",
       "    <tr>\n",
       "      <th>3076</th>\n",
       "      <td>9.0</td>\n",
       "      <td>segundo</td>\n",
       "      <td>True</td>\n",
       "      <td>primera</td>\n",
       "      <td>Si</td>\n",
       "    </tr>\n",
       "    <tr>\n",
       "      <th>6052</th>\n",
       "      <td>8.0</td>\n",
       "      <td>primer</td>\n",
       "      <td>False</td>\n",
       "      <td>tercera</td>\n",
       "      <td>Si</td>\n",
       "    </tr>\n",
       "    <tr>\n",
       "      <th>737</th>\n",
       "      <td>9.0</td>\n",
       "      <td>primer</td>\n",
       "      <td>False</td>\n",
       "      <td>primera</td>\n",
       "      <td>Si</td>\n",
       "    </tr>\n",
       "    <tr>\n",
       "      <th>4667</th>\n",
       "      <td>8.0</td>\n",
       "      <td>segundo</td>\n",
       "      <td>False</td>\n",
       "      <td>segunda</td>\n",
       "      <td>Si</td>\n",
       "    </tr>\n",
       "    <tr>\n",
       "      <th>5854</th>\n",
       "      <td>6.0</td>\n",
       "      <td>primer</td>\n",
       "      <td>False</td>\n",
       "      <td>tercera</td>\n",
       "      <td>Si</td>\n",
       "    </tr>\n",
       "    <tr>\n",
       "      <th>1806</th>\n",
       "      <td>7.0</td>\n",
       "      <td>segundo</td>\n",
       "      <td>False</td>\n",
       "      <td>primera</td>\n",
       "      <td>Si</td>\n",
       "    </tr>\n",
       "    <tr>\n",
       "      <th>6137</th>\n",
       "      <td>9.0</td>\n",
       "      <td>primer</td>\n",
       "      <td>False</td>\n",
       "      <td>tercera</td>\n",
       "      <td>Si</td>\n",
       "    </tr>\n",
       "  </tbody>\n",
       "</table>\n",
       "</div>"
      ],
      "text/plain": [
       "      NOTA   EXAMEN  RECUPERATORIO    ETAPA APRUEBA\n",
       "176    6.0   primer          False  primera      Si\n",
       "1011   9.0   primer          False  primera      Si\n",
       "2966   6.0  segundo           True  primera      Si\n",
       "3076   9.0  segundo           True  primera      Si\n",
       "6052   8.0   primer          False  tercera      Si\n",
       "737    9.0   primer          False  primera      Si\n",
       "4667   8.0  segundo          False  segunda      Si\n",
       "5854   6.0   primer          False  tercera      Si\n",
       "1806   7.0  segundo          False  primera      Si\n",
       "6137   9.0   primer          False  tercera      Si"
      ]
     },
     "execution_count": 170,
     "metadata": {},
     "output_type": "execute_result"
    }
   ],
   "source": [
    "df_pe.sample(10)"
   ]
  },
  {
   "cell_type": "code",
   "execution_count": 161,
   "id": "76bc3fea-86c5-4333-921e-ecdd8fa75333",
   "metadata": {},
   "outputs": [
    {
     "data": {
      "text/html": [
       "<div>\n",
       "<style scoped>\n",
       "    .dataframe tbody tr th:only-of-type {\n",
       "        vertical-align: middle;\n",
       "    }\n",
       "\n",
       "    .dataframe tbody tr th {\n",
       "        vertical-align: top;\n",
       "    }\n",
       "\n",
       "    .dataframe thead th {\n",
       "        text-align: right;\n",
       "    }\n",
       "</style>\n",
       "<table border=\"1\" class=\"dataframe\">\n",
       "  <thead>\n",
       "    <tr style=\"text-align: right;\">\n",
       "      <th></th>\n",
       "      <th>NOTA</th>\n",
       "    </tr>\n",
       "  </thead>\n",
       "  <tbody>\n",
       "    <tr>\n",
       "      <th>count</th>\n",
       "      <td>6263.000000</td>\n",
       "    </tr>\n",
       "    <tr>\n",
       "      <th>mean</th>\n",
       "      <td>8.070733</td>\n",
       "    </tr>\n",
       "    <tr>\n",
       "      <th>std</th>\n",
       "      <td>1.824444</td>\n",
       "    </tr>\n",
       "    <tr>\n",
       "      <th>min</th>\n",
       "      <td>0.000000</td>\n",
       "    </tr>\n",
       "    <tr>\n",
       "      <th>25%</th>\n",
       "      <td>7.000000</td>\n",
       "    </tr>\n",
       "    <tr>\n",
       "      <th>50%</th>\n",
       "      <td>8.000000</td>\n",
       "    </tr>\n",
       "    <tr>\n",
       "      <th>75%</th>\n",
       "      <td>10.000000</td>\n",
       "    </tr>\n",
       "    <tr>\n",
       "      <th>max</th>\n",
       "      <td>10.000000</td>\n",
       "    </tr>\n",
       "  </tbody>\n",
       "</table>\n",
       "</div>"
      ],
      "text/plain": [
       "              NOTA\n",
       "count  6263.000000\n",
       "mean      8.070733\n",
       "std       1.824444\n",
       "min       0.000000\n",
       "25%       7.000000\n",
       "50%       8.000000\n",
       "75%      10.000000\n",
       "max      10.000000"
      ]
     },
     "execution_count": 161,
     "metadata": {},
     "output_type": "execute_result"
    }
   ],
   "source": [
    "df_pe.describe()"
   ]
  },
  {
   "cell_type": "code",
   "execution_count": 172,
   "id": "04f3e429-d3c6-4100-887c-c41a28154de2",
   "metadata": {},
   "outputs": [
    {
     "data": {
      "application/vnd.plotly.v1+json": {
       "config": {
        "plotlyServerURL": "https://plot.ly"
       },
       "data": [
        {
         "alignmentgroup": "True",
         "bingroup": "x",
         "hovertemplate": "ETAPA=primera<br>NOTA=%{x}<br>count=%{y}<extra></extra>",
         "legendgroup": "primera",
         "marker": {
          "color": "#636efa",
          "pattern": {
           "shape": ""
          }
         },
         "name": "primera",
         "offsetgroup": "primera",
         "orientation": "v",
         "showlegend": true,
         "type": "histogram",
         "x": [
          7,
          8,
          10,
          7,
          7,
          9,
          10,
          8,
          7,
          8,
          9,
          7,
          5,
          8,
          10,
          8,
          7,
          9,
          8,
          10,
          10,
          9,
          10,
          10,
          9,
          10,
          9,
          9,
          6,
          7,
          6,
          7,
          6,
          4,
          7,
          9,
          5,
          10,
          10,
          9,
          10,
          6,
          10,
          9,
          10,
          7,
          9,
          9,
          10,
          9,
          2,
          9,
          9,
          9,
          10,
          10,
          8,
          10,
          7,
          10,
          10,
          9,
          10,
          10,
          7,
          8,
          10,
          10,
          9,
          8,
          9,
          10,
          10,
          0,
          5,
          10,
          8,
          7,
          9,
          10,
          6,
          10,
          10,
          9,
          10,
          2,
          6,
          10,
          7,
          7,
          10,
          9,
          10,
          8,
          4,
          7,
          10,
          9,
          10,
          8,
          6,
          6,
          9,
          6,
          8,
          10,
          9,
          10,
          9,
          10,
          10,
          10,
          7,
          8,
          8,
          9,
          10,
          10,
          9,
          9,
          9,
          8,
          10,
          10,
          8,
          10,
          10,
          10,
          10,
          7,
          10,
          6,
          10,
          10,
          10,
          5,
          8,
          7,
          9,
          10,
          8,
          10,
          9,
          9,
          9,
          10,
          10,
          10,
          10,
          10,
          9,
          7,
          10,
          9,
          10,
          10,
          8,
          10,
          8,
          6,
          9,
          10,
          4,
          9,
          9,
          10,
          9,
          10,
          10,
          5,
          9,
          10,
          9,
          9,
          10,
          7,
          6,
          7,
          10,
          10,
          10,
          8,
          7,
          10,
          6,
          9,
          6,
          10,
          9,
          10,
          10,
          8,
          8,
          9,
          3,
          8,
          10,
          9,
          7,
          9,
          9,
          10,
          9,
          10,
          5,
          9,
          9,
          7,
          9,
          10,
          9,
          9,
          9,
          10,
          9,
          10,
          9,
          9,
          9,
          9,
          3,
          10,
          9,
          8,
          7,
          9,
          9,
          8,
          10,
          8,
          5,
          10,
          9,
          9,
          9,
          8,
          9,
          9,
          10,
          9,
          8,
          9,
          10,
          7,
          10,
          6,
          10,
          10,
          9,
          9,
          8,
          7,
          8,
          10,
          9,
          10,
          6,
          10,
          8,
          10,
          10,
          5,
          7,
          7,
          9,
          10,
          10,
          9,
          8,
          10,
          9,
          7,
          7,
          9,
          10,
          10,
          10,
          10,
          10,
          10,
          9,
          10,
          7,
          10,
          9,
          10,
          10,
          10,
          8,
          8,
          8,
          10,
          10,
          10,
          10,
          8,
          10,
          10,
          4,
          9,
          10,
          7,
          7,
          9,
          7,
          8,
          10,
          10,
          8,
          4,
          9,
          9,
          8,
          10,
          10,
          4,
          9,
          9,
          10,
          10,
          9,
          8,
          6,
          9,
          9,
          4,
          10,
          10,
          9,
          9,
          7,
          8,
          8,
          7,
          10,
          10,
          10,
          9,
          10,
          9,
          10,
          7,
          4,
          10,
          10,
          9,
          10,
          9,
          9,
          9,
          9,
          10,
          10,
          10,
          10,
          9,
          8,
          10,
          10,
          5,
          10,
          8,
          9,
          10,
          10,
          9,
          7,
          9,
          9,
          2,
          7,
          10,
          9,
          10,
          10,
          8,
          8,
          10,
          10,
          8,
          8,
          9,
          10,
          10,
          10,
          8,
          10,
          9,
          10,
          9,
          10,
          10,
          6,
          9,
          9,
          9,
          10,
          10,
          10,
          9,
          10,
          9,
          10,
          9,
          9,
          9,
          10,
          10,
          10,
          10,
          8,
          10,
          10,
          10,
          9,
          10,
          8,
          8,
          9,
          9,
          9,
          9,
          10,
          9,
          10,
          8,
          10,
          10,
          7,
          10,
          9,
          10,
          7,
          8,
          9,
          4,
          9,
          9,
          10,
          10,
          10,
          10,
          9,
          10,
          9,
          9,
          10,
          7,
          9,
          7,
          9,
          null,
          9,
          10,
          10,
          6,
          10,
          9,
          10,
          9,
          8,
          10,
          9,
          10,
          9,
          9,
          7,
          10,
          10,
          9,
          10,
          8,
          9,
          9,
          9,
          10,
          10,
          10,
          9,
          10,
          7,
          5,
          6,
          10,
          4,
          10,
          10,
          8,
          4,
          10,
          8,
          9,
          6,
          8,
          9,
          10,
          9,
          4,
          8,
          9,
          10,
          10,
          9,
          9,
          8,
          7,
          9,
          8,
          7,
          10,
          8,
          10,
          10,
          10,
          7,
          9,
          2,
          10,
          7,
          9,
          9,
          10,
          7,
          8,
          8,
          10,
          10,
          9,
          7,
          8,
          9,
          5,
          9,
          9,
          10,
          10,
          9,
          9,
          10,
          9,
          5,
          4,
          10,
          9,
          10,
          10,
          10,
          8,
          8,
          10,
          10,
          1,
          8,
          8,
          9,
          9,
          7,
          8,
          8,
          10,
          10,
          8,
          10,
          10,
          10,
          9,
          9,
          8,
          10,
          9,
          10,
          3,
          9,
          9,
          8,
          10,
          8,
          10,
          9,
          10,
          10,
          9,
          10,
          7,
          5,
          9,
          9,
          8,
          6,
          9,
          8,
          10,
          0,
          10,
          10,
          8,
          9,
          10,
          10,
          10,
          10,
          7,
          8,
          9,
          9,
          7,
          10,
          10,
          8,
          8,
          10,
          10,
          10,
          9,
          4,
          10,
          9,
          8,
          9,
          10,
          10,
          10,
          10,
          10,
          7,
          10,
          10,
          10,
          8,
          null,
          6,
          7,
          4,
          9,
          8,
          8,
          7,
          9,
          9,
          9,
          6,
          9,
          8,
          8,
          9,
          10,
          10,
          10,
          9,
          10,
          8,
          9,
          10,
          10,
          9,
          10,
          8,
          10,
          10,
          9,
          10,
          9,
          10,
          9,
          10,
          9,
          9,
          9,
          10,
          10,
          3,
          8,
          7,
          10,
          10,
          8,
          10,
          8,
          10,
          7,
          10,
          9,
          10,
          9,
          9,
          10,
          9,
          9,
          9,
          7,
          10,
          8,
          10,
          10,
          9,
          9,
          10,
          10,
          6,
          9,
          9,
          10,
          10,
          8,
          7,
          9,
          10,
          9,
          10,
          8,
          3,
          8,
          10,
          8,
          9,
          9,
          8,
          10,
          8,
          9,
          8,
          9,
          10,
          10,
          10,
          10,
          10,
          6,
          8,
          8,
          9,
          9,
          9,
          9,
          9,
          2,
          6,
          9,
          10,
          10,
          10,
          10,
          10,
          10,
          9,
          9,
          10,
          10,
          6,
          3,
          6,
          9,
          10,
          8,
          7,
          5,
          8,
          9,
          10,
          9,
          10,
          8,
          7,
          5,
          9,
          7,
          10,
          7,
          10,
          10,
          8,
          10,
          9,
          10,
          10,
          10,
          8,
          9,
          2,
          10,
          9,
          10,
          7,
          10,
          6,
          10,
          7,
          8,
          10,
          10,
          10,
          10,
          10,
          10,
          9,
          10,
          9,
          10,
          10,
          10,
          10,
          8,
          10,
          3,
          9,
          9,
          10,
          10,
          10,
          9,
          10,
          10,
          6,
          8,
          9,
          10,
          9,
          9,
          9,
          9,
          10,
          7,
          10,
          10,
          7,
          9,
          10,
          10,
          4,
          7,
          6,
          3,
          9,
          10,
          9,
          10,
          10,
          10,
          8,
          10,
          10,
          9,
          10,
          9,
          6,
          9,
          9,
          10,
          7,
          10,
          7,
          9,
          8,
          7,
          6,
          8,
          9,
          8,
          10,
          10,
          8,
          10,
          10,
          9,
          10,
          10,
          7,
          10,
          7,
          10,
          10,
          9,
          10,
          6,
          6,
          10,
          9,
          8,
          7,
          8,
          9,
          10,
          10,
          9,
          10,
          10,
          10,
          10,
          10,
          10,
          9,
          10,
          9,
          9,
          6,
          10,
          7,
          9,
          6,
          10,
          9,
          10,
          8,
          8,
          6,
          10,
          8,
          9,
          10,
          8,
          10,
          10,
          10,
          9,
          10,
          9,
          8,
          10,
          9,
          10,
          10,
          9,
          10,
          10,
          7,
          9,
          8,
          7,
          9,
          8,
          10,
          10,
          10,
          9,
          9,
          8,
          10,
          10,
          9,
          8,
          8,
          10,
          7,
          10,
          9,
          7,
          10,
          10,
          10,
          5,
          10,
          8,
          8,
          10,
          10,
          9,
          10,
          6,
          10,
          10,
          10,
          9,
          7,
          3,
          10,
          6,
          10,
          10,
          9,
          9,
          10,
          10,
          10,
          10,
          9,
          10,
          8,
          10,
          10,
          10,
          10,
          9,
          8,
          10,
          10,
          10,
          9,
          10,
          10,
          9,
          3,
          9,
          10,
          6,
          10,
          10,
          10,
          10,
          10,
          10,
          2,
          10,
          9,
          10,
          10,
          10,
          10,
          8,
          10,
          10,
          10,
          9,
          10,
          9,
          10,
          10,
          8,
          10,
          10,
          9,
          9,
          9,
          9,
          9,
          10,
          10,
          10,
          9,
          10,
          9,
          7,
          10,
          10,
          8,
          10,
          9,
          7,
          10,
          10,
          10,
          10,
          9,
          10,
          9,
          7,
          10,
          10,
          10,
          9,
          9,
          10,
          10,
          10,
          9,
          3,
          10,
          10,
          9,
          10,
          10,
          10,
          8,
          10,
          9,
          10,
          10,
          10,
          9,
          7,
          9,
          8,
          10,
          8,
          10,
          7,
          10,
          6,
          9,
          10,
          9,
          8,
          10,
          10,
          9,
          10,
          7,
          8,
          9,
          8,
          10,
          9,
          6,
          9,
          10,
          10,
          9,
          10,
          10,
          10,
          10,
          9,
          10,
          9,
          10,
          10,
          9,
          10,
          10,
          10,
          8,
          8,
          10,
          9,
          10,
          9,
          9,
          5,
          8,
          10,
          10,
          9,
          10,
          10,
          8,
          5,
          8,
          9,
          10,
          10,
          8,
          10,
          10,
          10,
          10,
          8,
          10,
          9,
          9,
          9,
          9,
          9,
          10,
          8,
          10,
          10,
          9,
          9,
          9,
          8,
          10,
          10,
          8,
          8,
          10,
          10,
          10,
          8,
          10,
          8,
          8,
          9,
          6,
          10,
          10,
          8,
          4,
          9,
          10,
          8,
          10,
          10,
          10,
          9,
          10,
          10,
          6,
          10,
          9,
          10,
          9,
          10,
          6,
          9,
          8,
          10,
          10,
          9,
          10,
          4,
          10,
          10,
          9,
          9,
          10,
          9,
          7,
          10,
          9,
          1,
          10,
          9,
          9,
          10,
          5,
          10,
          5,
          7,
          10,
          7,
          10,
          10,
          9,
          9,
          10,
          8,
          6,
          8,
          8,
          10,
          9,
          10,
          9,
          5,
          9,
          8,
          10,
          9,
          10,
          10,
          8,
          10,
          9,
          10,
          10,
          10,
          9,
          8,
          10,
          9,
          10,
          10,
          10,
          10,
          null,
          8,
          9,
          10,
          9,
          10,
          10,
          7,
          9,
          8,
          10,
          10,
          10,
          10,
          7,
          8,
          9,
          9,
          8,
          6,
          10,
          8,
          9,
          9,
          10,
          9,
          10,
          9,
          10,
          10,
          9,
          10,
          10,
          9,
          8,
          10,
          10,
          10,
          10,
          10,
          10,
          9,
          9,
          10,
          10,
          10,
          3,
          10,
          9,
          10,
          10,
          10,
          5,
          10,
          9,
          10,
          1,
          9,
          10,
          7,
          10,
          10,
          6,
          8,
          8,
          9,
          10,
          10,
          9,
          9,
          10,
          9,
          10,
          10,
          9,
          10,
          9,
          9,
          10,
          1,
          10,
          10,
          8,
          10,
          10,
          9,
          5,
          9,
          10,
          10,
          7,
          10,
          10,
          10,
          9,
          10,
          6,
          10,
          9,
          9,
          9,
          10,
          10,
          10,
          10,
          9,
          8,
          7,
          10,
          10,
          9,
          9,
          10,
          4,
          10,
          5,
          10,
          10,
          10,
          9,
          9,
          9,
          7,
          3,
          9,
          9,
          10,
          10,
          9,
          10,
          10,
          10,
          10,
          10,
          10,
          10,
          10,
          9,
          10,
          10,
          10,
          10,
          6,
          10,
          10,
          9,
          5,
          10,
          9,
          10,
          7,
          10,
          8,
          9,
          9,
          8,
          6,
          7,
          7,
          4,
          10,
          9,
          9,
          5,
          10,
          9,
          9,
          10,
          5,
          10,
          10,
          10,
          7,
          9,
          4,
          9,
          10,
          10,
          7,
          2,
          8,
          10,
          4,
          9,
          10,
          9,
          7,
          8,
          9,
          10,
          10,
          10,
          10,
          10,
          6,
          9,
          7,
          10,
          10,
          9,
          9,
          8,
          10,
          9,
          8,
          3,
          8,
          9,
          10,
          8,
          10,
          9,
          10,
          5,
          6,
          8,
          9,
          10,
          8,
          5,
          10,
          7,
          10,
          6,
          7,
          10,
          10,
          10,
          9,
          8,
          8,
          9,
          10,
          7,
          8,
          9,
          9,
          10,
          10,
          9,
          10,
          8,
          7,
          10,
          10,
          10,
          10,
          10,
          9,
          5,
          9,
          10,
          8,
          8,
          10,
          10,
          8,
          8,
          9,
          10,
          10,
          8,
          10,
          7,
          9,
          10,
          2,
          1,
          1,
          1,
          2,
          2,
          2,
          2,
          2,
          2,
          2,
          2,
          2,
          3,
          3,
          3,
          3,
          3,
          3,
          3,
          3,
          3,
          3,
          3,
          3,
          3,
          3,
          3,
          4,
          4,
          4,
          4,
          4,
          4,
          4,
          4,
          4,
          4,
          4,
          4,
          4,
          4,
          4,
          4,
          4,
          4,
          4,
          4,
          4,
          4,
          4,
          4,
          4,
          4,
          4,
          4,
          4,
          4,
          4,
          4,
          4,
          4,
          5,
          5,
          5,
          5,
          5,
          5,
          5,
          5,
          5,
          5,
          5,
          5,
          5,
          5,
          5,
          5,
          5,
          5,
          5,
          5,
          5,
          5,
          5,
          5,
          5,
          5,
          5,
          5,
          5,
          5,
          5,
          5,
          5,
          5,
          5,
          5,
          5,
          5,
          5,
          5,
          5,
          5,
          5,
          5,
          5,
          5,
          5,
          5,
          5,
          5,
          5,
          5,
          5,
          5,
          5,
          5,
          5,
          6,
          6,
          6,
          6,
          6,
          6,
          6,
          6,
          6,
          6,
          6,
          6,
          6,
          6,
          6,
          6,
          6,
          6,
          6,
          6,
          6,
          6,
          6,
          6,
          6,
          6,
          6,
          6,
          6,
          6,
          6,
          6,
          6,
          6,
          6,
          6,
          6,
          6,
          6,
          6,
          6,
          6,
          6,
          6,
          6,
          6,
          6,
          6,
          6,
          6,
          6,
          6,
          6,
          6,
          6,
          6,
          6,
          6,
          6,
          6,
          6,
          6,
          6,
          6,
          6,
          6,
          6,
          6,
          6,
          6,
          6,
          6,
          6,
          6,
          6,
          6,
          6,
          6,
          6,
          6,
          6,
          6,
          6,
          6,
          6,
          6,
          6,
          6,
          6,
          6,
          6,
          6,
          6,
          6,
          6,
          6,
          6,
          7,
          7,
          7,
          7,
          7,
          7,
          7,
          7,
          7,
          7,
          7,
          7,
          7,
          7,
          7,
          7,
          7,
          7,
          7,
          7,
          7,
          7,
          7,
          7,
          7,
          7,
          7,
          7,
          7,
          7,
          7,
          7,
          7,
          7,
          7,
          7,
          7,
          7,
          7,
          7,
          7,
          7,
          7,
          7,
          7,
          7,
          7,
          7,
          7,
          7,
          7,
          7,
          7,
          7,
          7,
          7,
          7,
          7,
          7,
          7,
          7,
          7,
          7,
          7,
          7,
          7,
          7,
          7,
          7,
          7,
          7,
          7,
          7,
          7,
          7,
          7,
          7,
          7,
          7,
          7,
          7,
          7,
          7,
          7,
          7,
          7,
          7,
          7,
          7,
          7,
          7,
          7,
          7,
          7,
          7,
          7,
          7,
          7,
          7,
          7,
          7,
          7,
          7,
          7,
          7,
          7,
          7,
          7,
          7,
          7,
          7,
          7,
          7,
          7,
          7,
          7,
          7,
          7,
          7,
          7,
          7,
          7,
          7,
          7,
          7,
          7,
          7,
          7,
          7,
          7,
          7,
          7,
          7,
          7,
          7,
          7,
          7,
          7,
          7,
          7,
          7,
          7,
          7,
          7,
          7,
          7,
          7,
          7,
          7,
          7,
          7,
          7,
          7,
          7,
          7,
          7,
          7,
          7,
          8,
          8,
          8,
          8,
          8,
          8,
          8,
          8,
          8,
          8,
          8,
          8,
          8,
          8,
          8,
          8,
          8,
          8,
          8,
          8,
          8,
          8,
          8,
          8,
          8,
          8,
          8,
          8,
          8,
          8,
          8,
          8,
          8,
          8,
          8,
          8,
          8,
          8,
          8,
          8,
          8,
          8,
          8,
          8,
          8,
          8,
          8,
          8,
          8,
          8,
          8,
          8,
          8,
          8,
          8,
          8,
          8,
          8,
          8,
          8,
          8,
          8,
          8,
          8,
          8,
          8,
          8,
          8,
          8,
          8,
          8,
          8,
          8,
          8,
          8,
          8,
          8,
          8,
          8,
          8,
          8,
          8,
          8,
          8,
          8,
          8,
          8,
          8,
          8,
          8,
          8,
          8,
          8,
          8,
          8,
          8,
          8,
          8,
          8,
          8,
          8,
          8,
          8,
          8,
          8,
          8,
          8,
          8,
          8,
          8,
          8,
          8,
          8,
          8,
          8,
          8,
          8,
          8,
          8,
          8,
          8,
          8,
          8,
          8,
          8,
          8,
          8,
          8,
          8,
          8,
          8,
          8,
          8,
          8,
          8,
          8,
          8,
          8,
          8,
          8,
          8,
          8,
          8,
          8,
          8,
          8,
          8,
          8,
          8,
          8,
          8,
          8,
          8,
          8,
          8,
          8,
          8,
          8,
          8,
          8,
          8,
          8,
          8,
          8,
          8,
          8,
          8,
          8,
          8,
          8,
          8,
          8,
          8,
          8,
          8,
          8,
          8,
          8,
          8,
          8,
          8,
          8,
          8,
          8,
          8,
          8,
          8,
          8,
          8,
          8,
          8,
          8,
          8,
          8,
          8,
          8,
          8,
          8,
          8,
          8,
          8,
          8,
          8,
          8,
          8,
          8,
          8,
          8,
          8,
          8,
          8,
          8,
          8,
          8,
          8,
          8,
          8,
          8,
          8,
          8,
          8,
          8,
          8,
          8,
          8,
          8,
          8,
          8,
          8,
          8,
          8,
          8,
          8,
          8,
          8,
          8,
          8,
          8,
          8,
          8,
          8,
          8,
          8,
          8,
          8,
          8,
          8,
          8,
          8,
          8,
          8,
          8,
          8,
          8,
          8,
          8,
          8,
          8,
          8,
          8,
          8,
          8,
          8,
          8,
          8,
          8,
          8,
          8,
          8,
          8,
          8,
          9,
          9,
          9,
          9,
          9,
          9,
          9,
          9,
          9,
          9,
          9,
          9,
          9,
          9,
          9,
          9,
          9,
          9,
          9,
          9,
          9,
          9,
          9,
          9,
          9,
          9,
          9,
          9,
          9,
          9,
          9,
          9,
          9,
          9,
          9,
          9,
          9,
          9,
          9,
          9,
          9,
          9,
          9,
          9,
          9,
          9,
          9,
          9,
          9,
          9,
          9,
          9,
          9,
          9,
          9,
          9,
          9,
          9,
          9,
          9,
          9,
          9,
          9,
          9,
          9,
          9,
          9,
          9,
          9,
          9,
          9,
          9,
          9,
          9,
          9,
          9,
          9,
          9,
          9,
          9,
          9,
          9,
          9,
          9,
          9,
          9,
          9,
          9,
          9,
          9,
          9,
          9,
          9,
          9,
          9,
          9,
          9,
          9,
          9,
          9,
          9,
          9,
          9,
          9,
          9,
          9,
          9,
          9,
          9,
          9,
          9,
          9,
          9,
          9,
          9,
          9,
          9,
          9,
          9,
          9,
          9,
          9,
          9,
          9,
          9,
          9,
          9,
          9,
          9,
          9,
          9,
          9,
          9,
          9,
          9,
          9,
          9,
          9,
          9,
          9,
          9,
          9,
          9,
          9,
          9,
          9,
          9,
          9,
          9,
          9,
          9,
          9,
          9,
          9,
          9,
          9,
          9,
          9,
          9,
          9,
          9,
          9,
          9,
          9,
          9,
          9,
          9,
          9,
          9,
          9,
          9,
          9,
          9,
          9,
          9,
          9,
          9,
          9,
          9,
          9,
          9,
          9,
          9,
          9,
          9,
          9,
          9,
          9,
          9,
          9,
          9,
          9,
          9,
          9,
          9,
          9,
          9,
          9,
          9,
          9,
          9,
          9,
          9,
          9,
          9,
          9,
          9,
          9,
          9,
          9,
          9,
          9,
          9,
          9,
          9,
          9,
          9,
          9,
          9,
          9,
          9,
          9,
          9,
          9,
          9,
          9,
          9,
          9,
          9,
          9,
          9,
          9,
          9,
          9,
          9,
          9,
          9,
          9,
          9,
          9,
          9,
          9,
          9,
          9,
          9,
          9,
          9,
          9,
          9,
          9,
          9,
          9,
          9,
          9,
          9,
          9,
          9,
          9,
          9,
          9,
          9,
          9,
          9,
          9,
          9,
          9,
          9,
          9,
          9,
          9,
          9,
          9,
          9,
          9,
          9,
          9,
          9,
          9,
          9,
          9,
          9,
          9,
          9,
          9,
          9,
          9,
          9,
          9,
          9,
          9,
          9,
          9,
          10,
          10,
          10,
          10,
          10,
          10,
          10,
          10,
          10,
          10,
          10,
          10,
          10,
          10,
          10,
          10,
          10,
          10,
          10,
          10,
          10,
          10,
          10,
          10,
          10,
          10,
          10,
          10,
          10,
          10,
          10,
          10,
          10,
          10,
          10,
          10,
          10,
          10,
          10,
          10,
          10,
          10,
          10,
          10,
          10,
          10,
          10,
          10,
          10,
          10,
          10,
          10,
          10,
          10,
          10,
          10,
          10,
          10,
          10,
          10,
          10,
          10,
          10,
          10,
          10,
          10,
          10,
          10,
          10,
          10,
          10,
          10,
          10,
          10,
          10,
          10,
          10,
          10,
          10,
          10,
          10,
          10,
          10,
          10,
          10,
          10,
          10,
          10,
          10,
          10,
          10,
          10,
          10,
          10,
          10,
          10,
          10,
          10,
          10,
          10,
          10,
          10,
          10,
          10,
          10,
          10,
          10,
          10,
          10,
          10,
          10,
          10,
          10,
          10,
          10,
          10,
          10,
          10,
          10,
          10,
          10,
          10,
          10,
          10,
          10,
          10,
          10,
          10,
          10,
          10,
          10,
          10,
          10,
          10,
          10,
          10,
          10,
          10,
          10,
          10,
          10,
          10,
          10,
          10,
          10,
          10,
          10,
          10,
          10,
          10,
          10,
          10,
          10,
          10,
          10,
          10,
          10,
          10,
          10,
          10,
          10,
          10,
          10,
          10,
          10,
          10,
          10,
          10,
          10,
          10,
          10,
          10,
          10,
          10,
          10,
          10,
          10,
          10,
          10,
          10,
          10,
          10,
          10,
          10,
          10,
          10,
          10,
          10,
          10,
          10,
          10,
          10,
          10,
          10,
          10,
          10,
          10,
          10,
          10,
          10,
          10,
          10,
          10,
          10,
          10,
          10,
          1,
          2,
          2,
          2,
          3,
          3,
          3,
          4,
          4,
          4,
          4,
          4,
          4,
          4,
          4,
          4,
          5,
          5,
          5,
          5,
          5,
          5,
          6,
          6,
          6,
          6,
          6,
          6,
          6,
          6,
          6,
          6,
          6,
          6,
          6,
          6,
          6,
          6,
          6,
          6,
          7,
          7,
          7,
          7,
          7,
          7,
          7,
          7,
          7,
          7,
          7,
          7,
          7,
          7,
          7,
          7,
          7,
          7,
          7,
          7,
          7,
          7,
          7,
          7,
          7,
          7,
          7,
          7,
          8,
          8,
          8,
          8,
          8,
          8,
          8,
          8,
          8,
          8,
          8,
          8,
          8,
          8,
          8,
          8,
          8,
          8,
          8,
          8,
          8,
          8,
          8,
          8,
          8,
          8,
          8,
          8,
          8,
          8,
          8,
          8,
          9,
          9,
          9,
          9,
          9,
          9,
          9,
          9,
          9,
          9,
          9,
          9,
          9,
          9,
          9,
          9,
          9,
          9,
          9,
          9,
          9,
          9,
          9,
          9,
          9,
          9,
          9,
          9,
          9,
          9,
          9,
          9,
          9,
          9,
          9,
          9,
          9,
          9,
          9,
          9,
          9,
          9,
          9,
          9,
          9,
          9,
          9,
          9,
          9,
          9,
          9,
          9,
          9,
          10,
          10,
          10,
          10,
          10,
          10,
          10,
          10,
          10,
          10,
          10,
          10,
          10,
          10,
          10,
          10,
          10,
          10,
          10,
          10,
          10,
          10,
          10,
          10,
          10,
          10,
          10,
          10,
          10,
          10,
          10,
          10,
          10,
          10,
          10,
          10,
          10,
          10,
          10,
          10,
          10,
          null,
          10,
          6,
          10,
          6,
          10,
          8,
          10,
          8,
          10,
          10,
          8,
          6,
          4,
          9,
          10,
          10,
          10,
          10,
          null,
          9,
          9,
          9,
          3,
          10,
          10,
          9,
          9,
          9,
          9,
          5,
          9,
          6,
          10,
          9,
          10,
          8,
          9,
          9,
          10,
          5,
          6,
          5,
          8,
          7,
          10,
          8,
          8,
          3,
          7,
          8,
          7,
          10,
          8,
          8,
          10,
          8,
          6,
          7,
          7,
          10,
          10,
          7,
          10,
          8,
          5,
          8,
          8,
          6,
          9,
          8,
          10,
          8,
          9,
          5,
          6,
          9,
          7,
          10,
          4,
          6,
          8,
          7,
          7,
          6,
          5,
          1,
          2,
          2,
          2,
          2,
          2,
          3,
          3,
          3,
          3,
          3,
          3,
          4,
          4,
          4,
          4,
          6,
          6,
          6,
          6,
          6,
          6,
          6,
          6,
          6,
          6,
          6,
          6,
          6,
          6,
          6,
          6,
          6,
          6,
          6,
          6,
          6,
          6,
          6,
          6,
          6,
          6,
          6,
          6,
          6,
          6,
          6,
          6,
          6,
          6,
          6,
          6,
          6,
          6,
          7,
          7,
          7,
          7,
          7,
          7,
          7,
          7,
          7,
          7,
          7,
          7,
          7,
          7,
          7,
          7,
          7,
          7,
          7,
          7,
          7,
          7,
          7,
          7,
          7,
          7,
          7,
          7,
          7,
          8,
          8,
          8,
          8,
          8,
          8,
          8,
          8,
          8,
          8,
          8,
          8,
          8,
          8,
          8,
          8,
          8,
          8,
          8,
          8,
          8,
          8,
          8,
          8,
          8,
          8,
          8,
          8,
          8,
          8,
          8,
          8,
          8,
          8,
          8,
          8,
          8,
          8,
          8,
          8,
          9,
          9,
          9,
          9,
          9,
          9,
          9,
          9,
          9,
          9,
          9,
          9,
          9,
          9,
          9,
          9,
          9,
          9,
          9,
          9,
          9,
          9,
          9,
          9,
          9,
          9,
          9,
          9,
          9,
          9,
          9,
          9,
          9,
          9,
          9,
          9,
          9,
          9,
          9,
          9,
          9,
          9,
          9,
          9,
          9,
          9,
          9,
          9,
          9,
          9,
          9,
          9,
          10,
          10,
          10,
          10,
          10,
          10,
          10,
          10,
          10,
          10,
          10,
          10,
          10,
          10,
          10
         ],
         "xaxis": "x",
         "yaxis": "y"
        },
        {
         "alignmentgroup": "True",
         "bingroup": "x",
         "hovertemplate": "ETAPA=segunda<br>NOTA=%{x}<br>count=%{y}<extra></extra>",
         "legendgroup": "segunda",
         "marker": {
          "color": "#EF553B",
          "pattern": {
           "shape": ""
          }
         },
         "name": "segunda",
         "offsetgroup": "segunda",
         "orientation": "v",
         "showlegend": true,
         "type": "histogram",
         "x": [
          null,
          10,
          10,
          10,
          10,
          10,
          10,
          10,
          10,
          10,
          10,
          10,
          10,
          10,
          10,
          10,
          10,
          10,
          10,
          10,
          10,
          10,
          10,
          10,
          10,
          10,
          10,
          10,
          10,
          10,
          10,
          10,
          10,
          10,
          10,
          10,
          10,
          10,
          10,
          10,
          10,
          10,
          10,
          10,
          10,
          10,
          10,
          10,
          10,
          10,
          10,
          10,
          10,
          10,
          10,
          10,
          10,
          10,
          10,
          10,
          10,
          10,
          10,
          10,
          10,
          10,
          10,
          10,
          10,
          10,
          10,
          10,
          10,
          10,
          10,
          10,
          10,
          10,
          10,
          10,
          10,
          10,
          10,
          10,
          10,
          10,
          10,
          10,
          10,
          10,
          10,
          10,
          10,
          10,
          10,
          10,
          10,
          10,
          10,
          10,
          10,
          10,
          10,
          10,
          10,
          10,
          10,
          10,
          10,
          10,
          10,
          10,
          10,
          10,
          10,
          10,
          10,
          10,
          10,
          10,
          10,
          10,
          10,
          10,
          10,
          10,
          10,
          10,
          10,
          10,
          10,
          10,
          10,
          10,
          10,
          10,
          10,
          10,
          10,
          10,
          10,
          10,
          10,
          10,
          10,
          10,
          10,
          10,
          10,
          10,
          10,
          10,
          10,
          10,
          10,
          10,
          10,
          10,
          10,
          10,
          10,
          10,
          10,
          10,
          10,
          10,
          10,
          10,
          10,
          10,
          10,
          10,
          10,
          10,
          10,
          10,
          10,
          10,
          10,
          10,
          10,
          10,
          10,
          10,
          10,
          10,
          10,
          10,
          10,
          10,
          10,
          10,
          10,
          10,
          10,
          10,
          10,
          10,
          10,
          10,
          10,
          10,
          10,
          10,
          10,
          10,
          10,
          10,
          10,
          10,
          10,
          10,
          10,
          10,
          10,
          10,
          10,
          10,
          10,
          10,
          10,
          10,
          10,
          10,
          10,
          10,
          10,
          10,
          10,
          10,
          10,
          10,
          10,
          10,
          10,
          10,
          10,
          10,
          10,
          10,
          10,
          10,
          10,
          10,
          10,
          10,
          10,
          10,
          10,
          10,
          10,
          10,
          10,
          10,
          10,
          10,
          10,
          10,
          10,
          10,
          10,
          10,
          10,
          10,
          10,
          10,
          10,
          10,
          10,
          10,
          10,
          10,
          10,
          10,
          10,
          10,
          10,
          10,
          10,
          10,
          10,
          10,
          10,
          10,
          10,
          10,
          10,
          10,
          10,
          10,
          10,
          10,
          10,
          10,
          10,
          10,
          10,
          10,
          10,
          10,
          10,
          10,
          10,
          10,
          10,
          10,
          10,
          10,
          10,
          10,
          10,
          10,
          10,
          10,
          10,
          10,
          10,
          10,
          10,
          10,
          10,
          10,
          10,
          10,
          10,
          10,
          10,
          10,
          10,
          10,
          10,
          10,
          10,
          10,
          10,
          10,
          10,
          10,
          10,
          10,
          10,
          10,
          10,
          10,
          10,
          10,
          10,
          10,
          10,
          10,
          10,
          10,
          10,
          10,
          10,
          10,
          10,
          10,
          10,
          10,
          10,
          10,
          10,
          10,
          10,
          10,
          10,
          10,
          10,
          10,
          10,
          10,
          10,
          10,
          10,
          10,
          9,
          9,
          9,
          9,
          9,
          9,
          9,
          9,
          9,
          9,
          9,
          9,
          9,
          9,
          9,
          9,
          9,
          9,
          9,
          9,
          9,
          9,
          9,
          9,
          9,
          9,
          9,
          9,
          9,
          9,
          9,
          9,
          9,
          9,
          9,
          9,
          9,
          9,
          9,
          9,
          9,
          9,
          9,
          9,
          9,
          9,
          9,
          9,
          9,
          9,
          9,
          9,
          9,
          9,
          9,
          9,
          9,
          9,
          9,
          9,
          9,
          9,
          9,
          9,
          9,
          9,
          9,
          9,
          9,
          9,
          9,
          9,
          9,
          9,
          9,
          9,
          9,
          9,
          9,
          9,
          9,
          9,
          9,
          9,
          9,
          9,
          9,
          9,
          9,
          9,
          9,
          9,
          9,
          9,
          9,
          9,
          9,
          9,
          9,
          9,
          9,
          9,
          9,
          9,
          9,
          9,
          9,
          9,
          9,
          9,
          9,
          9,
          9,
          9,
          9,
          9,
          9,
          9,
          9,
          9,
          9,
          9,
          9,
          9,
          9,
          9,
          9,
          9,
          9,
          9,
          9,
          9,
          9,
          9,
          9,
          9,
          9,
          9,
          9,
          9,
          9,
          9,
          9,
          9,
          9,
          9,
          9,
          9,
          9,
          9,
          9,
          9,
          9,
          9,
          9,
          9,
          9,
          9,
          9,
          9,
          9,
          9,
          9,
          9,
          9,
          9,
          9,
          9,
          9,
          9,
          9,
          9,
          9,
          9,
          9,
          9,
          9,
          9,
          9,
          9,
          9,
          9,
          9,
          9,
          9,
          9,
          9,
          9,
          9,
          9,
          9,
          9,
          9,
          9,
          9,
          9,
          9,
          9,
          9,
          9,
          9,
          9,
          9,
          9,
          9,
          9,
          9,
          9,
          9,
          9,
          9,
          9,
          9,
          9,
          9,
          9,
          9,
          9,
          9,
          9,
          9,
          9,
          9,
          9,
          9,
          9,
          9,
          9,
          9,
          9,
          9,
          9,
          9,
          9,
          9,
          9,
          8,
          8,
          8,
          8,
          8,
          8,
          8,
          8,
          8,
          8,
          8,
          8,
          8,
          8,
          8,
          8,
          8,
          8,
          8,
          8,
          8,
          8,
          8,
          8,
          8,
          8,
          8,
          8,
          8,
          8,
          8,
          8,
          8,
          8,
          8,
          8,
          8,
          8,
          8,
          8,
          8,
          8,
          8,
          8,
          8,
          8,
          8,
          8,
          8,
          8,
          8,
          8,
          8,
          8,
          8,
          8,
          8,
          8,
          8,
          8,
          8,
          8,
          8,
          8,
          8,
          8,
          8,
          8,
          8,
          8,
          8,
          8,
          8,
          8,
          8,
          8,
          8,
          8,
          8,
          8,
          8,
          8,
          8,
          8,
          8,
          8,
          8,
          8,
          8,
          8,
          8,
          8,
          8,
          8,
          8,
          8,
          8,
          8,
          8,
          8,
          8,
          8,
          8,
          8,
          8,
          8,
          8,
          8,
          8,
          8,
          8,
          8,
          8,
          8,
          8,
          8,
          8,
          8,
          8,
          8,
          8,
          8,
          8,
          8,
          8,
          8,
          8,
          8,
          8,
          8,
          8,
          8,
          8,
          8,
          8,
          8,
          8,
          8,
          8,
          8,
          8,
          8,
          8,
          8,
          8,
          8,
          8,
          8,
          8,
          8,
          8,
          8,
          8,
          8,
          8,
          8,
          8,
          8,
          8,
          8,
          8,
          7,
          7,
          7,
          7,
          7,
          7,
          7,
          7,
          7,
          7,
          7,
          7,
          7,
          7,
          7,
          7,
          7,
          7,
          7,
          7,
          7,
          7,
          7,
          7,
          7,
          7,
          7,
          7,
          7,
          7,
          7,
          7,
          7,
          7,
          7,
          7,
          7,
          7,
          7,
          7,
          7,
          7,
          7,
          7,
          7,
          7,
          7,
          7,
          7,
          7,
          7,
          7,
          7,
          7,
          7,
          7,
          7,
          7,
          7,
          7,
          7,
          7,
          7,
          7,
          7,
          7,
          7,
          7,
          7,
          7,
          7,
          7,
          7,
          7,
          7,
          7,
          7,
          7,
          7,
          7,
          7,
          7,
          7,
          7,
          7,
          7,
          7,
          7,
          7,
          7,
          7,
          7,
          7,
          7,
          7,
          7,
          7,
          7,
          7,
          7,
          7,
          7,
          7,
          7,
          7,
          7,
          7,
          7,
          7,
          7,
          7,
          7,
          7,
          7,
          7,
          7,
          7,
          7,
          7,
          7,
          7,
          7,
          7,
          7,
          6,
          6,
          6,
          6,
          6,
          6,
          6,
          6,
          6,
          6,
          6,
          6,
          6,
          6,
          6,
          6,
          6,
          6,
          6,
          6,
          6,
          6,
          6,
          6,
          6,
          6,
          6,
          6,
          6,
          6,
          6,
          6,
          6,
          6,
          6,
          6,
          6,
          6,
          6,
          6,
          6,
          6,
          6,
          6,
          6,
          6,
          6,
          6,
          6,
          6,
          6,
          6,
          6,
          6,
          6,
          6,
          6,
          6,
          6,
          6,
          6,
          6,
          6,
          6,
          6,
          6,
          5,
          5,
          5,
          5,
          5,
          5,
          5,
          5,
          5,
          5,
          5,
          5,
          5,
          5,
          5,
          5,
          5,
          5,
          5,
          5,
          5,
          5,
          5,
          5,
          5,
          5,
          5,
          5,
          5,
          5,
          5,
          5,
          5,
          5,
          5,
          5,
          5,
          5,
          5,
          5,
          5,
          5,
          5,
          5,
          5,
          5,
          5,
          5,
          5,
          5,
          5,
          5,
          5,
          4,
          4,
          4,
          4,
          4,
          4,
          4,
          4,
          4,
          4,
          4,
          4,
          4,
          4,
          4,
          4,
          4,
          4,
          4,
          4,
          4,
          4,
          4,
          4,
          4,
          4,
          3,
          3,
          3,
          3,
          3,
          3,
          3,
          3,
          3,
          3,
          3,
          3,
          3,
          3,
          3,
          3,
          3,
          3,
          3,
          2,
          2,
          2,
          2,
          2,
          1,
          1,
          1,
          9,
          8,
          7,
          9,
          8,
          6,
          8,
          8,
          6,
          8,
          8,
          8,
          9,
          7,
          9,
          9,
          9,
          6,
          9,
          10,
          9,
          4,
          8,
          8,
          7,
          8,
          8,
          9,
          10,
          8,
          8,
          8,
          7,
          8,
          4,
          9,
          7,
          4,
          8,
          7,
          7,
          6,
          7,
          7,
          8,
          8,
          8,
          8,
          6,
          8,
          8,
          9,
          7,
          9,
          7,
          8,
          8,
          8,
          9,
          6,
          4,
          7,
          8,
          7,
          7,
          9,
          8,
          8,
          4,
          8,
          8,
          10,
          9,
          7,
          8,
          9,
          8,
          4,
          9,
          8,
          6,
          8,
          7,
          7,
          8,
          8,
          8,
          8,
          3,
          9,
          9,
          6,
          8,
          9,
          7,
          8,
          7,
          8,
          8,
          8,
          8,
          6,
          6,
          7,
          6,
          9,
          7,
          10,
          7,
          8,
          9,
          9,
          8,
          8,
          6,
          8,
          9,
          8,
          7,
          8,
          7,
          4,
          10,
          7,
          6,
          9,
          9,
          9,
          7,
          9,
          8,
          8,
          8,
          7,
          9,
          8,
          8,
          5,
          10,
          9,
          7,
          8,
          8,
          4,
          9,
          7,
          10,
          8,
          10,
          9,
          8,
          8,
          9,
          8,
          8,
          10,
          8,
          9,
          9,
          9,
          9,
          6,
          9,
          6,
          10,
          6,
          6,
          9,
          3,
          7,
          8,
          9,
          3,
          6,
          8,
          7,
          8,
          8,
          9,
          8,
          7,
          8,
          6,
          8,
          9,
          9,
          6,
          9,
          9,
          8,
          9,
          7,
          7,
          7,
          8,
          8,
          9,
          9,
          6,
          4,
          7,
          8,
          8,
          7,
          6,
          7,
          8,
          6,
          9,
          8,
          7,
          9,
          6,
          7,
          8,
          9,
          9,
          9,
          9,
          8,
          8,
          8,
          1,
          7,
          7,
          8,
          8,
          7,
          8,
          8,
          6,
          6,
          9,
          7,
          9,
          5,
          9,
          8,
          7,
          9,
          8,
          8,
          6,
          6,
          6,
          9,
          9,
          7,
          8,
          8,
          7,
          9,
          8,
          9,
          8,
          7,
          10,
          7,
          6,
          4,
          8,
          8,
          8,
          10,
          6,
          8,
          7,
          7,
          6,
          9,
          8,
          6,
          6,
          6,
          8,
          6,
          7,
          2,
          7,
          9,
          9,
          8,
          6,
          10,
          9,
          6,
          9,
          7,
          7,
          10,
          7,
          8,
          9,
          8,
          8,
          9,
          9,
          8,
          10,
          6,
          8,
          8,
          9,
          10,
          8,
          6,
          8,
          8,
          7,
          8,
          7,
          8,
          9,
          5,
          9,
          8,
          8,
          9,
          8,
          9,
          6,
          6,
          8,
          6,
          7,
          8,
          6,
          8,
          8,
          9,
          7,
          7,
          8,
          9,
          8,
          7,
          8,
          2,
          10,
          7,
          8,
          9,
          6,
          6,
          8,
          9,
          9,
          10,
          8,
          2,
          8,
          6,
          7,
          6,
          9,
          7,
          9,
          8,
          8,
          9,
          9,
          9,
          8,
          9,
          10,
          4,
          4,
          8,
          8,
          6,
          8,
          10,
          7,
          8,
          8,
          9,
          8,
          9,
          8,
          8,
          2,
          8,
          9,
          8,
          8,
          10,
          8,
          9,
          9,
          9,
          8,
          8,
          6,
          6,
          7,
          9,
          9,
          8,
          10,
          6,
          8,
          8,
          7,
          9,
          8,
          8,
          7,
          6,
          8,
          6,
          4,
          6,
          6,
          8,
          8,
          8,
          6,
          10,
          8,
          10,
          7,
          8,
          8,
          7,
          6,
          8,
          3,
          8,
          9,
          8,
          10,
          4,
          9,
          9,
          8,
          8,
          9,
          9,
          6,
          7,
          8,
          8,
          6,
          3,
          8,
          6,
          8,
          8,
          9,
          7,
          9,
          9,
          10,
          6,
          8,
          8,
          7,
          9,
          6,
          7,
          8,
          7,
          9,
          7,
          8,
          8,
          8,
          8,
          9,
          9,
          7,
          10,
          8,
          7,
          8,
          8,
          8,
          8,
          9,
          9,
          10,
          6,
          6,
          7,
          8,
          8,
          9,
          8,
          8,
          8,
          7,
          6,
          9,
          8,
          8,
          7,
          8,
          9,
          8,
          10,
          4,
          9,
          8,
          7,
          7,
          8,
          7,
          9,
          10,
          7,
          6,
          10,
          8,
          7,
          9,
          8,
          8,
          9,
          9,
          9,
          8,
          9,
          8,
          7,
          8,
          8,
          9,
          8,
          7,
          8,
          6,
          8,
          6,
          10,
          9,
          7,
          8,
          8,
          9,
          8,
          8,
          7,
          8,
          8,
          7,
          10,
          8,
          7,
          6,
          8,
          8,
          7,
          9,
          9,
          8,
          9,
          9,
          8,
          8,
          8,
          8,
          8,
          3,
          8,
          4,
          6,
          9,
          8,
          9,
          8,
          9,
          8,
          6,
          7,
          7,
          8,
          7,
          10,
          10,
          7,
          7,
          8,
          8,
          9,
          7,
          8,
          4,
          6,
          8,
          8,
          10,
          9,
          6,
          6,
          9,
          9,
          6,
          10,
          8,
          2,
          9,
          8,
          8,
          8,
          9,
          10,
          8,
          8,
          7,
          10,
          7,
          10,
          9,
          6,
          10,
          8,
          9,
          7,
          7,
          7,
          8,
          8,
          10,
          9,
          8,
          6,
          8,
          9,
          10,
          8,
          8,
          8,
          6,
          9,
          6,
          8,
          10,
          8,
          7,
          8,
          8,
          6,
          7,
          8,
          8,
          8,
          7,
          9,
          8,
          7,
          8,
          8,
          8,
          8,
          7,
          8,
          9,
          5,
          7,
          8,
          8,
          3,
          6,
          8,
          8,
          7,
          9,
          9,
          7,
          9,
          7,
          8,
          1,
          8,
          3,
          9,
          10,
          9,
          8,
          8,
          6,
          6,
          8,
          7,
          2,
          9,
          9,
          8,
          10,
          7,
          8,
          7,
          9,
          9,
          8,
          7,
          8,
          9,
          10,
          9,
          8,
          9,
          8,
          8,
          9,
          9,
          7,
          7,
          9,
          9,
          8,
          8,
          8,
          8,
          9,
          9,
          8,
          8,
          8,
          6,
          9,
          6,
          8,
          8,
          8,
          9,
          7,
          9,
          8,
          6,
          9,
          8,
          7,
          9,
          4,
          4,
          6,
          8,
          10,
          3,
          7,
          9,
          8,
          8,
          7,
          6,
          8,
          9,
          8,
          4,
          8,
          8,
          9,
          8,
          9,
          4,
          8,
          8,
          8,
          8,
          4,
          7,
          7,
          10,
          9,
          10,
          7,
          8,
          8,
          4,
          8,
          6,
          8,
          9,
          8,
          7,
          3,
          9,
          8,
          8,
          9,
          10,
          8,
          9,
          3,
          7,
          8,
          9,
          6,
          8,
          9,
          8,
          9,
          4,
          6,
          8,
          6,
          9,
          6,
          7,
          8,
          2,
          10,
          6,
          8,
          7,
          7,
          8,
          9,
          8,
          7,
          8,
          7,
          8,
          8,
          8,
          8,
          8,
          9,
          8,
          9,
          8,
          8,
          6,
          8,
          8,
          6,
          7,
          8,
          6,
          7,
          7,
          8,
          6,
          6,
          4,
          9,
          8,
          8,
          8,
          8,
          9,
          8,
          6,
          6,
          7,
          6,
          2,
          8,
          8,
          7,
          8,
          6,
          8,
          9,
          8,
          8,
          8,
          8,
          9,
          10,
          7,
          8,
          7,
          9,
          8,
          9,
          9,
          9,
          9,
          4,
          8,
          7,
          7,
          9,
          6,
          3,
          8,
          2,
          8,
          8,
          9,
          2,
          8,
          8,
          9,
          8,
          10,
          7,
          2,
          7,
          9,
          10,
          10,
          6,
          10,
          8,
          9,
          8,
          8,
          6,
          8,
          6,
          8,
          6,
          8,
          9,
          8,
          8,
          8,
          7,
          9,
          7,
          4,
          9,
          8,
          7,
          3,
          8,
          7,
          9,
          8,
          8,
          6,
          8,
          9,
          9,
          8,
          8,
          3,
          6,
          9,
          8,
          9,
          7,
          7,
          8,
          9,
          6,
          9,
          9,
          8,
          8,
          9,
          10,
          8,
          10,
          10,
          8,
          8,
          9,
          8,
          9,
          8,
          8,
          4,
          3,
          8,
          9,
          8,
          8,
          8,
          8,
          8,
          9,
          0,
          2,
          2,
          3,
          3,
          3,
          3,
          3,
          3,
          3,
          3,
          4,
          4,
          4,
          4,
          4,
          4,
          4,
          4,
          4,
          4,
          4,
          5,
          5,
          5,
          5,
          5,
          5,
          5,
          5,
          5,
          5,
          6,
          6,
          6,
          6,
          6,
          6,
          6,
          6,
          6,
          6,
          6,
          6,
          6,
          7,
          7,
          7,
          7,
          7,
          7,
          7,
          7,
          7,
          7,
          7,
          7,
          7,
          7,
          7,
          7,
          7,
          7,
          7,
          7,
          8,
          8,
          8,
          8,
          8,
          8,
          8,
          8,
          8,
          8,
          8,
          8,
          8,
          8,
          8,
          8,
          8,
          8,
          8,
          8,
          8,
          8,
          8,
          8,
          9,
          9,
          9,
          9,
          9,
          9,
          9,
          9,
          9,
          9,
          9,
          9,
          9,
          9,
          9,
          9,
          9,
          9,
          9,
          9,
          9,
          9,
          9,
          9,
          9,
          9,
          9,
          9,
          9,
          9,
          9,
          10,
          10,
          10,
          10,
          10,
          10,
          10,
          10,
          10,
          10,
          10,
          10,
          10,
          10,
          10,
          10,
          10,
          10,
          10,
          10,
          10,
          9,
          6,
          6,
          8,
          6,
          4,
          7,
          8,
          8,
          7,
          4,
          4,
          6,
          6,
          6,
          6,
          7,
          3,
          6,
          5,
          9,
          4,
          8,
          7,
          3,
          6,
          4,
          7,
          4,
          6,
          7,
          3,
          6,
          6,
          6,
          7,
          9,
          6,
          6,
          4,
          4,
          2,
          8,
          6,
          9,
          8,
          5,
          7,
          1,
          4,
          7,
          4,
          2,
          8,
          6,
          7,
          6,
          6,
          6,
          3,
          2,
          6,
          4,
          9,
          5,
          7,
          6,
          8,
          7,
          7,
          2,
          7,
          4,
          6,
          6,
          7,
          8,
          8,
          4,
          7,
          7,
          6,
          3,
          6,
          7,
          6,
          4,
          7,
          2,
          4,
          6,
          7,
          4,
          8,
          2,
          3,
          9,
          9,
          6,
          7,
          6,
          8,
          4,
          3,
          8,
          8,
          9,
          6,
          9,
          7,
          5,
          4,
          7,
          3,
          7,
          8,
          4,
          8,
          6,
          6
         ],
         "xaxis": "x",
         "yaxis": "y"
        },
        {
         "alignmentgroup": "True",
         "bingroup": "x",
         "hovertemplate": "ETAPA=tercera<br>NOTA=%{x}<br>count=%{y}<extra></extra>",
         "legendgroup": "tercera",
         "marker": {
          "color": "#00cc96",
          "pattern": {
           "shape": ""
          }
         },
         "name": "tercera",
         "offsetgroup": "tercera",
         "orientation": "v",
         "showlegend": true,
         "type": "histogram",
         "x": [
          7,
          7,
          9,
          5,
          10,
          4,
          6,
          10,
          8,
          8,
          4,
          7,
          7,
          7,
          9,
          10,
          10,
          9,
          9,
          10,
          7,
          10,
          10,
          8,
          9,
          10,
          7,
          7,
          9,
          10,
          8,
          6,
          10,
          10,
          9,
          7,
          8,
          6,
          9,
          6,
          5,
          10,
          5,
          10,
          7,
          10,
          7,
          9,
          4,
          5,
          5,
          9,
          9,
          6,
          10,
          6,
          9,
          10,
          9,
          6,
          8,
          9,
          10,
          10,
          5,
          7,
          8,
          8,
          6,
          8,
          9,
          9,
          9,
          9,
          9,
          9,
          6,
          10,
          6,
          7,
          4,
          8,
          9,
          10,
          6,
          6,
          6,
          7,
          7,
          10,
          6,
          7,
          3,
          7,
          10,
          8,
          7,
          9,
          9,
          7,
          8,
          10,
          10,
          8,
          6,
          10,
          9,
          4,
          10,
          9,
          8,
          7,
          7,
          7,
          4,
          10,
          10,
          9,
          6,
          10,
          7,
          6,
          10,
          10,
          10,
          10,
          10,
          9,
          9,
          9,
          9,
          9,
          7,
          10,
          9,
          9,
          6,
          10,
          10,
          8,
          7,
          6,
          10,
          10,
          8,
          8,
          5,
          9,
          5,
          8,
          10,
          6,
          7,
          5,
          9,
          6,
          10,
          5,
          4,
          6,
          7,
          8,
          10,
          10,
          9,
          9,
          10,
          8,
          10,
          9,
          6,
          9,
          9,
          6,
          5,
          6,
          4,
          9,
          10,
          8,
          9,
          9,
          5,
          10,
          7,
          9,
          8,
          9,
          10,
          8,
          9,
          7,
          10,
          6,
          6,
          7,
          4,
          10,
          7,
          10,
          5,
          6,
          10,
          10,
          9,
          6,
          8,
          6,
          6,
          8,
          6,
          7,
          5,
          8,
          10,
          6,
          9,
          9,
          8,
          8,
          7,
          10,
          6,
          10,
          9,
          8,
          8,
          8,
          5,
          4,
          8,
          7,
          6,
          5,
          10,
          7,
          10,
          9,
          5,
          8,
          10,
          7,
          9,
          10,
          8,
          7,
          10,
          4,
          10,
          8,
          8,
          10,
          10,
          7,
          10,
          5,
          8,
          10,
          6,
          10,
          8,
          7,
          7,
          10,
          8,
          8,
          9,
          7,
          7,
          7,
          9,
          7,
          9,
          7,
          7,
          10,
          7,
          10,
          5,
          6,
          5,
          9,
          7,
          9,
          8,
          9,
          5,
          6,
          7,
          8,
          6,
          9,
          9,
          10,
          6,
          10,
          4,
          8,
          7,
          10,
          9,
          6,
          5,
          7,
          7,
          10,
          7,
          10,
          9,
          7,
          10,
          6,
          4,
          6,
          10,
          7,
          6,
          7,
          8,
          9,
          8,
          8,
          9,
          8,
          9,
          10,
          6,
          9,
          9,
          10,
          10,
          9,
          8,
          9,
          10,
          6,
          9,
          6,
          10,
          10,
          6,
          8,
          6,
          8,
          10,
          10,
          9,
          6,
          10,
          7,
          6,
          6,
          5,
          9,
          6,
          7,
          10,
          4,
          9,
          10,
          9,
          10,
          8,
          9,
          6,
          9,
          8,
          8,
          8,
          10,
          7,
          5,
          6,
          10,
          4,
          6,
          9,
          7,
          10,
          6,
          9,
          6,
          6,
          7,
          10,
          10,
          6,
          7,
          6,
          6,
          5,
          9,
          10,
          6,
          7,
          8,
          9,
          3,
          3,
          7,
          7,
          7,
          8,
          9,
          5,
          9,
          8,
          8,
          3,
          6,
          6,
          10,
          9,
          7,
          7,
          9,
          6,
          10,
          9,
          9,
          8,
          10,
          10,
          10,
          9,
          4,
          6,
          6,
          8,
          8,
          7,
          10,
          8,
          10,
          9,
          8,
          8,
          6,
          10,
          9,
          7,
          9,
          7,
          7,
          7,
          9,
          6,
          8,
          9,
          10,
          6,
          6,
          7,
          7,
          8,
          6,
          4,
          4,
          8,
          6,
          10,
          10,
          9,
          7,
          7,
          7,
          10,
          7,
          10,
          9,
          10,
          10,
          10,
          8,
          8,
          8,
          9,
          10,
          9,
          8,
          9,
          4,
          10,
          10,
          8,
          9,
          6,
          9,
          8,
          6,
          10,
          5,
          8,
          8,
          9,
          9,
          8,
          4,
          8,
          8,
          7,
          7,
          6,
          6,
          7,
          10,
          7,
          8,
          8,
          10,
          8,
          7,
          9,
          9,
          10,
          10,
          9,
          8,
          9,
          8,
          9,
          9,
          10,
          6,
          9,
          10,
          9,
          9,
          7,
          8,
          7,
          7,
          8,
          6,
          8,
          10,
          10,
          8,
          8,
          8,
          6,
          7,
          5,
          7,
          10,
          10,
          9,
          8,
          9,
          10,
          10,
          6,
          9,
          8,
          9,
          8,
          10,
          8,
          10,
          7,
          10,
          7,
          9,
          6,
          9,
          10,
          7,
          5,
          7,
          10,
          10,
          7,
          9,
          9,
          9,
          9,
          7,
          9,
          7,
          6,
          7,
          7,
          7,
          8,
          6,
          8,
          7,
          4,
          10,
          7,
          8,
          9,
          10,
          6,
          4,
          9,
          8,
          7,
          6,
          9,
          8,
          7,
          4,
          7,
          7,
          9,
          6,
          9,
          9,
          6,
          10,
          6,
          10,
          9,
          10,
          5,
          6,
          9,
          7,
          10,
          7,
          7,
          10,
          9,
          8,
          9,
          6,
          8,
          10,
          9,
          9,
          7,
          5,
          9,
          10,
          8,
          7,
          8,
          10,
          6,
          6,
          7,
          7,
          10,
          10,
          8,
          9,
          10,
          10,
          9,
          5,
          6,
          8,
          6,
          6,
          6,
          7,
          10,
          8,
          3,
          6,
          9,
          9,
          8,
          8,
          10,
          6,
          6,
          7,
          10,
          10,
          6,
          8,
          10,
          8,
          10,
          9,
          9,
          9,
          7,
          9,
          10,
          7,
          7,
          7,
          7,
          6,
          9,
          10,
          6,
          10,
          7,
          8,
          5,
          10,
          8,
          9,
          7,
          10,
          8,
          8,
          8,
          7,
          8,
          8,
          10,
          8,
          10,
          10,
          5,
          8,
          9,
          7,
          10,
          6,
          7,
          6,
          7,
          7,
          7,
          9,
          6,
          9,
          6,
          6,
          10,
          5,
          7,
          9,
          8,
          9,
          6,
          9,
          7,
          6,
          7,
          10,
          10,
          8,
          7,
          7,
          7,
          7,
          10,
          8,
          5,
          10,
          7,
          8,
          5,
          10,
          9,
          5,
          9,
          9,
          8,
          7,
          8,
          10,
          7,
          6,
          5,
          10,
          8,
          6,
          9,
          8,
          6,
          9,
          10,
          10,
          6,
          10,
          7,
          7,
          8,
          7,
          8,
          7,
          6,
          10,
          6,
          9,
          7,
          9,
          3,
          9,
          7,
          8,
          9,
          10,
          8,
          6,
          10,
          10,
          7,
          4,
          1,
          6,
          6,
          9,
          10,
          10,
          10,
          9,
          7,
          9,
          10,
          7,
          8,
          7,
          8,
          6,
          7,
          9,
          9,
          7,
          9,
          5,
          6,
          10,
          9,
          8,
          6,
          4,
          10,
          7,
          10,
          8,
          10,
          10,
          10,
          9,
          10,
          10,
          9,
          6,
          5,
          7,
          9,
          7,
          6,
          7,
          10,
          9,
          7,
          9,
          7,
          10,
          9,
          9,
          9
         ],
         "xaxis": "x",
         "yaxis": "y"
        }
       ],
       "layout": {
        "autosize": true,
        "barmode": "relative",
        "legend": {
         "title": {
          "text": "ETAPA"
         },
         "tracegroupgap": 0
        },
        "template": {
         "data": {
          "bar": [
           {
            "error_x": {
             "color": "#2a3f5f"
            },
            "error_y": {
             "color": "#2a3f5f"
            },
            "marker": {
             "line": {
              "color": "#E5ECF6",
              "width": 0.5
             },
             "pattern": {
              "fillmode": "overlay",
              "size": 10,
              "solidity": 0.2
             }
            },
            "type": "bar"
           }
          ],
          "barpolar": [
           {
            "marker": {
             "line": {
              "color": "#E5ECF6",
              "width": 0.5
             },
             "pattern": {
              "fillmode": "overlay",
              "size": 10,
              "solidity": 0.2
             }
            },
            "type": "barpolar"
           }
          ],
          "carpet": [
           {
            "aaxis": {
             "endlinecolor": "#2a3f5f",
             "gridcolor": "white",
             "linecolor": "white",
             "minorgridcolor": "white",
             "startlinecolor": "#2a3f5f"
            },
            "baxis": {
             "endlinecolor": "#2a3f5f",
             "gridcolor": "white",
             "linecolor": "white",
             "minorgridcolor": "white",
             "startlinecolor": "#2a3f5f"
            },
            "type": "carpet"
           }
          ],
          "choropleth": [
           {
            "colorbar": {
             "outlinewidth": 0,
             "ticks": ""
            },
            "type": "choropleth"
           }
          ],
          "contour": [
           {
            "colorbar": {
             "outlinewidth": 0,
             "ticks": ""
            },
            "colorscale": [
             [
              0,
              "#0d0887"
             ],
             [
              0.1111111111111111,
              "#46039f"
             ],
             [
              0.2222222222222222,
              "#7201a8"
             ],
             [
              0.3333333333333333,
              "#9c179e"
             ],
             [
              0.4444444444444444,
              "#bd3786"
             ],
             [
              0.5555555555555556,
              "#d8576b"
             ],
             [
              0.6666666666666666,
              "#ed7953"
             ],
             [
              0.7777777777777778,
              "#fb9f3a"
             ],
             [
              0.8888888888888888,
              "#fdca26"
             ],
             [
              1,
              "#f0f921"
             ]
            ],
            "type": "contour"
           }
          ],
          "contourcarpet": [
           {
            "colorbar": {
             "outlinewidth": 0,
             "ticks": ""
            },
            "type": "contourcarpet"
           }
          ],
          "heatmap": [
           {
            "colorbar": {
             "outlinewidth": 0,
             "ticks": ""
            },
            "colorscale": [
             [
              0,
              "#0d0887"
             ],
             [
              0.1111111111111111,
              "#46039f"
             ],
             [
              0.2222222222222222,
              "#7201a8"
             ],
             [
              0.3333333333333333,
              "#9c179e"
             ],
             [
              0.4444444444444444,
              "#bd3786"
             ],
             [
              0.5555555555555556,
              "#d8576b"
             ],
             [
              0.6666666666666666,
              "#ed7953"
             ],
             [
              0.7777777777777778,
              "#fb9f3a"
             ],
             [
              0.8888888888888888,
              "#fdca26"
             ],
             [
              1,
              "#f0f921"
             ]
            ],
            "type": "heatmap"
           }
          ],
          "heatmapgl": [
           {
            "colorbar": {
             "outlinewidth": 0,
             "ticks": ""
            },
            "colorscale": [
             [
              0,
              "#0d0887"
             ],
             [
              0.1111111111111111,
              "#46039f"
             ],
             [
              0.2222222222222222,
              "#7201a8"
             ],
             [
              0.3333333333333333,
              "#9c179e"
             ],
             [
              0.4444444444444444,
              "#bd3786"
             ],
             [
              0.5555555555555556,
              "#d8576b"
             ],
             [
              0.6666666666666666,
              "#ed7953"
             ],
             [
              0.7777777777777778,
              "#fb9f3a"
             ],
             [
              0.8888888888888888,
              "#fdca26"
             ],
             [
              1,
              "#f0f921"
             ]
            ],
            "type": "heatmapgl"
           }
          ],
          "histogram": [
           {
            "marker": {
             "pattern": {
              "fillmode": "overlay",
              "size": 10,
              "solidity": 0.2
             }
            },
            "type": "histogram"
           }
          ],
          "histogram2d": [
           {
            "colorbar": {
             "outlinewidth": 0,
             "ticks": ""
            },
            "colorscale": [
             [
              0,
              "#0d0887"
             ],
             [
              0.1111111111111111,
              "#46039f"
             ],
             [
              0.2222222222222222,
              "#7201a8"
             ],
             [
              0.3333333333333333,
              "#9c179e"
             ],
             [
              0.4444444444444444,
              "#bd3786"
             ],
             [
              0.5555555555555556,
              "#d8576b"
             ],
             [
              0.6666666666666666,
              "#ed7953"
             ],
             [
              0.7777777777777778,
              "#fb9f3a"
             ],
             [
              0.8888888888888888,
              "#fdca26"
             ],
             [
              1,
              "#f0f921"
             ]
            ],
            "type": "histogram2d"
           }
          ],
          "histogram2dcontour": [
           {
            "colorbar": {
             "outlinewidth": 0,
             "ticks": ""
            },
            "colorscale": [
             [
              0,
              "#0d0887"
             ],
             [
              0.1111111111111111,
              "#46039f"
             ],
             [
              0.2222222222222222,
              "#7201a8"
             ],
             [
              0.3333333333333333,
              "#9c179e"
             ],
             [
              0.4444444444444444,
              "#bd3786"
             ],
             [
              0.5555555555555556,
              "#d8576b"
             ],
             [
              0.6666666666666666,
              "#ed7953"
             ],
             [
              0.7777777777777778,
              "#fb9f3a"
             ],
             [
              0.8888888888888888,
              "#fdca26"
             ],
             [
              1,
              "#f0f921"
             ]
            ],
            "type": "histogram2dcontour"
           }
          ],
          "mesh3d": [
           {
            "colorbar": {
             "outlinewidth": 0,
             "ticks": ""
            },
            "type": "mesh3d"
           }
          ],
          "parcoords": [
           {
            "line": {
             "colorbar": {
              "outlinewidth": 0,
              "ticks": ""
             }
            },
            "type": "parcoords"
           }
          ],
          "pie": [
           {
            "automargin": true,
            "type": "pie"
           }
          ],
          "scatter": [
           {
            "fillpattern": {
             "fillmode": "overlay",
             "size": 10,
             "solidity": 0.2
            },
            "type": "scatter"
           }
          ],
          "scatter3d": [
           {
            "line": {
             "colorbar": {
              "outlinewidth": 0,
              "ticks": ""
             }
            },
            "marker": {
             "colorbar": {
              "outlinewidth": 0,
              "ticks": ""
             }
            },
            "type": "scatter3d"
           }
          ],
          "scattercarpet": [
           {
            "marker": {
             "colorbar": {
              "outlinewidth": 0,
              "ticks": ""
             }
            },
            "type": "scattercarpet"
           }
          ],
          "scattergeo": [
           {
            "marker": {
             "colorbar": {
              "outlinewidth": 0,
              "ticks": ""
             }
            },
            "type": "scattergeo"
           }
          ],
          "scattergl": [
           {
            "marker": {
             "colorbar": {
              "outlinewidth": 0,
              "ticks": ""
             }
            },
            "type": "scattergl"
           }
          ],
          "scattermapbox": [
           {
            "marker": {
             "colorbar": {
              "outlinewidth": 0,
              "ticks": ""
             }
            },
            "type": "scattermapbox"
           }
          ],
          "scatterpolar": [
           {
            "marker": {
             "colorbar": {
              "outlinewidth": 0,
              "ticks": ""
             }
            },
            "type": "scatterpolar"
           }
          ],
          "scatterpolargl": [
           {
            "marker": {
             "colorbar": {
              "outlinewidth": 0,
              "ticks": ""
             }
            },
            "type": "scatterpolargl"
           }
          ],
          "scatterternary": [
           {
            "marker": {
             "colorbar": {
              "outlinewidth": 0,
              "ticks": ""
             }
            },
            "type": "scatterternary"
           }
          ],
          "surface": [
           {
            "colorbar": {
             "outlinewidth": 0,
             "ticks": ""
            },
            "colorscale": [
             [
              0,
              "#0d0887"
             ],
             [
              0.1111111111111111,
              "#46039f"
             ],
             [
              0.2222222222222222,
              "#7201a8"
             ],
             [
              0.3333333333333333,
              "#9c179e"
             ],
             [
              0.4444444444444444,
              "#bd3786"
             ],
             [
              0.5555555555555556,
              "#d8576b"
             ],
             [
              0.6666666666666666,
              "#ed7953"
             ],
             [
              0.7777777777777778,
              "#fb9f3a"
             ],
             [
              0.8888888888888888,
              "#fdca26"
             ],
             [
              1,
              "#f0f921"
             ]
            ],
            "type": "surface"
           }
          ],
          "table": [
           {
            "cells": {
             "fill": {
              "color": "#EBF0F8"
             },
             "line": {
              "color": "white"
             }
            },
            "header": {
             "fill": {
              "color": "#C8D4E3"
             },
             "line": {
              "color": "white"
             }
            },
            "type": "table"
           }
          ]
         },
         "layout": {
          "annotationdefaults": {
           "arrowcolor": "#2a3f5f",
           "arrowhead": 0,
           "arrowwidth": 1
          },
          "autotypenumbers": "strict",
          "coloraxis": {
           "colorbar": {
            "outlinewidth": 0,
            "ticks": ""
           }
          },
          "colorscale": {
           "diverging": [
            [
             0,
             "#8e0152"
            ],
            [
             0.1,
             "#c51b7d"
            ],
            [
             0.2,
             "#de77ae"
            ],
            [
             0.3,
             "#f1b6da"
            ],
            [
             0.4,
             "#fde0ef"
            ],
            [
             0.5,
             "#f7f7f7"
            ],
            [
             0.6,
             "#e6f5d0"
            ],
            [
             0.7,
             "#b8e186"
            ],
            [
             0.8,
             "#7fbc41"
            ],
            [
             0.9,
             "#4d9221"
            ],
            [
             1,
             "#276419"
            ]
           ],
           "sequential": [
            [
             0,
             "#0d0887"
            ],
            [
             0.1111111111111111,
             "#46039f"
            ],
            [
             0.2222222222222222,
             "#7201a8"
            ],
            [
             0.3333333333333333,
             "#9c179e"
            ],
            [
             0.4444444444444444,
             "#bd3786"
            ],
            [
             0.5555555555555556,
             "#d8576b"
            ],
            [
             0.6666666666666666,
             "#ed7953"
            ],
            [
             0.7777777777777778,
             "#fb9f3a"
            ],
            [
             0.8888888888888888,
             "#fdca26"
            ],
            [
             1,
             "#f0f921"
            ]
           ],
           "sequentialminus": [
            [
             0,
             "#0d0887"
            ],
            [
             0.1111111111111111,
             "#46039f"
            ],
            [
             0.2222222222222222,
             "#7201a8"
            ],
            [
             0.3333333333333333,
             "#9c179e"
            ],
            [
             0.4444444444444444,
             "#bd3786"
            ],
            [
             0.5555555555555556,
             "#d8576b"
            ],
            [
             0.6666666666666666,
             "#ed7953"
            ],
            [
             0.7777777777777778,
             "#fb9f3a"
            ],
            [
             0.8888888888888888,
             "#fdca26"
            ],
            [
             1,
             "#f0f921"
            ]
           ]
          },
          "colorway": [
           "#636efa",
           "#EF553B",
           "#00cc96",
           "#ab63fa",
           "#FFA15A",
           "#19d3f3",
           "#FF6692",
           "#B6E880",
           "#FF97FF",
           "#FECB52"
          ],
          "font": {
           "color": "#2a3f5f"
          },
          "geo": {
           "bgcolor": "white",
           "lakecolor": "white",
           "landcolor": "#E5ECF6",
           "showlakes": true,
           "showland": true,
           "subunitcolor": "white"
          },
          "hoverlabel": {
           "align": "left"
          },
          "hovermode": "closest",
          "mapbox": {
           "style": "light"
          },
          "paper_bgcolor": "white",
          "plot_bgcolor": "#E5ECF6",
          "polar": {
           "angularaxis": {
            "gridcolor": "white",
            "linecolor": "white",
            "ticks": ""
           },
           "bgcolor": "#E5ECF6",
           "radialaxis": {
            "gridcolor": "white",
            "linecolor": "white",
            "ticks": ""
           }
          },
          "scene": {
           "xaxis": {
            "backgroundcolor": "#E5ECF6",
            "gridcolor": "white",
            "gridwidth": 2,
            "linecolor": "white",
            "showbackground": true,
            "ticks": "",
            "zerolinecolor": "white"
           },
           "yaxis": {
            "backgroundcolor": "#E5ECF6",
            "gridcolor": "white",
            "gridwidth": 2,
            "linecolor": "white",
            "showbackground": true,
            "ticks": "",
            "zerolinecolor": "white"
           },
           "zaxis": {
            "backgroundcolor": "#E5ECF6",
            "gridcolor": "white",
            "gridwidth": 2,
            "linecolor": "white",
            "showbackground": true,
            "ticks": "",
            "zerolinecolor": "white"
           }
          },
          "shapedefaults": {
           "line": {
            "color": "#2a3f5f"
           }
          },
          "ternary": {
           "aaxis": {
            "gridcolor": "white",
            "linecolor": "white",
            "ticks": ""
           },
           "baxis": {
            "gridcolor": "white",
            "linecolor": "white",
            "ticks": ""
           },
           "bgcolor": "#E5ECF6",
           "caxis": {
            "gridcolor": "white",
            "linecolor": "white",
            "ticks": ""
           }
          },
          "title": {
           "x": 0.05
          },
          "xaxis": {
           "automargin": true,
           "gridcolor": "white",
           "linecolor": "white",
           "ticks": "",
           "title": {
            "standoff": 15
           },
           "zerolinecolor": "white",
           "zerolinewidth": 2
          },
          "yaxis": {
           "automargin": true,
           "gridcolor": "white",
           "linecolor": "white",
           "ticks": "",
           "title": {
            "standoff": 15
           },
           "zerolinecolor": "white",
           "zerolinewidth": 2
          }
         }
        },
        "title": {
         "text": "Distribución de Notas por Etapa"
        },
        "xaxis": {
         "anchor": "y",
         "autorange": true,
         "domain": [
          0,
          1
         ],
         "range": [
          -0.5,
          10.5
         ],
         "title": {
          "text": "Nota"
         },
         "type": "linear"
        },
        "yaxis": {
         "anchor": "x",
         "autorange": true,
         "domain": [
          0,
          1
         ],
         "range": [
          0,
          1673.6842105263158
         ],
         "title": {
          "text": "Frecuencia"
         }
        }
       }
      },
      "image/png": "[encoded data removed]",
      "text/html": [
       "<div>                            <div id=\"f5ab2383-ccaa-41a0-99fd-16cf7c8b43b0\" class=\"plotly-graph-div\" style=\"height:525px; width:100%;\"></div>            <script type=\"text/javascript\">                require([\"plotly\"], function(Plotly) {                    window.PLOTLYENV=window.PLOTLYENV || {};                                    if (document.getElementById(\"f5ab2383-ccaa-41a0-99fd-16cf7c8b43b0\")) {                    Plotly.newPlot(                        \"f5ab2383-ccaa-41a0-99fd-16cf7c8b43b0\",                        [{\"alignmentgroup\":\"True\",\"bingroup\":\"x\",\"hovertemplate\":\"ETAPA=primera\\u003cbr\\u003eNOTA=%{x}\\u003cbr\\u003ecount=%{y}\\u003cextra\\u003e\\u003c\\u002fextra\\u003e\",\"legendgroup\":\"primera\",\"marker\":{\"color\":\"#636efa\",\"pattern\":{\"shape\":\"\"}},\"name\":\"primera\",\"offsetgroup\":\"primera\",\"orientation\":\"v\",\"showlegend\":true,\"x\":[7.0,8.0,10.0,7.0,7.0,9.0,10.0,8.0,7.0,8.0,9.0,7.0,5.0,8.0,10.0,8.0,7.0,9.0,8.0,10.0,10.0,9.0,10.0,10.0,9.0,10.0,9.0,9.0,6.0,7.0,6.0,7.0,6.0,4.0,7.0,9.0,5.0,10.0,10.0,9.0,10.0,6.0,10.0,9.0,10.0,7.0,9.0,9.0,10.0,9.0,2.0,9.0,9.0,9.0,10.0,10.0,8.0,10.0,7.0,10.0,10.0,9.0,10.0,10.0,7.0,8.0,10.0,10.0,9.0,8.0,9.0,10.0,10.0,0.0,5.0,10.0,8.0,7.0,9.0,10.0,6.0,10.0,10.0,9.0,10.0,2.0,6.0,10.0,7.0,7.0,10.0,9.0,10.0,8.0,4.0,7.0,10.0,9.0,10.0,8.0,6.0,6.0,9.0,6.0,8.0,10.0,9.0,10.0,9.0,10.0,10.0,10.0,7.0,8.0,8.0,9.0,10.0,10.0,9.0,9.0,9.0,8.0,10.0,10.0,8.0,10.0,10.0,10.0,10.0,7.0,10.0,6.0,10.0,10.0,10.0,5.0,8.0,7.0,9.0,10.0,8.0,10.0,9.0,9.0,9.0,10.0,10.0,10.0,10.0,10.0,9.0,7.0,10.0,9.0,10.0,10.0,8.0,10.0,8.0,6.0,9.0,10.0,4.0,9.0,9.0,10.0,9.0,10.0,10.0,5.0,9.0,10.0,9.0,9.0,10.0,7.0,6.0,7.0,10.0,10.0,10.0,8.0,7.0,10.0,6.0,9.0,6.0,10.0,9.0,10.0,10.0,8.0,8.0,9.0,3.0,8.0,10.0,9.0,7.0,9.0,9.0,10.0,9.0,10.0,5.0,9.0,9.0,7.0,9.0,10.0,9.0,9.0,9.0,10.0,9.0,10.0,9.0,9.0,9.0,9.0,3.0,10.0,9.0,8.0,7.0,9.0,9.0,8.0,10.0,8.0,5.0,10.0,9.0,9.0,9.0,8.0,9.0,9.0,10.0,9.0,8.0,9.0,10.0,7.0,10.0,6.0,10.0,10.0,9.0,9.0,8.0,7.0,8.0,10.0,9.0,10.0,6.0,10.0,8.0,10.0,10.0,5.0,7.0,7.0,9.0,10.0,10.0,9.0,8.0,10.0,9.0,7.0,7.0,9.0,10.0,10.0,10.0,10.0,10.0,10.0,9.0,10.0,7.0,10.0,9.0,10.0,10.0,10.0,8.0,8.0,8.0,10.0,10.0,10.0,10.0,8.0,10.0,10.0,4.0,9.0,10.0,7.0,7.0,9.0,7.0,8.0,10.0,10.0,8.0,4.0,9.0,9.0,8.0,10.0,10.0,4.0,9.0,9.0,10.0,10.0,9.0,8.0,6.0,9.0,9.0,4.0,10.0,10.0,9.0,9.0,7.0,8.0,8.0,7.0,10.0,10.0,10.0,9.0,10.0,9.0,10.0,7.0,4.0,10.0,10.0,9.0,10.0,9.0,9.0,9.0,9.0,10.0,10.0,10.0,10.0,9.0,8.0,10.0,10.0,5.0,10.0,8.0,9.0,10.0,10.0,9.0,7.0,9.0,9.0,2.0,7.0,10.0,9.0,10.0,10.0,8.0,8.0,10.0,10.0,8.0,8.0,9.0,10.0,10.0,10.0,8.0,10.0,9.0,10.0,9.0,10.0,10.0,6.0,9.0,9.0,9.0,10.0,10.0,10.0,9.0,10.0,9.0,10.0,9.0,9.0,9.0,10.0,10.0,10.0,10.0,8.0,10.0,10.0,10.0,9.0,10.0,8.0,8.0,9.0,9.0,9.0,9.0,10.0,9.0,10.0,8.0,10.0,10.0,7.0,10.0,9.0,10.0,7.0,8.0,9.0,4.0,9.0,9.0,10.0,10.0,10.0,10.0,9.0,10.0,9.0,9.0,10.0,7.0,9.0,7.0,9.0,null,9.0,10.0,10.0,6.0,10.0,9.0,10.0,9.0,8.0,10.0,9.0,10.0,9.0,9.0,7.0,10.0,10.0,9.0,10.0,8.0,9.0,9.0,9.0,10.0,10.0,10.0,9.0,10.0,7.0,5.0,6.0,10.0,4.0,10.0,10.0,8.0,4.0,10.0,8.0,9.0,6.0,8.0,9.0,10.0,9.0,4.0,8.0,9.0,10.0,10.0,9.0,9.0,8.0,7.0,9.0,8.0,7.0,10.0,8.0,10.0,10.0,10.0,7.0,9.0,2.0,10.0,7.0,9.0,9.0,10.0,7.0,8.0,8.0,10.0,10.0,9.0,7.0,8.0,9.0,5.0,9.0,9.0,10.0,10.0,9.0,9.0,10.0,9.0,5.0,4.0,10.0,9.0,10.0,10.0,10.0,8.0,8.0,10.0,10.0,1.0,8.0,8.0,9.0,9.0,7.0,8.0,8.0,10.0,10.0,8.0,10.0,10.0,10.0,9.0,9.0,8.0,10.0,9.0,10.0,3.0,9.0,9.0,8.0,10.0,8.0,10.0,9.0,10.0,10.0,9.0,10.0,7.0,5.0,9.0,9.0,8.0,6.0,9.0,8.0,10.0,0.0,10.0,10.0,8.0,9.0,10.0,10.0,10.0,10.0,7.0,8.0,9.0,9.0,7.0,10.0,10.0,8.0,8.0,10.0,10.0,10.0,9.0,4.0,10.0,9.0,8.0,9.0,10.0,10.0,10.0,10.0,10.0,7.0,10.0,10.0,10.0,8.0,null,6.0,7.0,4.0,9.0,8.0,8.0,7.0,9.0,9.0,9.0,6.0,9.0,8.0,8.0,9.0,10.0,10.0,10.0,9.0,10.0,8.0,9.0,10.0,10.0,9.0,10.0,8.0,10.0,10.0,9.0,10.0,9.0,10.0,9.0,10.0,9.0,9.0,9.0,10.0,10.0,3.0,8.0,7.0,10.0,10.0,8.0,10.0,8.0,10.0,7.0,10.0,9.0,10.0,9.0,9.0,10.0,9.0,9.0,9.0,7.0,10.0,8.0,10.0,10.0,9.0,9.0,10.0,10.0,6.0,9.0,9.0,10.0,10.0,8.0,7.0,9.0,10.0,9.0,10.0,8.0,3.0,8.0,10.0,8.0,9.0,9.0,8.0,10.0,8.0,9.0,8.0,9.0,10.0,10.0,10.0,10.0,10.0,6.0,8.0,8.0,9.0,9.0,9.0,9.0,9.0,2.0,6.0,9.0,10.0,10.0,10.0,10.0,10.0,10.0,9.0,9.0,10.0,10.0,6.0,3.0,6.0,9.0,10.0,8.0,7.0,5.0,8.0,9.0,10.0,9.0,10.0,8.0,7.0,5.0,9.0,7.0,10.0,7.0,10.0,10.0,8.0,10.0,9.0,10.0,10.0,10.0,8.0,9.0,2.0,10.0,9.0,10.0,7.0,10.0,6.0,10.0,7.0,8.0,10.0,10.0,10.0,10.0,10.0,10.0,9.0,10.0,9.0,10.0,10.0,10.0,10.0,8.0,10.0,3.0,9.0,9.0,10.0,10.0,10.0,9.0,10.0,10.0,6.0,8.0,9.0,10.0,9.0,9.0,9.0,9.0,10.0,7.0,10.0,10.0,7.0,9.0,10.0,10.0,4.0,7.0,6.0,3.0,9.0,10.0,9.0,10.0,10.0,10.0,8.0,10.0,10.0,9.0,10.0,9.0,6.0,9.0,9.0,10.0,7.0,10.0,7.0,9.0,8.0,7.0,6.0,8.0,9.0,8.0,10.0,10.0,8.0,10.0,10.0,9.0,10.0,10.0,7.0,10.0,7.0,10.0,10.0,9.0,10.0,6.0,6.0,10.0,9.0,8.0,7.0,8.0,9.0,10.0,10.0,9.0,10.0,10.0,10.0,10.0,10.0,10.0,9.0,10.0,9.0,9.0,6.0,10.0,7.0,9.0,6.0,10.0,9.0,10.0,8.0,8.0,6.0,10.0,8.0,9.0,10.0,8.0,10.0,10.0,10.0,9.0,10.0,9.0,8.0,10.0,9.0,10.0,10.0,9.0,10.0,10.0,7.0,9.0,8.0,7.0,9.0,8.0,10.0,10.0,10.0,9.0,9.0,8.0,10.0,10.0,9.0,8.0,8.0,10.0,7.0,10.0,9.0,7.0,10.0,10.0,10.0,5.0,10.0,8.0,8.0,10.0,10.0,9.0,10.0,6.0,10.0,10.0,10.0,9.0,7.0,3.0,10.0,6.0,10.0,10.0,9.0,9.0,10.0,10.0,10.0,10.0,9.0,10.0,8.0,10.0,10.0,10.0,10.0,9.0,8.0,10.0,10.0,10.0,9.0,10.0,10.0,9.0,3.0,9.0,10.0,6.0,10.0,10.0,10.0,10.0,10.0,10.0,2.0,10.0,9.0,10.0,10.0,10.0,10.0,8.0,10.0,10.0,10.0,9.0,10.0,9.0,10.0,10.0,8.0,10.0,10.0,9.0,9.0,9.0,9.0,9.0,10.0,10.0,10.0,9.0,10.0,9.0,7.0,10.0,10.0,8.0,10.0,9.0,7.0,10.0,10.0,10.0,10.0,9.0,10.0,9.0,7.0,10.0,10.0,10.0,9.0,9.0,10.0,10.0,10.0,9.0,3.0,10.0,10.0,9.0,10.0,10.0,10.0,8.0,10.0,9.0,10.0,10.0,10.0,9.0,7.0,9.0,8.0,10.0,8.0,10.0,7.0,10.0,6.0,9.0,10.0,9.0,8.0,10.0,10.0,9.0,10.0,7.0,8.0,9.0,8.0,10.0,9.0,6.0,9.0,10.0,10.0,9.0,10.0,10.0,10.0,10.0,9.0,10.0,9.0,10.0,10.0,9.0,10.0,10.0,10.0,8.0,8.0,10.0,9.0,10.0,9.0,9.0,5.0,8.0,10.0,10.0,9.0,10.0,10.0,8.0,5.0,8.0,9.0,10.0,10.0,8.0,10.0,10.0,10.0,10.0,8.0,10.0,9.0,9.0,9.0,9.0,9.0,10.0,8.0,10.0,10.0,9.0,9.0,9.0,8.0,10.0,10.0,8.0,8.0,10.0,10.0,10.0,8.0,10.0,8.0,8.0,9.0,6.0,10.0,10.0,8.0,4.0,9.0,10.0,8.0,10.0,10.0,10.0,9.0,10.0,10.0,6.0,10.0,9.0,10.0,9.0,10.0,6.0,9.0,8.0,10.0,10.0,9.0,10.0,4.0,10.0,10.0,9.0,9.0,10.0,9.0,7.0,10.0,9.0,1.0,10.0,9.0,9.0,10.0,5.0,10.0,5.0,7.0,10.0,7.0,10.0,10.0,9.0,9.0,10.0,8.0,6.0,8.0,8.0,10.0,9.0,10.0,9.0,5.0,9.0,8.0,10.0,9.0,10.0,10.0,8.0,10.0,9.0,10.0,10.0,10.0,9.0,8.0,10.0,9.0,10.0,10.0,10.0,10.0,null,8.0,9.0,10.0,9.0,10.0,10.0,7.0,9.0,8.0,10.0,10.0,10.0,10.0,7.0,8.0,9.0,9.0,8.0,6.0,10.0,8.0,9.0,9.0,10.0,9.0,10.0,9.0,10.0,10.0,9.0,10.0,10.0,9.0,8.0,10.0,10.0,10.0,10.0,10.0,10.0,9.0,9.0,10.0,10.0,10.0,3.0,10.0,9.0,10.0,10.0,10.0,5.0,10.0,9.0,10.0,1.0,9.0,10.0,7.0,10.0,10.0,6.0,8.0,8.0,9.0,10.0,10.0,9.0,9.0,10.0,9.0,10.0,10.0,9.0,10.0,9.0,9.0,10.0,1.0,10.0,10.0,8.0,10.0,10.0,9.0,5.0,9.0,10.0,10.0,7.0,10.0,10.0,10.0,9.0,10.0,6.0,10.0,9.0,9.0,9.0,10.0,10.0,10.0,10.0,9.0,8.0,7.0,10.0,10.0,9.0,9.0,10.0,4.0,10.0,5.0,10.0,10.0,10.0,9.0,9.0,9.0,7.0,3.0,9.0,9.0,10.0,10.0,9.0,10.0,10.0,10.0,10.0,10.0,10.0,10.0,10.0,9.0,10.0,10.0,10.0,10.0,6.0,10.0,10.0,9.0,5.0,10.0,9.0,10.0,7.0,10.0,8.0,9.0,9.0,8.0,6.0,7.0,7.0,4.0,10.0,9.0,9.0,5.0,10.0,9.0,9.0,10.0,5.0,10.0,10.0,10.0,7.0,9.0,4.0,9.0,10.0,10.0,7.0,2.0,8.0,10.0,4.0,9.0,10.0,9.0,7.0,8.0,9.0,10.0,10.0,10.0,10.0,10.0,6.0,9.0,7.0,10.0,10.0,9.0,9.0,8.0,10.0,9.0,8.0,3.0,8.0,9.0,10.0,8.0,10.0,9.0,10.0,5.0,6.0,8.0,9.0,10.0,8.0,5.0,10.0,7.0,10.0,6.0,7.0,10.0,10.0,10.0,9.0,8.0,8.0,9.0,10.0,7.0,8.0,9.0,9.0,10.0,10.0,9.0,10.0,8.0,7.0,10.0,10.0,10.0,10.0,10.0,9.0,5.0,9.0,10.0,8.0,8.0,10.0,10.0,8.0,8.0,9.0,10.0,10.0,8.0,10.0,7.0,9.0,10.0,2.0,1.0,1.0,1.0,2.0,2.0,2.0,2.0,2.0,2.0,2.0,2.0,2.0,3.0,3.0,3.0,3.0,3.0,3.0,3.0,3.0,3.0,3.0,3.0,3.0,3.0,3.0,3.0,4.0,4.0,4.0,4.0,4.0,4.0,4.0,4.0,4.0,4.0,4.0,4.0,4.0,4.0,4.0,4.0,4.0,4.0,4.0,4.0,4.0,4.0,4.0,4.0,4.0,4.0,4.0,4.0,4.0,4.0,4.0,4.0,4.0,4.0,5.0,5.0,5.0,5.0,5.0,5.0,5.0,5.0,5.0,5.0,5.0,5.0,5.0,5.0,5.0,5.0,5.0,5.0,5.0,5.0,5.0,5.0,5.0,5.0,5.0,5.0,5.0,5.0,5.0,5.0,5.0,5.0,5.0,5.0,5.0,5.0,5.0,5.0,5.0,5.0,5.0,5.0,5.0,5.0,5.0,5.0,5.0,5.0,5.0,5.0,5.0,5.0,5.0,5.0,5.0,5.0,5.0,6.0,6.0,6.0,6.0,6.0,6.0,6.0,6.0,6.0,6.0,6.0,6.0,6.0,6.0,6.0,6.0,6.0,6.0,6.0,6.0,6.0,6.0,6.0,6.0,6.0,6.0,6.0,6.0,6.0,6.0,6.0,6.0,6.0,6.0,6.0,6.0,6.0,6.0,6.0,6.0,6.0,6.0,6.0,6.0,6.0,6.0,6.0,6.0,6.0,6.0,6.0,6.0,6.0,6.0,6.0,6.0,6.0,6.0,6.0,6.0,6.0,6.0,6.0,6.0,6.0,6.0,6.0,6.0,6.0,6.0,6.0,6.0,6.0,6.0,6.0,6.0,6.0,6.0,6.0,6.0,6.0,6.0,6.0,6.0,6.0,6.0,6.0,6.0,6.0,6.0,6.0,6.0,6.0,6.0,6.0,6.0,6.0,7.0,7.0,7.0,7.0,7.0,7.0,7.0,7.0,7.0,7.0,7.0,7.0,7.0,7.0,7.0,7.0,7.0,7.0,7.0,7.0,7.0,7.0,7.0,7.0,7.0,7.0,7.0,7.0,7.0,7.0,7.0,7.0,7.0,7.0,7.0,7.0,7.0,7.0,7.0,7.0,7.0,7.0,7.0,7.0,7.0,7.0,7.0,7.0,7.0,7.0,7.0,7.0,7.0,7.0,7.0,7.0,7.0,7.0,7.0,7.0,7.0,7.0,7.0,7.0,7.0,7.0,7.0,7.0,7.0,7.0,7.0,7.0,7.0,7.0,7.0,7.0,7.0,7.0,7.0,7.0,7.0,7.0,7.0,7.0,7.0,7.0,7.0,7.0,7.0,7.0,7.0,7.0,7.0,7.0,7.0,7.0,7.0,7.0,7.0,7.0,7.0,7.0,7.0,7.0,7.0,7.0,7.0,7.0,7.0,7.0,7.0,7.0,7.0,7.0,7.0,7.0,7.0,7.0,7.0,7.0,7.0,7.0,7.0,7.0,7.0,7.0,7.0,7.0,7.0,7.0,7.0,7.0,7.0,7.0,7.0,7.0,7.0,7.0,7.0,7.0,7.0,7.0,7.0,7.0,7.0,7.0,7.0,7.0,7.0,7.0,7.0,7.0,7.0,7.0,7.0,7.0,7.0,7.0,8.0,8.0,8.0,8.0,8.0,8.0,8.0,8.0,8.0,8.0,8.0,8.0,8.0,8.0,8.0,8.0,8.0,8.0,8.0,8.0,8.0,8.0,8.0,8.0,8.0,8.0,8.0,8.0,8.0,8.0,8.0,8.0,8.0,8.0,8.0,8.0,8.0,8.0,8.0,8.0,8.0,8.0,8.0,8.0,8.0,8.0,8.0,8.0,8.0,8.0,8.0,8.0,8.0,8.0,8.0,8.0,8.0,8.0,8.0,8.0,8.0,8.0,8.0,8.0,8.0,8.0,8.0,8.0,8.0,8.0,8.0,8.0,8.0,8.0,8.0,8.0,8.0,8.0,8.0,8.0,8.0,8.0,8.0,8.0,8.0,8.0,8.0,8.0,8.0,8.0,8.0,8.0,8.0,8.0,8.0,8.0,8.0,8.0,8.0,8.0,8.0,8.0,8.0,8.0,8.0,8.0,8.0,8.0,8.0,8.0,8.0,8.0,8.0,8.0,8.0,8.0,8.0,8.0,8.0,8.0,8.0,8.0,8.0,8.0,8.0,8.0,8.0,8.0,8.0,8.0,8.0,8.0,8.0,8.0,8.0,8.0,8.0,8.0,8.0,8.0,8.0,8.0,8.0,8.0,8.0,8.0,8.0,8.0,8.0,8.0,8.0,8.0,8.0,8.0,8.0,8.0,8.0,8.0,8.0,8.0,8.0,8.0,8.0,8.0,8.0,8.0,8.0,8.0,8.0,8.0,8.0,8.0,8.0,8.0,8.0,8.0,8.0,8.0,8.0,8.0,8.0,8.0,8.0,8.0,8.0,8.0,8.0,8.0,8.0,8.0,8.0,8.0,8.0,8.0,8.0,8.0,8.0,8.0,8.0,8.0,8.0,8.0,8.0,8.0,8.0,8.0,8.0,8.0,8.0,8.0,8.0,8.0,8.0,8.0,8.0,8.0,8.0,8.0,8.0,8.0,8.0,8.0,8.0,8.0,8.0,8.0,8.0,8.0,8.0,8.0,8.0,8.0,8.0,8.0,8.0,8.0,8.0,8.0,8.0,8.0,8.0,8.0,8.0,8.0,8.0,8.0,8.0,8.0,8.0,8.0,8.0,8.0,8.0,8.0,8.0,8.0,8.0,8.0,8.0,8.0,8.0,8.0,8.0,8.0,8.0,8.0,8.0,8.0,8.0,8.0,8.0,9.0,9.0,9.0,9.0,9.0,9.0,9.0,9.0,9.0,9.0,9.0,9.0,9.0,9.0,9.0,9.0,9.0,9.0,9.0,9.0,9.0,9.0,9.0,9.0,9.0,9.0,9.0,9.0,9.0,9.0,9.0,9.0,9.0,9.0,9.0,9.0,9.0,9.0,9.0,9.0,9.0,9.0,9.0,9.0,9.0,9.0,9.0,9.0,9.0,9.0,9.0,9.0,9.0,9.0,9.0,9.0,9.0,9.0,9.0,9.0,9.0,9.0,9.0,9.0,9.0,9.0,9.0,9.0,9.0,9.0,9.0,9.0,9.0,9.0,9.0,9.0,9.0,9.0,9.0,9.0,9.0,9.0,9.0,9.0,9.0,9.0,9.0,9.0,9.0,9.0,9.0,9.0,9.0,9.0,9.0,9.0,9.0,9.0,9.0,9.0,9.0,9.0,9.0,9.0,9.0,9.0,9.0,9.0,9.0,9.0,9.0,9.0,9.0,9.0,9.0,9.0,9.0,9.0,9.0,9.0,9.0,9.0,9.0,9.0,9.0,9.0,9.0,9.0,9.0,9.0,9.0,9.0,9.0,9.0,9.0,9.0,9.0,9.0,9.0,9.0,9.0,9.0,9.0,9.0,9.0,9.0,9.0,9.0,9.0,9.0,9.0,9.0,9.0,9.0,9.0,9.0,9.0,9.0,9.0,9.0,9.0,9.0,9.0,9.0,9.0,9.0,9.0,9.0,9.0,9.0,9.0,9.0,9.0,9.0,9.0,9.0,9.0,9.0,9.0,9.0,9.0,9.0,9.0,9.0,9.0,9.0,9.0,9.0,9.0,9.0,9.0,9.0,9.0,9.0,9.0,9.0,9.0,9.0,9.0,9.0,9.0,9.0,9.0,9.0,9.0,9.0,9.0,9.0,9.0,9.0,9.0,9.0,9.0,9.0,9.0,9.0,9.0,9.0,9.0,9.0,9.0,9.0,9.0,9.0,9.0,9.0,9.0,9.0,9.0,9.0,9.0,9.0,9.0,9.0,9.0,9.0,9.0,9.0,9.0,9.0,9.0,9.0,9.0,9.0,9.0,9.0,9.0,9.0,9.0,9.0,9.0,9.0,9.0,9.0,9.0,9.0,9.0,9.0,9.0,9.0,9.0,9.0,9.0,9.0,9.0,9.0,9.0,9.0,9.0,9.0,9.0,9.0,9.0,9.0,9.0,9.0,9.0,9.0,9.0,9.0,9.0,9.0,9.0,9.0,9.0,9.0,9.0,9.0,9.0,9.0,9.0,9.0,10.0,10.0,10.0,10.0,10.0,10.0,10.0,10.0,10.0,10.0,10.0,10.0,10.0,10.0,10.0,10.0,10.0,10.0,10.0,10.0,10.0,10.0,10.0,10.0,10.0,10.0,10.0,10.0,10.0,10.0,10.0,10.0,10.0,10.0,10.0,10.0,10.0,10.0,10.0,10.0,10.0,10.0,10.0,10.0,10.0,10.0,10.0,10.0,10.0,10.0,10.0,10.0,10.0,10.0,10.0,10.0,10.0,10.0,10.0,10.0,10.0,10.0,10.0,10.0,10.0,10.0,10.0,10.0,10.0,10.0,10.0,10.0,10.0,10.0,10.0,10.0,10.0,10.0,10.0,10.0,10.0,10.0,10.0,10.0,10.0,10.0,10.0,10.0,10.0,10.0,10.0,10.0,10.0,10.0,10.0,10.0,10.0,10.0,10.0,10.0,10.0,10.0,10.0,10.0,10.0,10.0,10.0,10.0,10.0,10.0,10.0,10.0,10.0,10.0,10.0,10.0,10.0,10.0,10.0,10.0,10.0,10.0,10.0,10.0,10.0,10.0,10.0,10.0,10.0,10.0,10.0,10.0,10.0,10.0,10.0,10.0,10.0,10.0,10.0,10.0,10.0,10.0,10.0,10.0,10.0,10.0,10.0,10.0,10.0,10.0,10.0,10.0,10.0,10.0,10.0,10.0,10.0,10.0,10.0,10.0,10.0,10.0,10.0,10.0,10.0,10.0,10.0,10.0,10.0,10.0,10.0,10.0,10.0,10.0,10.0,10.0,10.0,10.0,10.0,10.0,10.0,10.0,10.0,10.0,10.0,10.0,10.0,10.0,10.0,10.0,10.0,10.0,10.0,10.0,10.0,10.0,10.0,10.0,10.0,10.0,10.0,10.0,10.0,10.0,10.0,10.0,1.0,2.0,2.0,2.0,3.0,3.0,3.0,4.0,4.0,4.0,4.0,4.0,4.0,4.0,4.0,4.0,5.0,5.0,5.0,5.0,5.0,5.0,6.0,6.0,6.0,6.0,6.0,6.0,6.0,6.0,6.0,6.0,6.0,6.0,6.0,6.0,6.0,6.0,6.0,6.0,7.0,7.0,7.0,7.0,7.0,7.0,7.0,7.0,7.0,7.0,7.0,7.0,7.0,7.0,7.0,7.0,7.0,7.0,7.0,7.0,7.0,7.0,7.0,7.0,7.0,7.0,7.0,7.0,8.0,8.0,8.0,8.0,8.0,8.0,8.0,8.0,8.0,8.0,8.0,8.0,8.0,8.0,8.0,8.0,8.0,8.0,8.0,8.0,8.0,8.0,8.0,8.0,8.0,8.0,8.0,8.0,8.0,8.0,8.0,8.0,9.0,9.0,9.0,9.0,9.0,9.0,9.0,9.0,9.0,9.0,9.0,9.0,9.0,9.0,9.0,9.0,9.0,9.0,9.0,9.0,9.0,9.0,9.0,9.0,9.0,9.0,9.0,9.0,9.0,9.0,9.0,9.0,9.0,9.0,9.0,9.0,9.0,9.0,9.0,9.0,9.0,9.0,9.0,9.0,9.0,9.0,9.0,9.0,9.0,9.0,9.0,9.0,9.0,10.0,10.0,10.0,10.0,10.0,10.0,10.0,10.0,10.0,10.0,10.0,10.0,10.0,10.0,10.0,10.0,10.0,10.0,10.0,10.0,10.0,10.0,10.0,10.0,10.0,10.0,10.0,10.0,10.0,10.0,10.0,10.0,10.0,10.0,10.0,10.0,10.0,10.0,10.0,10.0,10.0,null,10.0,6.0,10.0,6.0,10.0,8.0,10.0,8.0,10.0,10.0,8.0,6.0,4.0,9.0,10.0,10.0,10.0,10.0,null,9.0,9.0,9.0,3.0,10.0,10.0,9.0,9.0,9.0,9.0,5.0,9.0,6.0,10.0,9.0,10.0,8.0,9.0,9.0,10.0,5.0,6.0,5.0,8.0,7.0,10.0,8.0,8.0,3.0,7.0,8.0,7.0,10.0,8.0,8.0,10.0,8.0,6.0,7.0,7.0,10.0,10.0,7.0,10.0,8.0,5.0,8.0,8.0,6.0,9.0,8.0,10.0,8.0,9.0,5.0,6.0,9.0,7.0,10.0,4.0,6.0,8.0,7.0,7.0,6.0,5.0,1.0,2.0,2.0,2.0,2.0,2.0,3.0,3.0,3.0,3.0,3.0,3.0,4.0,4.0,4.0,4.0,6.0,6.0,6.0,6.0,6.0,6.0,6.0,6.0,6.0,6.0,6.0,6.0,6.0,6.0,6.0,6.0,6.0,6.0,6.0,6.0,6.0,6.0,6.0,6.0,6.0,6.0,6.0,6.0,6.0,6.0,6.0,6.0,6.0,6.0,6.0,6.0,6.0,6.0,7.0,7.0,7.0,7.0,7.0,7.0,7.0,7.0,7.0,7.0,7.0,7.0,7.0,7.0,7.0,7.0,7.0,7.0,7.0,7.0,7.0,7.0,7.0,7.0,7.0,7.0,7.0,7.0,7.0,8.0,8.0,8.0,8.0,8.0,8.0,8.0,8.0,8.0,8.0,8.0,8.0,8.0,8.0,8.0,8.0,8.0,8.0,8.0,8.0,8.0,8.0,8.0,8.0,8.0,8.0,8.0,8.0,8.0,8.0,8.0,8.0,8.0,8.0,8.0,8.0,8.0,8.0,8.0,8.0,9.0,9.0,9.0,9.0,9.0,9.0,9.0,9.0,9.0,9.0,9.0,9.0,9.0,9.0,9.0,9.0,9.0,9.0,9.0,9.0,9.0,9.0,9.0,9.0,9.0,9.0,9.0,9.0,9.0,9.0,9.0,9.0,9.0,9.0,9.0,9.0,9.0,9.0,9.0,9.0,9.0,9.0,9.0,9.0,9.0,9.0,9.0,9.0,9.0,9.0,9.0,9.0,10.0,10.0,10.0,10.0,10.0,10.0,10.0,10.0,10.0,10.0,10.0,10.0,10.0,10.0,10.0],\"xaxis\":\"x\",\"yaxis\":\"y\",\"type\":\"histogram\"},{\"alignmentgroup\":\"True\",\"bingroup\":\"x\",\"hovertemplate\":\"ETAPA=segunda\\u003cbr\\u003eNOTA=%{x}\\u003cbr\\u003ecount=%{y}\\u003cextra\\u003e\\u003c\\u002fextra\\u003e\",\"legendgroup\":\"segunda\",\"marker\":{\"color\":\"#EF553B\",\"pattern\":{\"shape\":\"\"}},\"name\":\"segunda\",\"offsetgroup\":\"segunda\",\"orientation\":\"v\",\"showlegend\":true,\"x\":[null,10.0,10.0,10.0,10.0,10.0,10.0,10.0,10.0,10.0,10.0,10.0,10.0,10.0,10.0,10.0,10.0,10.0,10.0,10.0,10.0,10.0,10.0,10.0,10.0,10.0,10.0,10.0,10.0,10.0,10.0,10.0,10.0,10.0,10.0,10.0,10.0,10.0,10.0,10.0,10.0,10.0,10.0,10.0,10.0,10.0,10.0,10.0,10.0,10.0,10.0,10.0,10.0,10.0,10.0,10.0,10.0,10.0,10.0,10.0,10.0,10.0,10.0,10.0,10.0,10.0,10.0,10.0,10.0,10.0,10.0,10.0,10.0,10.0,10.0,10.0,10.0,10.0,10.0,10.0,10.0,10.0,10.0,10.0,10.0,10.0,10.0,10.0,10.0,10.0,10.0,10.0,10.0,10.0,10.0,10.0,10.0,10.0,10.0,10.0,10.0,10.0,10.0,10.0,10.0,10.0,10.0,10.0,10.0,10.0,10.0,10.0,10.0,10.0,10.0,10.0,10.0,10.0,10.0,10.0,10.0,10.0,10.0,10.0,10.0,10.0,10.0,10.0,10.0,10.0,10.0,10.0,10.0,10.0,10.0,10.0,10.0,10.0,10.0,10.0,10.0,10.0,10.0,10.0,10.0,10.0,10.0,10.0,10.0,10.0,10.0,10.0,10.0,10.0,10.0,10.0,10.0,10.0,10.0,10.0,10.0,10.0,10.0,10.0,10.0,10.0,10.0,10.0,10.0,10.0,10.0,10.0,10.0,10.0,10.0,10.0,10.0,10.0,10.0,10.0,10.0,10.0,10.0,10.0,10.0,10.0,10.0,10.0,10.0,10.0,10.0,10.0,10.0,10.0,10.0,10.0,10.0,10.0,10.0,10.0,10.0,10.0,10.0,10.0,10.0,10.0,10.0,10.0,10.0,10.0,10.0,10.0,10.0,10.0,10.0,10.0,10.0,10.0,10.0,10.0,10.0,10.0,10.0,10.0,10.0,10.0,10.0,10.0,10.0,10.0,10.0,10.0,10.0,10.0,10.0,10.0,10.0,10.0,10.0,10.0,10.0,10.0,10.0,10.0,10.0,10.0,10.0,10.0,10.0,10.0,10.0,10.0,10.0,10.0,10.0,10.0,10.0,10.0,10.0,10.0,10.0,10.0,10.0,10.0,10.0,10.0,10.0,10.0,10.0,10.0,10.0,10.0,10.0,10.0,10.0,10.0,10.0,10.0,10.0,10.0,10.0,10.0,10.0,10.0,10.0,10.0,10.0,10.0,10.0,10.0,10.0,10.0,10.0,10.0,10.0,10.0,10.0,10.0,10.0,10.0,10.0,10.0,10.0,10.0,10.0,10.0,10.0,10.0,10.0,10.0,10.0,10.0,10.0,10.0,10.0,10.0,10.0,10.0,10.0,10.0,10.0,10.0,10.0,10.0,10.0,10.0,10.0,10.0,10.0,10.0,10.0,10.0,10.0,10.0,10.0,10.0,10.0,10.0,10.0,10.0,10.0,10.0,10.0,10.0,10.0,10.0,10.0,10.0,10.0,10.0,10.0,10.0,10.0,10.0,10.0,10.0,10.0,10.0,10.0,10.0,10.0,10.0,10.0,10.0,10.0,10.0,10.0,10.0,10.0,10.0,10.0,10.0,10.0,10.0,10.0,10.0,9.0,9.0,9.0,9.0,9.0,9.0,9.0,9.0,9.0,9.0,9.0,9.0,9.0,9.0,9.0,9.0,9.0,9.0,9.0,9.0,9.0,9.0,9.0,9.0,9.0,9.0,9.0,9.0,9.0,9.0,9.0,9.0,9.0,9.0,9.0,9.0,9.0,9.0,9.0,9.0,9.0,9.0,9.0,9.0,9.0,9.0,9.0,9.0,9.0,9.0,9.0,9.0,9.0,9.0,9.0,9.0,9.0,9.0,9.0,9.0,9.0,9.0,9.0,9.0,9.0,9.0,9.0,9.0,9.0,9.0,9.0,9.0,9.0,9.0,9.0,9.0,9.0,9.0,9.0,9.0,9.0,9.0,9.0,9.0,9.0,9.0,9.0,9.0,9.0,9.0,9.0,9.0,9.0,9.0,9.0,9.0,9.0,9.0,9.0,9.0,9.0,9.0,9.0,9.0,9.0,9.0,9.0,9.0,9.0,9.0,9.0,9.0,9.0,9.0,9.0,9.0,9.0,9.0,9.0,9.0,9.0,9.0,9.0,9.0,9.0,9.0,9.0,9.0,9.0,9.0,9.0,9.0,9.0,9.0,9.0,9.0,9.0,9.0,9.0,9.0,9.0,9.0,9.0,9.0,9.0,9.0,9.0,9.0,9.0,9.0,9.0,9.0,9.0,9.0,9.0,9.0,9.0,9.0,9.0,9.0,9.0,9.0,9.0,9.0,9.0,9.0,9.0,9.0,9.0,9.0,9.0,9.0,9.0,9.0,9.0,9.0,9.0,9.0,9.0,9.0,9.0,9.0,9.0,9.0,9.0,9.0,9.0,9.0,9.0,9.0,9.0,9.0,9.0,9.0,9.0,9.0,9.0,9.0,9.0,9.0,9.0,9.0,9.0,9.0,9.0,9.0,9.0,9.0,9.0,9.0,9.0,9.0,9.0,9.0,9.0,9.0,9.0,9.0,9.0,9.0,9.0,9.0,9.0,9.0,9.0,9.0,9.0,9.0,9.0,9.0,9.0,9.0,9.0,9.0,9.0,9.0,8.0,8.0,8.0,8.0,8.0,8.0,8.0,8.0,8.0,8.0,8.0,8.0,8.0,8.0,8.0,8.0,8.0,8.0,8.0,8.0,8.0,8.0,8.0,8.0,8.0,8.0,8.0,8.0,8.0,8.0,8.0,8.0,8.0,8.0,8.0,8.0,8.0,8.0,8.0,8.0,8.0,8.0,8.0,8.0,8.0,8.0,8.0,8.0,8.0,8.0,8.0,8.0,8.0,8.0,8.0,8.0,8.0,8.0,8.0,8.0,8.0,8.0,8.0,8.0,8.0,8.0,8.0,8.0,8.0,8.0,8.0,8.0,8.0,8.0,8.0,8.0,8.0,8.0,8.0,8.0,8.0,8.0,8.0,8.0,8.0,8.0,8.0,8.0,8.0,8.0,8.0,8.0,8.0,8.0,8.0,8.0,8.0,8.0,8.0,8.0,8.0,8.0,8.0,8.0,8.0,8.0,8.0,8.0,8.0,8.0,8.0,8.0,8.0,8.0,8.0,8.0,8.0,8.0,8.0,8.0,8.0,8.0,8.0,8.0,8.0,8.0,8.0,8.0,8.0,8.0,8.0,8.0,8.0,8.0,8.0,8.0,8.0,8.0,8.0,8.0,8.0,8.0,8.0,8.0,8.0,8.0,8.0,8.0,8.0,8.0,8.0,8.0,8.0,8.0,8.0,8.0,8.0,8.0,8.0,8.0,8.0,7.0,7.0,7.0,7.0,7.0,7.0,7.0,7.0,7.0,7.0,7.0,7.0,7.0,7.0,7.0,7.0,7.0,7.0,7.0,7.0,7.0,7.0,7.0,7.0,7.0,7.0,7.0,7.0,7.0,7.0,7.0,7.0,7.0,7.0,7.0,7.0,7.0,7.0,7.0,7.0,7.0,7.0,7.0,7.0,7.0,7.0,7.0,7.0,7.0,7.0,7.0,7.0,7.0,7.0,7.0,7.0,7.0,7.0,7.0,7.0,7.0,7.0,7.0,7.0,7.0,7.0,7.0,7.0,7.0,7.0,7.0,7.0,7.0,7.0,7.0,7.0,7.0,7.0,7.0,7.0,7.0,7.0,7.0,7.0,7.0,7.0,7.0,7.0,7.0,7.0,7.0,7.0,7.0,7.0,7.0,7.0,7.0,7.0,7.0,7.0,7.0,7.0,7.0,7.0,7.0,7.0,7.0,7.0,7.0,7.0,7.0,7.0,7.0,7.0,7.0,7.0,7.0,7.0,7.0,7.0,7.0,7.0,7.0,7.0,6.0,6.0,6.0,6.0,6.0,6.0,6.0,6.0,6.0,6.0,6.0,6.0,6.0,6.0,6.0,6.0,6.0,6.0,6.0,6.0,6.0,6.0,6.0,6.0,6.0,6.0,6.0,6.0,6.0,6.0,6.0,6.0,6.0,6.0,6.0,6.0,6.0,6.0,6.0,6.0,6.0,6.0,6.0,6.0,6.0,6.0,6.0,6.0,6.0,6.0,6.0,6.0,6.0,6.0,6.0,6.0,6.0,6.0,6.0,6.0,6.0,6.0,6.0,6.0,6.0,6.0,5.0,5.0,5.0,5.0,5.0,5.0,5.0,5.0,5.0,5.0,5.0,5.0,5.0,5.0,5.0,5.0,5.0,5.0,5.0,5.0,5.0,5.0,5.0,5.0,5.0,5.0,5.0,5.0,5.0,5.0,5.0,5.0,5.0,5.0,5.0,5.0,5.0,5.0,5.0,5.0,5.0,5.0,5.0,5.0,5.0,5.0,5.0,5.0,5.0,5.0,5.0,5.0,5.0,4.0,4.0,4.0,4.0,4.0,4.0,4.0,4.0,4.0,4.0,4.0,4.0,4.0,4.0,4.0,4.0,4.0,4.0,4.0,4.0,4.0,4.0,4.0,4.0,4.0,4.0,3.0,3.0,3.0,3.0,3.0,3.0,3.0,3.0,3.0,3.0,3.0,3.0,3.0,3.0,3.0,3.0,3.0,3.0,3.0,2.0,2.0,2.0,2.0,2.0,1.0,1.0,1.0,9.0,8.0,7.0,9.0,8.0,6.0,8.0,8.0,6.0,8.0,8.0,8.0,9.0,7.0,9.0,9.0,9.0,6.0,9.0,10.0,9.0,4.0,8.0,8.0,7.0,8.0,8.0,9.0,10.0,8.0,8.0,8.0,7.0,8.0,4.0,9.0,7.0,4.0,8.0,7.0,7.0,6.0,7.0,7.0,8.0,8.0,8.0,8.0,6.0,8.0,8.0,9.0,7.0,9.0,7.0,8.0,8.0,8.0,9.0,6.0,4.0,7.0,8.0,7.0,7.0,9.0,8.0,8.0,4.0,8.0,8.0,10.0,9.0,7.0,8.0,9.0,8.0,4.0,9.0,8.0,6.0,8.0,7.0,7.0,8.0,8.0,8.0,8.0,3.0,9.0,9.0,6.0,8.0,9.0,7.0,8.0,7.0,8.0,8.0,8.0,8.0,6.0,6.0,7.0,6.0,9.0,7.0,10.0,7.0,8.0,9.0,9.0,8.0,8.0,6.0,8.0,9.0,8.0,7.0,8.0,7.0,4.0,10.0,7.0,6.0,9.0,9.0,9.0,7.0,9.0,8.0,8.0,8.0,7.0,9.0,8.0,8.0,5.0,10.0,9.0,7.0,8.0,8.0,4.0,9.0,7.0,10.0,8.0,10.0,9.0,8.0,8.0,9.0,8.0,8.0,10.0,8.0,9.0,9.0,9.0,9.0,6.0,9.0,6.0,10.0,6.0,6.0,9.0,3.0,7.0,8.0,9.0,3.0,6.0,8.0,7.0,8.0,8.0,9.0,8.0,7.0,8.0,6.0,8.0,9.0,9.0,6.0,9.0,9.0,8.0,9.0,7.0,7.0,7.0,8.0,8.0,9.0,9.0,6.0,4.0,7.0,8.0,8.0,7.0,6.0,7.0,8.0,6.0,9.0,8.0,7.0,9.0,6.0,7.0,8.0,9.0,9.0,9.0,9.0,8.0,8.0,8.0,1.0,7.0,7.0,8.0,8.0,7.0,8.0,8.0,6.0,6.0,9.0,7.0,9.0,5.0,9.0,8.0,7.0,9.0,8.0,8.0,6.0,6.0,6.0,9.0,9.0,7.0,8.0,8.0,7.0,9.0,8.0,9.0,8.0,7.0,10.0,7.0,6.0,4.0,8.0,8.0,8.0,10.0,6.0,8.0,7.0,7.0,6.0,9.0,8.0,6.0,6.0,6.0,8.0,6.0,7.0,2.0,7.0,9.0,9.0,8.0,6.0,10.0,9.0,6.0,9.0,7.0,7.0,10.0,7.0,8.0,9.0,8.0,8.0,9.0,9.0,8.0,10.0,6.0,8.0,8.0,9.0,10.0,8.0,6.0,8.0,8.0,7.0,8.0,7.0,8.0,9.0,5.0,9.0,8.0,8.0,9.0,8.0,9.0,6.0,6.0,8.0,6.0,7.0,8.0,6.0,8.0,8.0,9.0,7.0,7.0,8.0,9.0,8.0,7.0,8.0,2.0,10.0,7.0,8.0,9.0,6.0,6.0,8.0,9.0,9.0,10.0,8.0,2.0,8.0,6.0,7.0,6.0,9.0,7.0,9.0,8.0,8.0,9.0,9.0,9.0,8.0,9.0,10.0,4.0,4.0,8.0,8.0,6.0,8.0,10.0,7.0,8.0,8.0,9.0,8.0,9.0,8.0,8.0,2.0,8.0,9.0,8.0,8.0,10.0,8.0,9.0,9.0,9.0,8.0,8.0,6.0,6.0,7.0,9.0,9.0,8.0,10.0,6.0,8.0,8.0,7.0,9.0,8.0,8.0,7.0,6.0,8.0,6.0,4.0,6.0,6.0,8.0,8.0,8.0,6.0,10.0,8.0,10.0,7.0,8.0,8.0,7.0,6.0,8.0,3.0,8.0,9.0,8.0,10.0,4.0,9.0,9.0,8.0,8.0,9.0,9.0,6.0,7.0,8.0,8.0,6.0,3.0,8.0,6.0,8.0,8.0,9.0,7.0,9.0,9.0,10.0,6.0,8.0,8.0,7.0,9.0,6.0,7.0,8.0,7.0,9.0,7.0,8.0,8.0,8.0,8.0,9.0,9.0,7.0,10.0,8.0,7.0,8.0,8.0,8.0,8.0,9.0,9.0,10.0,6.0,6.0,7.0,8.0,8.0,9.0,8.0,8.0,8.0,7.0,6.0,9.0,8.0,8.0,7.0,8.0,9.0,8.0,10.0,4.0,9.0,8.0,7.0,7.0,8.0,7.0,9.0,10.0,7.0,6.0,10.0,8.0,7.0,9.0,8.0,8.0,9.0,9.0,9.0,8.0,9.0,8.0,7.0,8.0,8.0,9.0,8.0,7.0,8.0,6.0,8.0,6.0,10.0,9.0,7.0,8.0,8.0,9.0,8.0,8.0,7.0,8.0,8.0,7.0,10.0,8.0,7.0,6.0,8.0,8.0,7.0,9.0,9.0,8.0,9.0,9.0,8.0,8.0,8.0,8.0,8.0,3.0,8.0,4.0,6.0,9.0,8.0,9.0,8.0,9.0,8.0,6.0,7.0,7.0,8.0,7.0,10.0,10.0,7.0,7.0,8.0,8.0,9.0,7.0,8.0,4.0,6.0,8.0,8.0,10.0,9.0,6.0,6.0,9.0,9.0,6.0,10.0,8.0,2.0,9.0,8.0,8.0,8.0,9.0,10.0,8.0,8.0,7.0,10.0,7.0,10.0,9.0,6.0,10.0,8.0,9.0,7.0,7.0,7.0,8.0,8.0,10.0,9.0,8.0,6.0,8.0,9.0,10.0,8.0,8.0,8.0,6.0,9.0,6.0,8.0,10.0,8.0,7.0,8.0,8.0,6.0,7.0,8.0,8.0,8.0,7.0,9.0,8.0,7.0,8.0,8.0,8.0,8.0,7.0,8.0,9.0,5.0,7.0,8.0,8.0,3.0,6.0,8.0,8.0,7.0,9.0,9.0,7.0,9.0,7.0,8.0,1.0,8.0,3.0,9.0,10.0,9.0,8.0,8.0,6.0,6.0,8.0,7.0,2.0,9.0,9.0,8.0,10.0,7.0,8.0,7.0,9.0,9.0,8.0,7.0,8.0,9.0,10.0,9.0,8.0,9.0,8.0,8.0,9.0,9.0,7.0,7.0,9.0,9.0,8.0,8.0,8.0,8.0,9.0,9.0,8.0,8.0,8.0,6.0,9.0,6.0,8.0,8.0,8.0,9.0,7.0,9.0,8.0,6.0,9.0,8.0,7.0,9.0,4.0,4.0,6.0,8.0,10.0,3.0,7.0,9.0,8.0,8.0,7.0,6.0,8.0,9.0,8.0,4.0,8.0,8.0,9.0,8.0,9.0,4.0,8.0,8.0,8.0,8.0,4.0,7.0,7.0,10.0,9.0,10.0,7.0,8.0,8.0,4.0,8.0,6.0,8.0,9.0,8.0,7.0,3.0,9.0,8.0,8.0,9.0,10.0,8.0,9.0,3.0,7.0,8.0,9.0,6.0,8.0,9.0,8.0,9.0,4.0,6.0,8.0,6.0,9.0,6.0,7.0,8.0,2.0,10.0,6.0,8.0,7.0,7.0,8.0,9.0,8.0,7.0,8.0,7.0,8.0,8.0,8.0,8.0,8.0,9.0,8.0,9.0,8.0,8.0,6.0,8.0,8.0,6.0,7.0,8.0,6.0,7.0,7.0,8.0,6.0,6.0,4.0,9.0,8.0,8.0,8.0,8.0,9.0,8.0,6.0,6.0,7.0,6.0,2.0,8.0,8.0,7.0,8.0,6.0,8.0,9.0,8.0,8.0,8.0,8.0,9.0,10.0,7.0,8.0,7.0,9.0,8.0,9.0,9.0,9.0,9.0,4.0,8.0,7.0,7.0,9.0,6.0,3.0,8.0,2.0,8.0,8.0,9.0,2.0,8.0,8.0,9.0,8.0,10.0,7.0,2.0,7.0,9.0,10.0,10.0,6.0,10.0,8.0,9.0,8.0,8.0,6.0,8.0,6.0,8.0,6.0,8.0,9.0,8.0,8.0,8.0,7.0,9.0,7.0,4.0,9.0,8.0,7.0,3.0,8.0,7.0,9.0,8.0,8.0,6.0,8.0,9.0,9.0,8.0,8.0,3.0,6.0,9.0,8.0,9.0,7.0,7.0,8.0,9.0,6.0,9.0,9.0,8.0,8.0,9.0,10.0,8.0,10.0,10.0,8.0,8.0,9.0,8.0,9.0,8.0,8.0,4.0,3.0,8.0,9.0,8.0,8.0,8.0,8.0,8.0,9.0,0.0,2.0,2.0,3.0,3.0,3.0,3.0,3.0,3.0,3.0,3.0,4.0,4.0,4.0,4.0,4.0,4.0,4.0,4.0,4.0,4.0,4.0,5.0,5.0,5.0,5.0,5.0,5.0,5.0,5.0,5.0,5.0,6.0,6.0,6.0,6.0,6.0,6.0,6.0,6.0,6.0,6.0,6.0,6.0,6.0,7.0,7.0,7.0,7.0,7.0,7.0,7.0,7.0,7.0,7.0,7.0,7.0,7.0,7.0,7.0,7.0,7.0,7.0,7.0,7.0,8.0,8.0,8.0,8.0,8.0,8.0,8.0,8.0,8.0,8.0,8.0,8.0,8.0,8.0,8.0,8.0,8.0,8.0,8.0,8.0,8.0,8.0,8.0,8.0,9.0,9.0,9.0,9.0,9.0,9.0,9.0,9.0,9.0,9.0,9.0,9.0,9.0,9.0,9.0,9.0,9.0,9.0,9.0,9.0,9.0,9.0,9.0,9.0,9.0,9.0,9.0,9.0,9.0,9.0,9.0,10.0,10.0,10.0,10.0,10.0,10.0,10.0,10.0,10.0,10.0,10.0,10.0,10.0,10.0,10.0,10.0,10.0,10.0,10.0,10.0,10.0,9.0,6.0,6.0,8.0,6.0,4.0,7.0,8.0,8.0,7.0,4.0,4.0,6.0,6.0,6.0,6.0,7.0,3.0,6.0,5.0,9.0,4.0,8.0,7.0,3.0,6.0,4.0,7.0,4.0,6.0,7.0,3.0,6.0,6.0,6.0,7.0,9.0,6.0,6.0,4.0,4.0,2.0,8.0,6.0,9.0,8.0,5.0,7.0,1.0,4.0,7.0,4.0,2.0,8.0,6.0,7.0,6.0,6.0,6.0,3.0,2.0,6.0,4.0,9.0,5.0,7.0,6.0,8.0,7.0,7.0,2.0,7.0,4.0,6.0,6.0,7.0,8.0,8.0,4.0,7.0,7.0,6.0,3.0,6.0,7.0,6.0,4.0,7.0,2.0,4.0,6.0,7.0,4.0,8.0,2.0,3.0,9.0,9.0,6.0,7.0,6.0,8.0,4.0,3.0,8.0,8.0,9.0,6.0,9.0,7.0,5.0,4.0,7.0,3.0,7.0,8.0,4.0,8.0,6.0,6.0],\"xaxis\":\"x\",\"yaxis\":\"y\",\"type\":\"histogram\"},{\"alignmentgroup\":\"True\",\"bingroup\":\"x\",\"hovertemplate\":\"ETAPA=tercera\\u003cbr\\u003eNOTA=%{x}\\u003cbr\\u003ecount=%{y}\\u003cextra\\u003e\\u003c\\u002fextra\\u003e\",\"legendgroup\":\"tercera\",\"marker\":{\"color\":\"#00cc96\",\"pattern\":{\"shape\":\"\"}},\"name\":\"tercera\",\"offsetgroup\":\"tercera\",\"orientation\":\"v\",\"showlegend\":true,\"x\":[7.0,7.0,9.0,5.0,10.0,4.0,6.0,10.0,8.0,8.0,4.0,7.0,7.0,7.0,9.0,10.0,10.0,9.0,9.0,10.0,7.0,10.0,10.0,8.0,9.0,10.0,7.0,7.0,9.0,10.0,8.0,6.0,10.0,10.0,9.0,7.0,8.0,6.0,9.0,6.0,5.0,10.0,5.0,10.0,7.0,10.0,7.0,9.0,4.0,5.0,5.0,9.0,9.0,6.0,10.0,6.0,9.0,10.0,9.0,6.0,8.0,9.0,10.0,10.0,5.0,7.0,8.0,8.0,6.0,8.0,9.0,9.0,9.0,9.0,9.0,9.0,6.0,10.0,6.0,7.0,4.0,8.0,9.0,10.0,6.0,6.0,6.0,7.0,7.0,10.0,6.0,7.0,3.0,7.0,10.0,8.0,7.0,9.0,9.0,7.0,8.0,10.0,10.0,8.0,6.0,10.0,9.0,4.0,10.0,9.0,8.0,7.0,7.0,7.0,4.0,10.0,10.0,9.0,6.0,10.0,7.0,6.0,10.0,10.0,10.0,10.0,10.0,9.0,9.0,9.0,9.0,9.0,7.0,10.0,9.0,9.0,6.0,10.0,10.0,8.0,7.0,6.0,10.0,10.0,8.0,8.0,5.0,9.0,5.0,8.0,10.0,6.0,7.0,5.0,9.0,6.0,10.0,5.0,4.0,6.0,7.0,8.0,10.0,10.0,9.0,9.0,10.0,8.0,10.0,9.0,6.0,9.0,9.0,6.0,5.0,6.0,4.0,9.0,10.0,8.0,9.0,9.0,5.0,10.0,7.0,9.0,8.0,9.0,10.0,8.0,9.0,7.0,10.0,6.0,6.0,7.0,4.0,10.0,7.0,10.0,5.0,6.0,10.0,10.0,9.0,6.0,8.0,6.0,6.0,8.0,6.0,7.0,5.0,8.0,10.0,6.0,9.0,9.0,8.0,8.0,7.0,10.0,6.0,10.0,9.0,8.0,8.0,8.0,5.0,4.0,8.0,7.0,6.0,5.0,10.0,7.0,10.0,9.0,5.0,8.0,10.0,7.0,9.0,10.0,8.0,7.0,10.0,4.0,10.0,8.0,8.0,10.0,10.0,7.0,10.0,5.0,8.0,10.0,6.0,10.0,8.0,7.0,7.0,10.0,8.0,8.0,9.0,7.0,7.0,7.0,9.0,7.0,9.0,7.0,7.0,10.0,7.0,10.0,5.0,6.0,5.0,9.0,7.0,9.0,8.0,9.0,5.0,6.0,7.0,8.0,6.0,9.0,9.0,10.0,6.0,10.0,4.0,8.0,7.0,10.0,9.0,6.0,5.0,7.0,7.0,10.0,7.0,10.0,9.0,7.0,10.0,6.0,4.0,6.0,10.0,7.0,6.0,7.0,8.0,9.0,8.0,8.0,9.0,8.0,9.0,10.0,6.0,9.0,9.0,10.0,10.0,9.0,8.0,9.0,10.0,6.0,9.0,6.0,10.0,10.0,6.0,8.0,6.0,8.0,10.0,10.0,9.0,6.0,10.0,7.0,6.0,6.0,5.0,9.0,6.0,7.0,10.0,4.0,9.0,10.0,9.0,10.0,8.0,9.0,6.0,9.0,8.0,8.0,8.0,10.0,7.0,5.0,6.0,10.0,4.0,6.0,9.0,7.0,10.0,6.0,9.0,6.0,6.0,7.0,10.0,10.0,6.0,7.0,6.0,6.0,5.0,9.0,10.0,6.0,7.0,8.0,9.0,3.0,3.0,7.0,7.0,7.0,8.0,9.0,5.0,9.0,8.0,8.0,3.0,6.0,6.0,10.0,9.0,7.0,7.0,9.0,6.0,10.0,9.0,9.0,8.0,10.0,10.0,10.0,9.0,4.0,6.0,6.0,8.0,8.0,7.0,10.0,8.0,10.0,9.0,8.0,8.0,6.0,10.0,9.0,7.0,9.0,7.0,7.0,7.0,9.0,6.0,8.0,9.0,10.0,6.0,6.0,7.0,7.0,8.0,6.0,4.0,4.0,8.0,6.0,10.0,10.0,9.0,7.0,7.0,7.0,10.0,7.0,10.0,9.0,10.0,10.0,10.0,8.0,8.0,8.0,9.0,10.0,9.0,8.0,9.0,4.0,10.0,10.0,8.0,9.0,6.0,9.0,8.0,6.0,10.0,5.0,8.0,8.0,9.0,9.0,8.0,4.0,8.0,8.0,7.0,7.0,6.0,6.0,7.0,10.0,7.0,8.0,8.0,10.0,8.0,7.0,9.0,9.0,10.0,10.0,9.0,8.0,9.0,8.0,9.0,9.0,10.0,6.0,9.0,10.0,9.0,9.0,7.0,8.0,7.0,7.0,8.0,6.0,8.0,10.0,10.0,8.0,8.0,8.0,6.0,7.0,5.0,7.0,10.0,10.0,9.0,8.0,9.0,10.0,10.0,6.0,9.0,8.0,9.0,8.0,10.0,8.0,10.0,7.0,10.0,7.0,9.0,6.0,9.0,10.0,7.0,5.0,7.0,10.0,10.0,7.0,9.0,9.0,9.0,9.0,7.0,9.0,7.0,6.0,7.0,7.0,7.0,8.0,6.0,8.0,7.0,4.0,10.0,7.0,8.0,9.0,10.0,6.0,4.0,9.0,8.0,7.0,6.0,9.0,8.0,7.0,4.0,7.0,7.0,9.0,6.0,9.0,9.0,6.0,10.0,6.0,10.0,9.0,10.0,5.0,6.0,9.0,7.0,10.0,7.0,7.0,10.0,9.0,8.0,9.0,6.0,8.0,10.0,9.0,9.0,7.0,5.0,9.0,10.0,8.0,7.0,8.0,10.0,6.0,6.0,7.0,7.0,10.0,10.0,8.0,9.0,10.0,10.0,9.0,5.0,6.0,8.0,6.0,6.0,6.0,7.0,10.0,8.0,3.0,6.0,9.0,9.0,8.0,8.0,10.0,6.0,6.0,7.0,10.0,10.0,6.0,8.0,10.0,8.0,10.0,9.0,9.0,9.0,7.0,9.0,10.0,7.0,7.0,7.0,7.0,6.0,9.0,10.0,6.0,10.0,7.0,8.0,5.0,10.0,8.0,9.0,7.0,10.0,8.0,8.0,8.0,7.0,8.0,8.0,10.0,8.0,10.0,10.0,5.0,8.0,9.0,7.0,10.0,6.0,7.0,6.0,7.0,7.0,7.0,9.0,6.0,9.0,6.0,6.0,10.0,5.0,7.0,9.0,8.0,9.0,6.0,9.0,7.0,6.0,7.0,10.0,10.0,8.0,7.0,7.0,7.0,7.0,10.0,8.0,5.0,10.0,7.0,8.0,5.0,10.0,9.0,5.0,9.0,9.0,8.0,7.0,8.0,10.0,7.0,6.0,5.0,10.0,8.0,6.0,9.0,8.0,6.0,9.0,10.0,10.0,6.0,10.0,7.0,7.0,8.0,7.0,8.0,7.0,6.0,10.0,6.0,9.0,7.0,9.0,3.0,9.0,7.0,8.0,9.0,10.0,8.0,6.0,10.0,10.0,7.0,4.0,1.0,6.0,6.0,9.0,10.0,10.0,10.0,9.0,7.0,9.0,10.0,7.0,8.0,7.0,8.0,6.0,7.0,9.0,9.0,7.0,9.0,5.0,6.0,10.0,9.0,8.0,6.0,4.0,10.0,7.0,10.0,8.0,10.0,10.0,10.0,9.0,10.0,10.0,9.0,6.0,5.0,7.0,9.0,7.0,6.0,7.0,10.0,9.0,7.0,9.0,7.0,10.0,9.0,9.0,9.0],\"xaxis\":\"x\",\"yaxis\":\"y\",\"type\":\"histogram\"}],                        {\"template\":{\"data\":{\"histogram2dcontour\":[{\"type\":\"histogram2dcontour\",\"colorbar\":{\"outlinewidth\":0,\"ticks\":\"\"},\"colorscale\":[[0.0,\"#0d0887\"],[0.1111111111111111,\"#46039f\"],[0.2222222222222222,\"#7201a8\"],[0.3333333333333333,\"#9c179e\"],[0.4444444444444444,\"#bd3786\"],[0.5555555555555556,\"#d8576b\"],[0.6666666666666666,\"#ed7953\"],[0.7777777777777778,\"#fb9f3a\"],[0.8888888888888888,\"#fdca26\"],[1.0,\"#f0f921\"]]}],\"choropleth\":[{\"type\":\"choropleth\",\"colorbar\":{\"outlinewidth\":0,\"ticks\":\"\"}}],\"histogram2d\":[{\"type\":\"histogram2d\",\"colorbar\":{\"outlinewidth\":0,\"ticks\":\"\"},\"colorscale\":[[0.0,\"#0d0887\"],[0.1111111111111111,\"#46039f\"],[0.2222222222222222,\"#7201a8\"],[0.3333333333333333,\"#9c179e\"],[0.4444444444444444,\"#bd3786\"],[0.5555555555555556,\"#d8576b\"],[0.6666666666666666,\"#ed7953\"],[0.7777777777777778,\"#fb9f3a\"],[0.8888888888888888,\"#fdca26\"],[1.0,\"#f0f921\"]]}],\"heatmap\":[{\"type\":\"heatmap\",\"colorbar\":{\"outlinewidth\":0,\"ticks\":\"\"},\"colorscale\":[[0.0,\"#0d0887\"],[0.1111111111111111,\"#46039f\"],[0.2222222222222222,\"#7201a8\"],[0.3333333333333333,\"#9c179e\"],[0.4444444444444444,\"#bd3786\"],[0.5555555555555556,\"#d8576b\"],[0.6666666666666666,\"#ed7953\"],[0.7777777777777778,\"#fb9f3a\"],[0.8888888888888888,\"#fdca26\"],[1.0,\"#f0f921\"]]}],\"heatmapgl\":[{\"type\":\"heatmapgl\",\"colorbar\":{\"outlinewidth\":0,\"ticks\":\"\"},\"colorscale\":[[0.0,\"#0d0887\"],[0.1111111111111111,\"#46039f\"],[0.2222222222222222,\"#7201a8\"],[0.3333333333333333,\"#9c179e\"],[0.4444444444444444,\"#bd3786\"],[0.5555555555555556,\"#d8576b\"],[0.6666666666666666,\"#ed7953\"],[0.7777777777777778,\"#fb9f3a\"],[0.8888888888888888,\"#fdca26\"],[1.0,\"#f0f921\"]]}],\"contourcarpet\":[{\"type\":\"contourcarpet\",\"colorbar\":{\"outlinewidth\":0,\"ticks\":\"\"}}],\"contour\":[{\"type\":\"contour\",\"colorbar\":{\"outlinewidth\":0,\"ticks\":\"\"},\"colorscale\":[[0.0,\"#0d0887\"],[0.1111111111111111,\"#46039f\"],[0.2222222222222222,\"#7201a8\"],[0.3333333333333333,\"#9c179e\"],[0.4444444444444444,\"#bd3786\"],[0.5555555555555556,\"#d8576b\"],[0.6666666666666666,\"#ed7953\"],[0.7777777777777778,\"#fb9f3a\"],[0.8888888888888888,\"#fdca26\"],[1.0,\"#f0f921\"]]}],\"surface\":[{\"type\":\"surface\",\"colorbar\":{\"outlinewidth\":0,\"ticks\":\"\"},\"colorscale\":[[0.0,\"#0d0887\"],[0.1111111111111111,\"#46039f\"],[0.2222222222222222,\"#7201a8\"],[0.3333333333333333,\"#9c179e\"],[0.4444444444444444,\"#bd3786\"],[0.5555555555555556,\"#d8576b\"],[0.6666666666666666,\"#ed7953\"],[0.7777777777777778,\"#fb9f3a\"],[0.8888888888888888,\"#fdca26\"],[1.0,\"#f0f921\"]]}],\"mesh3d\":[{\"type\":\"mesh3d\",\"colorbar\":{\"outlinewidth\":0,\"ticks\":\"\"}}],\"scatter\":[{\"fillpattern\":{\"fillmode\":\"overlay\",\"size\":10,\"solidity\":0.2},\"type\":\"scatter\"}],\"parcoords\":[{\"type\":\"parcoords\",\"line\":{\"colorbar\":{\"outlinewidth\":0,\"ticks\":\"\"}}}],\"scatterpolargl\":[{\"type\":\"scatterpolargl\",\"marker\":{\"colorbar\":{\"outlinewidth\":0,\"ticks\":\"\"}}}],\"bar\":[{\"error_x\":{\"color\":\"#2a3f5f\"},\"error_y\":{\"color\":\"#2a3f5f\"},\"marker\":{\"line\":{\"color\":\"#E5ECF6\",\"width\":0.5},\"pattern\":{\"fillmode\":\"overlay\",\"size\":10,\"solidity\":0.2}},\"type\":\"bar\"}],\"scattergeo\":[{\"type\":\"scattergeo\",\"marker\":{\"colorbar\":{\"outlinewidth\":0,\"ticks\":\"\"}}}],\"scatterpolar\":[{\"type\":\"scatterpolar\",\"marker\":{\"colorbar\":{\"outlinewidth\":0,\"ticks\":\"\"}}}],\"histogram\":[{\"marker\":{\"pattern\":{\"fillmode\":\"overlay\",\"size\":10,\"solidity\":0.2}},\"type\":\"histogram\"}],\"scattergl\":[{\"type\":\"scattergl\",\"marker\":{\"colorbar\":{\"outlinewidth\":0,\"ticks\":\"\"}}}],\"scatter3d\":[{\"type\":\"scatter3d\",\"line\":{\"colorbar\":{\"outlinewidth\":0,\"ticks\":\"\"}},\"marker\":{\"colorbar\":{\"outlinewidth\":0,\"ticks\":\"\"}}}],\"scattermapbox\":[{\"type\":\"scattermapbox\",\"marker\":{\"colorbar\":{\"outlinewidth\":0,\"ticks\":\"\"}}}],\"scatterternary\":[{\"type\":\"scatterternary\",\"marker\":{\"colorbar\":{\"outlinewidth\":0,\"ticks\":\"\"}}}],\"scattercarpet\":[{\"type\":\"scattercarpet\",\"marker\":{\"colorbar\":{\"outlinewidth\":0,\"ticks\":\"\"}}}],\"carpet\":[{\"aaxis\":{\"endlinecolor\":\"#2a3f5f\",\"gridcolor\":\"white\",\"linecolor\":\"white\",\"minorgridcolor\":\"white\",\"startlinecolor\":\"#2a3f5f\"},\"baxis\":{\"endlinecolor\":\"#2a3f5f\",\"gridcolor\":\"white\",\"linecolor\":\"white\",\"minorgridcolor\":\"white\",\"startlinecolor\":\"#2a3f5f\"},\"type\":\"carpet\"}],\"table\":[{\"cells\":{\"fill\":{\"color\":\"#EBF0F8\"},\"line\":{\"color\":\"white\"}},\"header\":{\"fill\":{\"color\":\"#C8D4E3\"},\"line\":{\"color\":\"white\"}},\"type\":\"table\"}],\"barpolar\":[{\"marker\":{\"line\":{\"color\":\"#E5ECF6\",\"width\":0.5},\"pattern\":{\"fillmode\":\"overlay\",\"size\":10,\"solidity\":0.2}},\"type\":\"barpolar\"}],\"pie\":[{\"automargin\":true,\"type\":\"pie\"}]},\"layout\":{\"autotypenumbers\":\"strict\",\"colorway\":[\"#636efa\",\"#EF553B\",\"#00cc96\",\"#ab63fa\",\"#FFA15A\",\"#19d3f3\",\"#FF6692\",\"#B6E880\",\"#FF97FF\",\"#FECB52\"],\"font\":{\"color\":\"#2a3f5f\"},\"hovermode\":\"closest\",\"hoverlabel\":{\"align\":\"left\"},\"paper_bgcolor\":\"white\",\"plot_bgcolor\":\"#E5ECF6\",\"polar\":{\"bgcolor\":\"#E5ECF6\",\"angularaxis\":{\"gridcolor\":\"white\",\"linecolor\":\"white\",\"ticks\":\"\"},\"radialaxis\":{\"gridcolor\":\"white\",\"linecolor\":\"white\",\"ticks\":\"\"}},\"ternary\":{\"bgcolor\":\"#E5ECF6\",\"aaxis\":{\"gridcolor\":\"white\",\"linecolor\":\"white\",\"ticks\":\"\"},\"baxis\":{\"gridcolor\":\"white\",\"linecolor\":\"white\",\"ticks\":\"\"},\"caxis\":{\"gridcolor\":\"white\",\"linecolor\":\"white\",\"ticks\":\"\"}},\"coloraxis\":{\"colorbar\":{\"outlinewidth\":0,\"ticks\":\"\"}},\"colorscale\":{\"sequential\":[[0.0,\"#0d0887\"],[0.1111111111111111,\"#46039f\"],[0.2222222222222222,\"#7201a8\"],[0.3333333333333333,\"#9c179e\"],[0.4444444444444444,\"#bd3786\"],[0.5555555555555556,\"#d8576b\"],[0.6666666666666666,\"#ed7953\"],[0.7777777777777778,\"#fb9f3a\"],[0.8888888888888888,\"#fdca26\"],[1.0,\"#f0f921\"]],\"sequentialminus\":[[0.0,\"#0d0887\"],[0.1111111111111111,\"#46039f\"],[0.2222222222222222,\"#7201a8\"],[0.3333333333333333,\"#9c179e\"],[0.4444444444444444,\"#bd3786\"],[0.5555555555555556,\"#d8576b\"],[0.6666666666666666,\"#ed7953\"],[0.7777777777777778,\"#fb9f3a\"],[0.8888888888888888,\"#fdca26\"],[1.0,\"#f0f921\"]],\"diverging\":[[0,\"#8e0152\"],[0.1,\"#c51b7d\"],[0.2,\"#de77ae\"],[0.3,\"#f1b6da\"],[0.4,\"#fde0ef\"],[0.5,\"#f7f7f7\"],[0.6,\"#e6f5d0\"],[0.7,\"#b8e186\"],[0.8,\"#7fbc41\"],[0.9,\"#4d9221\"],[1,\"#276419\"]]},\"xaxis\":{\"gridcolor\":\"white\",\"linecolor\":\"white\",\"ticks\":\"\",\"title\":{\"standoff\":15},\"zerolinecolor\":\"white\",\"automargin\":true,\"zerolinewidth\":2},\"yaxis\":{\"gridcolor\":\"white\",\"linecolor\":\"white\",\"ticks\":\"\",\"title\":{\"standoff\":15},\"zerolinecolor\":\"white\",\"automargin\":true,\"zerolinewidth\":2},\"scene\":{\"xaxis\":{\"backgroundcolor\":\"#E5ECF6\",\"gridcolor\":\"white\",\"linecolor\":\"white\",\"showbackground\":true,\"ticks\":\"\",\"zerolinecolor\":\"white\",\"gridwidth\":2},\"yaxis\":{\"backgroundcolor\":\"#E5ECF6\",\"gridcolor\":\"white\",\"linecolor\":\"white\",\"showbackground\":true,\"ticks\":\"\",\"zerolinecolor\":\"white\",\"gridwidth\":2},\"zaxis\":{\"backgroundcolor\":\"#E5ECF6\",\"gridcolor\":\"white\",\"linecolor\":\"white\",\"showbackground\":true,\"ticks\":\"\",\"zerolinecolor\":\"white\",\"gridwidth\":2}},\"shapedefaults\":{\"line\":{\"color\":\"#2a3f5f\"}},\"annotationdefaults\":{\"arrowcolor\":\"#2a3f5f\",\"arrowhead\":0,\"arrowwidth\":1},\"geo\":{\"bgcolor\":\"white\",\"landcolor\":\"#E5ECF6\",\"subunitcolor\":\"white\",\"showland\":true,\"showlakes\":true,\"lakecolor\":\"white\"},\"title\":{\"x\":0.05},\"mapbox\":{\"style\":\"light\"}}},\"xaxis\":{\"anchor\":\"y\",\"domain\":[0.0,1.0],\"title\":{\"text\":\"Nota\"}},\"yaxis\":{\"anchor\":\"x\",\"domain\":[0.0,1.0],\"title\":{\"text\":\"Frecuencia\"}},\"legend\":{\"title\":{\"text\":\"ETAPA\"},\"tracegroupgap\":0},\"title\":{\"text\":\"Distribuci\\u00f3n de Notas por Etapa\"},\"barmode\":\"relative\"},                        {\"responsive\": true}                    ).then(function(){\n",
       "                            \n",
       "var gd = document.getElementById('f5ab2383-ccaa-41a0-99fd-16cf7c8b43b0');\n",
       "var x = new MutationObserver(function (mutations, observer) {{\n",
       "        var display = window.getComputedStyle(gd).display;\n",
       "        if (!display || display === 'none') {{\n",
       "            console.log([gd, 'removed!']);\n",
       "            Plotly.purge(gd);\n",
       "            observer.disconnect();\n",
       "        }}\n",
       "}});\n",
       "\n",
       "// Listen for the removal of the full notebook cells\n",
       "var notebookContainer = gd.closest('#notebook-container');\n",
       "if (notebookContainer) {{\n",
       "    x.observe(notebookContainer, {childList: true});\n",
       "}}\n",
       "\n",
       "// Listen for the clearing of the current output cell\n",
       "var outputEl = gd.closest('.output');\n",
       "if (outputEl) {{\n",
       "    x.observe(outputEl, {childList: true});\n",
       "}}\n",
       "\n",
       "                        })                };                });            </script>        </div>"
      ]
     },
     "metadata": {},
     "output_type": "display_data"
    }
   ],
   "source": [
    "fig = px.histogram(df_pe, x=\"NOTA\", color=\"ETAPA\", title=\"Distribución de Notas por Etapa\")\n",
    "fig.update_xaxes(title_text=\"Nota\")\n",
    "fig.update_yaxes(title_text=\"Frecuencia\")\n",
    "fig.show()"
   ]
  },
  {
   "cell_type": "code",
   "execution_count": 176,
   "id": "c66ecf89-f00b-4364-8bc6-57d6824061f5",
   "metadata": {},
   "outputs": [
    {
     "data": {
      "application/vnd.plotly.v1+json": {
       "config": {
        "plotlyServerURL": "https://plot.ly"
       },
       "data": [
        {
         "alignmentgroup": "True",
         "hovertemplate": "Tipo de Examen=primer<br>Recuperatorio=No<br>Etapa=%{x}<br>Nota Promedio=%{y}<extra></extra>",
         "legendgroup": "primer",
         "marker": {
          "color": "#636efa",
          "pattern": {
           "shape": ""
          }
         },
         "name": "primer",
         "offsetgroup": "primer",
         "orientation": "v",
         "showlegend": true,
         "textposition": "auto",
         "type": "bar",
         "x": [
          "primera",
          "segunda",
          "tercera"
         ],
         "xaxis": "x",
         "y": [
          8.76376907763769,
          8.30056179775281,
          7.872065727699531
         ],
         "yaxis": "y"
        },
        {
         "alignmentgroup": "True",
         "hovertemplate": "Tipo de Examen=primer<br>Recuperatorio=Si<br>Etapa=%{x}<br>Nota Promedio=%{y}<extra></extra>",
         "legendgroup": "primer",
         "marker": {
          "color": "#636efa",
          "pattern": {
           "shape": ""
          }
         },
         "name": "primer",
         "offsetgroup": "primer",
         "orientation": "v",
         "showlegend": false,
         "textposition": "auto",
         "type": "bar",
         "x": [
          "primera",
          "segunda"
         ],
         "xaxis": "x2",
         "y": [
          7.9523809523809526,
          7.24113475177305
         ],
         "yaxis": "y2"
        },
        {
         "alignmentgroup": "True",
         "hovertemplate": "Tipo de Examen=segundo<br>Recuperatorio=No<br>Etapa=%{x}<br>Nota Promedio=%{y}<extra></extra>",
         "legendgroup": "segundo",
         "marker": {
          "color": "#EF553B",
          "pattern": {
           "shape": ""
          }
         },
         "name": "segundo",
         "offsetgroup": "segundo",
         "orientation": "v",
         "showlegend": true,
         "textposition": "auto",
         "type": "bar",
         "x": [
          "primera",
          "segunda"
         ],
         "xaxis": "x",
         "y": [
          7.904191616766467,
          7.6652849740932645
         ],
         "yaxis": "y"
        },
        {
         "alignmentgroup": "True",
         "hovertemplate": "Tipo de Examen=segundo<br>Recuperatorio=Si<br>Etapa=%{x}<br>Nota Promedio=%{y}<extra></extra>",
         "legendgroup": "segundo",
         "marker": {
          "color": "#EF553B",
          "pattern": {
           "shape": ""
          }
         },
         "name": "segundo",
         "offsetgroup": "segundo",
         "orientation": "v",
         "showlegend": false,
         "textposition": "auto",
         "type": "bar",
         "x": [
          "primera",
          "segunda"
         ],
         "xaxis": "x2",
         "y": [
          7.442105263157894,
          5.9
         ],
         "yaxis": "y2"
        }
       ],
       "layout": {
        "annotations": [
         {
          "font": {},
          "showarrow": false,
          "text": "Recuperatorio=No",
          "x": 0.245,
          "xanchor": "center",
          "xref": "paper",
          "y": 1,
          "yanchor": "bottom",
          "yref": "paper"
         },
         {
          "font": {},
          "showarrow": false,
          "text": "Recuperatorio=Si",
          "x": 0.755,
          "xanchor": "center",
          "xref": "paper",
          "y": 1,
          "yanchor": "bottom",
          "yref": "paper"
         }
        ],
        "autosize": true,
        "barmode": "group",
        "legend": {
         "title": {
          "text": "Tipo de Examen"
         },
         "tracegroupgap": 0
        },
        "template": {
         "data": {
          "bar": [
           {
            "error_x": {
             "color": "#2a3f5f"
            },
            "error_y": {
             "color": "#2a3f5f"
            },
            "marker": {
             "line": {
              "color": "#E5ECF6",
              "width": 0.5
             },
             "pattern": {
              "fillmode": "overlay",
              "size": 10,
              "solidity": 0.2
             }
            },
            "type": "bar"
           }
          ],
          "barpolar": [
           {
            "marker": {
             "line": {
              "color": "#E5ECF6",
              "width": 0.5
             },
             "pattern": {
              "fillmode": "overlay",
              "size": 10,
              "solidity": 0.2
             }
            },
            "type": "barpolar"
           }
          ],
          "carpet": [
           {
            "aaxis": {
             "endlinecolor": "#2a3f5f",
             "gridcolor": "white",
             "linecolor": "white",
             "minorgridcolor": "white",
             "startlinecolor": "#2a3f5f"
            },
            "baxis": {
             "endlinecolor": "#2a3f5f",
             "gridcolor": "white",
             "linecolor": "white",
             "minorgridcolor": "white",
             "startlinecolor": "#2a3f5f"
            },
            "type": "carpet"
           }
          ],
          "choropleth": [
           {
            "colorbar": {
             "outlinewidth": 0,
             "ticks": ""
            },
            "type": "choropleth"
           }
          ],
          "contour": [
           {
            "colorbar": {
             "outlinewidth": 0,
             "ticks": ""
            },
            "colorscale": [
             [
              0,
              "#0d0887"
             ],
             [
              0.1111111111111111,
              "#46039f"
             ],
             [
              0.2222222222222222,
              "#7201a8"
             ],
             [
              0.3333333333333333,
              "#9c179e"
             ],
             [
              0.4444444444444444,
              "#bd3786"
             ],
             [
              0.5555555555555556,
              "#d8576b"
             ],
             [
              0.6666666666666666,
              "#ed7953"
             ],
             [
              0.7777777777777778,
              "#fb9f3a"
             ],
             [
              0.8888888888888888,
              "#fdca26"
             ],
             [
              1,
              "#f0f921"
             ]
            ],
            "type": "contour"
           }
          ],
          "contourcarpet": [
           {
            "colorbar": {
             "outlinewidth": 0,
             "ticks": ""
            },
            "type": "contourcarpet"
           }
          ],
          "heatmap": [
           {
            "colorbar": {
             "outlinewidth": 0,
             "ticks": ""
            },
            "colorscale": [
             [
              0,
              "#0d0887"
             ],
             [
              0.1111111111111111,
              "#46039f"
             ],
             [
              0.2222222222222222,
              "#7201a8"
             ],
             [
              0.3333333333333333,
              "#9c179e"
             ],
             [
              0.4444444444444444,
              "#bd3786"
             ],
             [
              0.5555555555555556,
              "#d8576b"
             ],
             [
              0.6666666666666666,
              "#ed7953"
             ],
             [
              0.7777777777777778,
              "#fb9f3a"
             ],
             [
              0.8888888888888888,
              "#fdca26"
             ],
             [
              1,
              "#f0f921"
             ]
            ],
            "type": "heatmap"
           }
          ],
          "heatmapgl": [
           {
            "colorbar": {
             "outlinewidth": 0,
             "ticks": ""
            },
            "colorscale": [
             [
              0,
              "#0d0887"
             ],
             [
              0.1111111111111111,
              "#46039f"
             ],
             [
              0.2222222222222222,
              "#7201a8"
             ],
             [
              0.3333333333333333,
              "#9c179e"
             ],
             [
              0.4444444444444444,
              "#bd3786"
             ],
             [
              0.5555555555555556,
              "#d8576b"
             ],
             [
              0.6666666666666666,
              "#ed7953"
             ],
             [
              0.7777777777777778,
              "#fb9f3a"
             ],
             [
              0.8888888888888888,
              "#fdca26"
             ],
             [
              1,
              "#f0f921"
             ]
            ],
            "type": "heatmapgl"
           }
          ],
          "histogram": [
           {
            "marker": {
             "pattern": {
              "fillmode": "overlay",
              "size": 10,
              "solidity": 0.2
             }
            },
            "type": "histogram"
           }
          ],
          "histogram2d": [
           {
            "colorbar": {
             "outlinewidth": 0,
             "ticks": ""
            },
            "colorscale": [
             [
              0,
              "#0d0887"
             ],
             [
              0.1111111111111111,
              "#46039f"
             ],
             [
              0.2222222222222222,
              "#7201a8"
             ],
             [
              0.3333333333333333,
              "#9c179e"
             ],
             [
              0.4444444444444444,
              "#bd3786"
             ],
             [
              0.5555555555555556,
              "#d8576b"
             ],
             [
              0.6666666666666666,
              "#ed7953"
             ],
             [
              0.7777777777777778,
              "#fb9f3a"
             ],
             [
              0.8888888888888888,
              "#fdca26"
             ],
             [
              1,
              "#f0f921"
             ]
            ],
            "type": "histogram2d"
           }
          ],
          "histogram2dcontour": [
           {
            "colorbar": {
             "outlinewidth": 0,
             "ticks": ""
            },
            "colorscale": [
             [
              0,
              "#0d0887"
             ],
             [
              0.1111111111111111,
              "#46039f"
             ],
             [
              0.2222222222222222,
              "#7201a8"
             ],
             [
              0.3333333333333333,
              "#9c179e"
             ],
             [
              0.4444444444444444,
              "#bd3786"
             ],
             [
              0.5555555555555556,
              "#d8576b"
             ],
             [
              0.6666666666666666,
              "#ed7953"
             ],
             [
              0.7777777777777778,
              "#fb9f3a"
             ],
             [
              0.8888888888888888,
              "#fdca26"
             ],
             [
              1,
              "#f0f921"
             ]
            ],
            "type": "histogram2dcontour"
           }
          ],
          "mesh3d": [
           {
            "colorbar": {
             "outlinewidth": 0,
             "ticks": ""
            },
            "type": "mesh3d"
           }
          ],
          "parcoords": [
           {
            "line": {
             "colorbar": {
              "outlinewidth": 0,
              "ticks": ""
             }
            },
            "type": "parcoords"
           }
          ],
          "pie": [
           {
            "automargin": true,
            "type": "pie"
           }
          ],
          "scatter": [
           {
            "fillpattern": {
             "fillmode": "overlay",
             "size": 10,
             "solidity": 0.2
            },
            "type": "scatter"
           }
          ],
          "scatter3d": [
           {
            "line": {
             "colorbar": {
              "outlinewidth": 0,
              "ticks": ""
             }
            },
            "marker": {
             "colorbar": {
              "outlinewidth": 0,
              "ticks": ""
             }
            },
            "type": "scatter3d"
           }
          ],
          "scattercarpet": [
           {
            "marker": {
             "colorbar": {
              "outlinewidth": 0,
              "ticks": ""
             }
            },
            "type": "scattercarpet"
           }
          ],
          "scattergeo": [
           {
            "marker": {
             "colorbar": {
              "outlinewidth": 0,
              "ticks": ""
             }
            },
            "type": "scattergeo"
           }
          ],
          "scattergl": [
           {
            "marker": {
             "colorbar": {
              "outlinewidth": 0,
              "ticks": ""
             }
            },
            "type": "scattergl"
           }
          ],
          "scattermapbox": [
           {
            "marker": {
             "colorbar": {
              "outlinewidth": 0,
              "ticks": ""
             }
            },
            "type": "scattermapbox"
           }
          ],
          "scatterpolar": [
           {
            "marker": {
             "colorbar": {
              "outlinewidth": 0,
              "ticks": ""
             }
            },
            "type": "scatterpolar"
           }
          ],
          "scatterpolargl": [
           {
            "marker": {
             "colorbar": {
              "outlinewidth": 0,
              "ticks": ""
             }
            },
            "type": "scatterpolargl"
           }
          ],
          "scatterternary": [
           {
            "marker": {
             "colorbar": {
              "outlinewidth": 0,
              "ticks": ""
             }
            },
            "type": "scatterternary"
           }
          ],
          "surface": [
           {
            "colorbar": {
             "outlinewidth": 0,
             "ticks": ""
            },
            "colorscale": [
             [
              0,
              "#0d0887"
             ],
             [
              0.1111111111111111,
              "#46039f"
             ],
             [
              0.2222222222222222,
              "#7201a8"
             ],
             [
              0.3333333333333333,
              "#9c179e"
             ],
             [
              0.4444444444444444,
              "#bd3786"
             ],
             [
              0.5555555555555556,
              "#d8576b"
             ],
             [
              0.6666666666666666,
              "#ed7953"
             ],
             [
              0.7777777777777778,
              "#fb9f3a"
             ],
             [
              0.8888888888888888,
              "#fdca26"
             ],
             [
              1,
              "#f0f921"
             ]
            ],
            "type": "surface"
           }
          ],
          "table": [
           {
            "cells": {
             "fill": {
              "color": "#EBF0F8"
             },
             "line": {
              "color": "white"
             }
            },
            "header": {
             "fill": {
              "color": "#C8D4E3"
             },
             "line": {
              "color": "white"
             }
            },
            "type": "table"
           }
          ]
         },
         "layout": {
          "annotationdefaults": {
           "arrowcolor": "#2a3f5f",
           "arrowhead": 0,
           "arrowwidth": 1
          },
          "autotypenumbers": "strict",
          "coloraxis": {
           "colorbar": {
            "outlinewidth": 0,
            "ticks": ""
           }
          },
          "colorscale": {
           "diverging": [
            [
             0,
             "#8e0152"
            ],
            [
             0.1,
             "#c51b7d"
            ],
            [
             0.2,
             "#de77ae"
            ],
            [
             0.3,
             "#f1b6da"
            ],
            [
             0.4,
             "#fde0ef"
            ],
            [
             0.5,
             "#f7f7f7"
            ],
            [
             0.6,
             "#e6f5d0"
            ],
            [
             0.7,
             "#b8e186"
            ],
            [
             0.8,
             "#7fbc41"
            ],
            [
             0.9,
             "#4d9221"
            ],
            [
             1,
             "#276419"
            ]
           ],
           "sequential": [
            [
             0,
             "#0d0887"
            ],
            [
             0.1111111111111111,
             "#46039f"
            ],
            [
             0.2222222222222222,
             "#7201a8"
            ],
            [
             0.3333333333333333,
             "#9c179e"
            ],
            [
             0.4444444444444444,
             "#bd3786"
            ],
            [
             0.5555555555555556,
             "#d8576b"
            ],
            [
             0.6666666666666666,
             "#ed7953"
            ],
            [
             0.7777777777777778,
             "#fb9f3a"
            ],
            [
             0.8888888888888888,
             "#fdca26"
            ],
            [
             1,
             "#f0f921"
            ]
           ],
           "sequentialminus": [
            [
             0,
             "#0d0887"
            ],
            [
             0.1111111111111111,
             "#46039f"
            ],
            [
             0.2222222222222222,
             "#7201a8"
            ],
            [
             0.3333333333333333,
             "#9c179e"
            ],
            [
             0.4444444444444444,
             "#bd3786"
            ],
            [
             0.5555555555555556,
             "#d8576b"
            ],
            [
             0.6666666666666666,
             "#ed7953"
            ],
            [
             0.7777777777777778,
             "#fb9f3a"
            ],
            [
             0.8888888888888888,
             "#fdca26"
            ],
            [
             1,
             "#f0f921"
            ]
           ]
          },
          "colorway": [
           "#636efa",
           "#EF553B",
           "#00cc96",
           "#ab63fa",
           "#FFA15A",
           "#19d3f3",
           "#FF6692",
           "#B6E880",
           "#FF97FF",
           "#FECB52"
          ],
          "font": {
           "color": "#2a3f5f"
          },
          "geo": {
           "bgcolor": "white",
           "lakecolor": "white",
           "landcolor": "#E5ECF6",
           "showlakes": true,
           "showland": true,
           "subunitcolor": "white"
          },
          "hoverlabel": {
           "align": "left"
          },
          "hovermode": "closest",
          "mapbox": {
           "style": "light"
          },
          "paper_bgcolor": "white",
          "plot_bgcolor": "#E5ECF6",
          "polar": {
           "angularaxis": {
            "gridcolor": "white",
            "linecolor": "white",
            "ticks": ""
           },
           "bgcolor": "#E5ECF6",
           "radialaxis": {
            "gridcolor": "white",
            "linecolor": "white",
            "ticks": ""
           }
          },
          "scene": {
           "xaxis": {
            "backgroundcolor": "#E5ECF6",
            "gridcolor": "white",
            "gridwidth": 2,
            "linecolor": "white",
            "showbackground": true,
            "ticks": "",
            "zerolinecolor": "white"
           },
           "yaxis": {
            "backgroundcolor": "#E5ECF6",
            "gridcolor": "white",
            "gridwidth": 2,
            "linecolor": "white",
            "showbackground": true,
            "ticks": "",
            "zerolinecolor": "white"
           },
           "zaxis": {
            "backgroundcolor": "#E5ECF6",
            "gridcolor": "white",
            "gridwidth": 2,
            "linecolor": "white",
            "showbackground": true,
            "ticks": "",
            "zerolinecolor": "white"
           }
          },
          "shapedefaults": {
           "line": {
            "color": "#2a3f5f"
           }
          },
          "ternary": {
           "aaxis": {
            "gridcolor": "white",
            "linecolor": "white",
            "ticks": ""
           },
           "baxis": {
            "gridcolor": "white",
            "linecolor": "white",
            "ticks": ""
           },
           "bgcolor": "#E5ECF6",
           "caxis": {
            "gridcolor": "white",
            "linecolor": "white",
            "ticks": ""
           }
          },
          "title": {
           "x": 0.05
          },
          "xaxis": {
           "automargin": true,
           "gridcolor": "white",
           "linecolor": "white",
           "ticks": "",
           "title": {
            "standoff": 15
           },
           "zerolinecolor": "white",
           "zerolinewidth": 2
          },
          "yaxis": {
           "automargin": true,
           "gridcolor": "white",
           "linecolor": "white",
           "ticks": "",
           "title": {
            "standoff": 15
           },
           "zerolinecolor": "white",
           "zerolinewidth": 2
          }
         }
        },
        "title": {
         "text": "Nota Promedio por Etapa, Tipo de Examen y Recuperatorio"
        },
        "xaxis": {
         "anchor": "y",
         "autorange": true,
         "domain": [
          0,
          0.49
         ],
         "range": [
          -0.5,
          2.5
         ],
         "title": {
          "text": "Etapa"
         },
         "type": "category"
        },
        "xaxis2": {
         "anchor": "y2",
         "autorange": true,
         "domain": [
          0.51,
          1
         ],
         "matches": "x",
         "range": [
          -0.5,
          2.5
         ],
         "title": {
          "text": "Etapa"
         },
         "type": "category"
        },
        "yaxis": {
         "anchor": "x",
         "autorange": true,
         "domain": [
          0,
          1
         ],
         "range": [
          0,
          9.225020081723883
         ],
         "title": {
          "text": "Nota Promedio"
         },
         "type": "linear"
        },
        "yaxis2": {
         "anchor": "x2",
         "autorange": true,
         "domain": [
          0,
          1
         ],
         "matches": "y",
         "range": [
          0,
          9.225020081723883
         ],
         "showticklabels": false,
         "type": "linear"
        }
       }
      },
      "image/png": "[encoded data removed]",
      "text/html": [
       "<div>                            <div id=\"ea75eca1-802f-4bc2-b560-cd0d0c4b87b3\" class=\"plotly-graph-div\" style=\"height:525px; width:100%;\"></div>            <script type=\"text/javascript\">                require([\"plotly\"], function(Plotly) {                    window.PLOTLYENV=window.PLOTLYENV || {};                                    if (document.getElementById(\"ea75eca1-802f-4bc2-b560-cd0d0c4b87b3\")) {                    Plotly.newPlot(                        \"ea75eca1-802f-4bc2-b560-cd0d0c4b87b3\",                        [{\"alignmentgroup\":\"True\",\"hovertemplate\":\"Tipo de Examen=primer\\u003cbr\\u003eRecuperatorio=No\\u003cbr\\u003eEtapa=%{x}\\u003cbr\\u003eNota Promedio=%{y}\\u003cextra\\u003e\\u003c\\u002fextra\\u003e\",\"legendgroup\":\"primer\",\"marker\":{\"color\":\"#636efa\",\"pattern\":{\"shape\":\"\"}},\"name\":\"primer\",\"offsetgroup\":\"primer\",\"orientation\":\"v\",\"showlegend\":true,\"textposition\":\"auto\",\"x\":[\"primera\",\"segunda\",\"tercera\"],\"xaxis\":\"x\",\"y\":[8.76376907763769,8.30056179775281,7.872065727699531],\"yaxis\":\"y\",\"type\":\"bar\"},{\"alignmentgroup\":\"True\",\"hovertemplate\":\"Tipo de Examen=primer\\u003cbr\\u003eRecuperatorio=Si\\u003cbr\\u003eEtapa=%{x}\\u003cbr\\u003eNota Promedio=%{y}\\u003cextra\\u003e\\u003c\\u002fextra\\u003e\",\"legendgroup\":\"primer\",\"marker\":{\"color\":\"#636efa\",\"pattern\":{\"shape\":\"\"}},\"name\":\"primer\",\"offsetgroup\":\"primer\",\"orientation\":\"v\",\"showlegend\":false,\"textposition\":\"auto\",\"x\":[\"primera\",\"segunda\"],\"xaxis\":\"x2\",\"y\":[7.9523809523809526,7.24113475177305],\"yaxis\":\"y2\",\"type\":\"bar\"},{\"alignmentgroup\":\"True\",\"hovertemplate\":\"Tipo de Examen=segundo\\u003cbr\\u003eRecuperatorio=No\\u003cbr\\u003eEtapa=%{x}\\u003cbr\\u003eNota Promedio=%{y}\\u003cextra\\u003e\\u003c\\u002fextra\\u003e\",\"legendgroup\":\"segundo\",\"marker\":{\"color\":\"#EF553B\",\"pattern\":{\"shape\":\"\"}},\"name\":\"segundo\",\"offsetgroup\":\"segundo\",\"orientation\":\"v\",\"showlegend\":true,\"textposition\":\"auto\",\"x\":[\"primera\",\"segunda\"],\"xaxis\":\"x\",\"y\":[7.904191616766467,7.6652849740932645],\"yaxis\":\"y\",\"type\":\"bar\"},{\"alignmentgroup\":\"True\",\"hovertemplate\":\"Tipo de Examen=segundo\\u003cbr\\u003eRecuperatorio=Si\\u003cbr\\u003eEtapa=%{x}\\u003cbr\\u003eNota Promedio=%{y}\\u003cextra\\u003e\\u003c\\u002fextra\\u003e\",\"legendgroup\":\"segundo\",\"marker\":{\"color\":\"#EF553B\",\"pattern\":{\"shape\":\"\"}},\"name\":\"segundo\",\"offsetgroup\":\"segundo\",\"orientation\":\"v\",\"showlegend\":false,\"textposition\":\"auto\",\"x\":[\"primera\",\"segunda\"],\"xaxis\":\"x2\",\"y\":[7.442105263157894,5.9],\"yaxis\":\"y2\",\"type\":\"bar\"}],                        {\"template\":{\"data\":{\"histogram2dcontour\":[{\"type\":\"histogram2dcontour\",\"colorbar\":{\"outlinewidth\":0,\"ticks\":\"\"},\"colorscale\":[[0.0,\"#0d0887\"],[0.1111111111111111,\"#46039f\"],[0.2222222222222222,\"#7201a8\"],[0.3333333333333333,\"#9c179e\"],[0.4444444444444444,\"#bd3786\"],[0.5555555555555556,\"#d8576b\"],[0.6666666666666666,\"#ed7953\"],[0.7777777777777778,\"#fb9f3a\"],[0.8888888888888888,\"#fdca26\"],[1.0,\"#f0f921\"]]}],\"choropleth\":[{\"type\":\"choropleth\",\"colorbar\":{\"outlinewidth\":0,\"ticks\":\"\"}}],\"histogram2d\":[{\"type\":\"histogram2d\",\"colorbar\":{\"outlinewidth\":0,\"ticks\":\"\"},\"colorscale\":[[0.0,\"#0d0887\"],[0.1111111111111111,\"#46039f\"],[0.2222222222222222,\"#7201a8\"],[0.3333333333333333,\"#9c179e\"],[0.4444444444444444,\"#bd3786\"],[0.5555555555555556,\"#d8576b\"],[0.6666666666666666,\"#ed7953\"],[0.7777777777777778,\"#fb9f3a\"],[0.8888888888888888,\"#fdca26\"],[1.0,\"#f0f921\"]]}],\"heatmap\":[{\"type\":\"heatmap\",\"colorbar\":{\"outlinewidth\":0,\"ticks\":\"\"},\"colorscale\":[[0.0,\"#0d0887\"],[0.1111111111111111,\"#46039f\"],[0.2222222222222222,\"#7201a8\"],[0.3333333333333333,\"#9c179e\"],[0.4444444444444444,\"#bd3786\"],[0.5555555555555556,\"#d8576b\"],[0.6666666666666666,\"#ed7953\"],[0.7777777777777778,\"#fb9f3a\"],[0.8888888888888888,\"#fdca26\"],[1.0,\"#f0f921\"]]}],\"heatmapgl\":[{\"type\":\"heatmapgl\",\"colorbar\":{\"outlinewidth\":0,\"ticks\":\"\"},\"colorscale\":[[0.0,\"#0d0887\"],[0.1111111111111111,\"#46039f\"],[0.2222222222222222,\"#7201a8\"],[0.3333333333333333,\"#9c179e\"],[0.4444444444444444,\"#bd3786\"],[0.5555555555555556,\"#d8576b\"],[0.6666666666666666,\"#ed7953\"],[0.7777777777777778,\"#fb9f3a\"],[0.8888888888888888,\"#fdca26\"],[1.0,\"#f0f921\"]]}],\"contourcarpet\":[{\"type\":\"contourcarpet\",\"colorbar\":{\"outlinewidth\":0,\"ticks\":\"\"}}],\"contour\":[{\"type\":\"contour\",\"colorbar\":{\"outlinewidth\":0,\"ticks\":\"\"},\"colorscale\":[[0.0,\"#0d0887\"],[0.1111111111111111,\"#46039f\"],[0.2222222222222222,\"#7201a8\"],[0.3333333333333333,\"#9c179e\"],[0.4444444444444444,\"#bd3786\"],[0.5555555555555556,\"#d8576b\"],[0.6666666666666666,\"#ed7953\"],[0.7777777777777778,\"#fb9f3a\"],[0.8888888888888888,\"#fdca26\"],[1.0,\"#f0f921\"]]}],\"surface\":[{\"type\":\"surface\",\"colorbar\":{\"outlinewidth\":0,\"ticks\":\"\"},\"colorscale\":[[0.0,\"#0d0887\"],[0.1111111111111111,\"#46039f\"],[0.2222222222222222,\"#7201a8\"],[0.3333333333333333,\"#9c179e\"],[0.4444444444444444,\"#bd3786\"],[0.5555555555555556,\"#d8576b\"],[0.6666666666666666,\"#ed7953\"],[0.7777777777777778,\"#fb9f3a\"],[0.8888888888888888,\"#fdca26\"],[1.0,\"#f0f921\"]]}],\"mesh3d\":[{\"type\":\"mesh3d\",\"colorbar\":{\"outlinewidth\":0,\"ticks\":\"\"}}],\"scatter\":[{\"fillpattern\":{\"fillmode\":\"overlay\",\"size\":10,\"solidity\":0.2},\"type\":\"scatter\"}],\"parcoords\":[{\"type\":\"parcoords\",\"line\":{\"colorbar\":{\"outlinewidth\":0,\"ticks\":\"\"}}}],\"scatterpolargl\":[{\"type\":\"scatterpolargl\",\"marker\":{\"colorbar\":{\"outlinewidth\":0,\"ticks\":\"\"}}}],\"bar\":[{\"error_x\":{\"color\":\"#2a3f5f\"},\"error_y\":{\"color\":\"#2a3f5f\"},\"marker\":{\"line\":{\"color\":\"#E5ECF6\",\"width\":0.5},\"pattern\":{\"fillmode\":\"overlay\",\"size\":10,\"solidity\":0.2}},\"type\":\"bar\"}],\"scattergeo\":[{\"type\":\"scattergeo\",\"marker\":{\"colorbar\":{\"outlinewidth\":0,\"ticks\":\"\"}}}],\"scatterpolar\":[{\"type\":\"scatterpolar\",\"marker\":{\"colorbar\":{\"outlinewidth\":0,\"ticks\":\"\"}}}],\"histogram\":[{\"marker\":{\"pattern\":{\"fillmode\":\"overlay\",\"size\":10,\"solidity\":0.2}},\"type\":\"histogram\"}],\"scattergl\":[{\"type\":\"scattergl\",\"marker\":{\"colorbar\":{\"outlinewidth\":0,\"ticks\":\"\"}}}],\"scatter3d\":[{\"type\":\"scatter3d\",\"line\":{\"colorbar\":{\"outlinewidth\":0,\"ticks\":\"\"}},\"marker\":{\"colorbar\":{\"outlinewidth\":0,\"ticks\":\"\"}}}],\"scattermapbox\":[{\"type\":\"scattermapbox\",\"marker\":{\"colorbar\":{\"outlinewidth\":0,\"ticks\":\"\"}}}],\"scatterternary\":[{\"type\":\"scatterternary\",\"marker\":{\"colorbar\":{\"outlinewidth\":0,\"ticks\":\"\"}}}],\"scattercarpet\":[{\"type\":\"scattercarpet\",\"marker\":{\"colorbar\":{\"outlinewidth\":0,\"ticks\":\"\"}}}],\"carpet\":[{\"aaxis\":{\"endlinecolor\":\"#2a3f5f\",\"gridcolor\":\"white\",\"linecolor\":\"white\",\"minorgridcolor\":\"white\",\"startlinecolor\":\"#2a3f5f\"},\"baxis\":{\"endlinecolor\":\"#2a3f5f\",\"gridcolor\":\"white\",\"linecolor\":\"white\",\"minorgridcolor\":\"white\",\"startlinecolor\":\"#2a3f5f\"},\"type\":\"carpet\"}],\"table\":[{\"cells\":{\"fill\":{\"color\":\"#EBF0F8\"},\"line\":{\"color\":\"white\"}},\"header\":{\"fill\":{\"color\":\"#C8D4E3\"},\"line\":{\"color\":\"white\"}},\"type\":\"table\"}],\"barpolar\":[{\"marker\":{\"line\":{\"color\":\"#E5ECF6\",\"width\":0.5},\"pattern\":{\"fillmode\":\"overlay\",\"size\":10,\"solidity\":0.2}},\"type\":\"barpolar\"}],\"pie\":[{\"automargin\":true,\"type\":\"pie\"}]},\"layout\":{\"autotypenumbers\":\"strict\",\"colorway\":[\"#636efa\",\"#EF553B\",\"#00cc96\",\"#ab63fa\",\"#FFA15A\",\"#19d3f3\",\"#FF6692\",\"#B6E880\",\"#FF97FF\",\"#FECB52\"],\"font\":{\"color\":\"#2a3f5f\"},\"hovermode\":\"closest\",\"hoverlabel\":{\"align\":\"left\"},\"paper_bgcolor\":\"white\",\"plot_bgcolor\":\"#E5ECF6\",\"polar\":{\"bgcolor\":\"#E5ECF6\",\"angularaxis\":{\"gridcolor\":\"white\",\"linecolor\":\"white\",\"ticks\":\"\"},\"radialaxis\":{\"gridcolor\":\"white\",\"linecolor\":\"white\",\"ticks\":\"\"}},\"ternary\":{\"bgcolor\":\"#E5ECF6\",\"aaxis\":{\"gridcolor\":\"white\",\"linecolor\":\"white\",\"ticks\":\"\"},\"baxis\":{\"gridcolor\":\"white\",\"linecolor\":\"white\",\"ticks\":\"\"},\"caxis\":{\"gridcolor\":\"white\",\"linecolor\":\"white\",\"ticks\":\"\"}},\"coloraxis\":{\"colorbar\":{\"outlinewidth\":0,\"ticks\":\"\"}},\"colorscale\":{\"sequential\":[[0.0,\"#0d0887\"],[0.1111111111111111,\"#46039f\"],[0.2222222222222222,\"#7201a8\"],[0.3333333333333333,\"#9c179e\"],[0.4444444444444444,\"#bd3786\"],[0.5555555555555556,\"#d8576b\"],[0.6666666666666666,\"#ed7953\"],[0.7777777777777778,\"#fb9f3a\"],[0.8888888888888888,\"#fdca26\"],[1.0,\"#f0f921\"]],\"sequentialminus\":[[0.0,\"#0d0887\"],[0.1111111111111111,\"#46039f\"],[0.2222222222222222,\"#7201a8\"],[0.3333333333333333,\"#9c179e\"],[0.4444444444444444,\"#bd3786\"],[0.5555555555555556,\"#d8576b\"],[0.6666666666666666,\"#ed7953\"],[0.7777777777777778,\"#fb9f3a\"],[0.8888888888888888,\"#fdca26\"],[1.0,\"#f0f921\"]],\"diverging\":[[0,\"#8e0152\"],[0.1,\"#c51b7d\"],[0.2,\"#de77ae\"],[0.3,\"#f1b6da\"],[0.4,\"#fde0ef\"],[0.5,\"#f7f7f7\"],[0.6,\"#e6f5d0\"],[0.7,\"#b8e186\"],[0.8,\"#7fbc41\"],[0.9,\"#4d9221\"],[1,\"#276419\"]]},\"xaxis\":{\"gridcolor\":\"white\",\"linecolor\":\"white\",\"ticks\":\"\",\"title\":{\"standoff\":15},\"zerolinecolor\":\"white\",\"automargin\":true,\"zerolinewidth\":2},\"yaxis\":{\"gridcolor\":\"white\",\"linecolor\":\"white\",\"ticks\":\"\",\"title\":{\"standoff\":15},\"zerolinecolor\":\"white\",\"automargin\":true,\"zerolinewidth\":2},\"scene\":{\"xaxis\":{\"backgroundcolor\":\"#E5ECF6\",\"gridcolor\":\"white\",\"linecolor\":\"white\",\"showbackground\":true,\"ticks\":\"\",\"zerolinecolor\":\"white\",\"gridwidth\":2},\"yaxis\":{\"backgroundcolor\":\"#E5ECF6\",\"gridcolor\":\"white\",\"linecolor\":\"white\",\"showbackground\":true,\"ticks\":\"\",\"zerolinecolor\":\"white\",\"gridwidth\":2},\"zaxis\":{\"backgroundcolor\":\"#E5ECF6\",\"gridcolor\":\"white\",\"linecolor\":\"white\",\"showbackground\":true,\"ticks\":\"\",\"zerolinecolor\":\"white\",\"gridwidth\":2}},\"shapedefaults\":{\"line\":{\"color\":\"#2a3f5f\"}},\"annotationdefaults\":{\"arrowcolor\":\"#2a3f5f\",\"arrowhead\":0,\"arrowwidth\":1},\"geo\":{\"bgcolor\":\"white\",\"landcolor\":\"#E5ECF6\",\"subunitcolor\":\"white\",\"showland\":true,\"showlakes\":true,\"lakecolor\":\"white\"},\"title\":{\"x\":0.05},\"mapbox\":{\"style\":\"light\"}}},\"xaxis\":{\"anchor\":\"y\",\"domain\":[0.0,0.49],\"title\":{\"text\":\"Etapa\"}},\"yaxis\":{\"anchor\":\"x\",\"domain\":[0.0,1.0],\"title\":{\"text\":\"Nota Promedio\"}},\"xaxis2\":{\"anchor\":\"y2\",\"domain\":[0.51,1.0],\"matches\":\"x\",\"title\":{\"text\":\"Etapa\"}},\"yaxis2\":{\"anchor\":\"x2\",\"domain\":[0.0,1.0],\"matches\":\"y\",\"showticklabels\":false},\"annotations\":[{\"font\":{},\"showarrow\":false,\"text\":\"Recuperatorio=No\",\"x\":0.245,\"xanchor\":\"center\",\"xref\":\"paper\",\"y\":1.0,\"yanchor\":\"bottom\",\"yref\":\"paper\"},{\"font\":{},\"showarrow\":false,\"text\":\"Recuperatorio=Si\",\"x\":0.755,\"xanchor\":\"center\",\"xref\":\"paper\",\"y\":1.0,\"yanchor\":\"bottom\",\"yref\":\"paper\"}],\"legend\":{\"title\":{\"text\":\"Tipo de Examen\"},\"tracegroupgap\":0},\"title\":{\"text\":\"Nota Promedio por Etapa, Tipo de Examen y Recuperatorio\"},\"barmode\":\"group\"},                        {\"responsive\": true}                    ).then(function(){\n",
       "                            \n",
       "var gd = document.getElementById('ea75eca1-802f-4bc2-b560-cd0d0c4b87b3');\n",
       "var x = new MutationObserver(function (mutations, observer) {{\n",
       "        var display = window.getComputedStyle(gd).display;\n",
       "        if (!display || display === 'none') {{\n",
       "            console.log([gd, 'removed!']);\n",
       "            Plotly.purge(gd);\n",
       "            observer.disconnect();\n",
       "        }}\n",
       "}});\n",
       "\n",
       "// Listen for the removal of the full notebook cells\n",
       "var notebookContainer = gd.closest('#notebook-container');\n",
       "if (notebookContainer) {{\n",
       "    x.observe(notebookContainer, {childList: true});\n",
       "}}\n",
       "\n",
       "// Listen for the clearing of the current output cell\n",
       "var outputEl = gd.closest('.output');\n",
       "if (outputEl) {{\n",
       "    x.observe(outputEl, {childList: true});\n",
       "}}\n",
       "\n",
       "                        })                };                });            </script>        </div>"
      ]
     },
     "metadata": {},
     "output_type": "display_data"
    }
   ],
   "source": [
    "nota_promedio_por_etapa_tipo_recuperatorio = df_pe.groupby([\"ETAPA\", \"EXAMEN\", \"RECUPERATORIO\"])[\"NOTA\"].mean().reset_index()\n",
    "nota_promedio_por_etapa_tipo_recuperatorio['RECUPERATORIO'] = nota_promedio_por_etapa_tipo_recuperatorio['RECUPERATORIO'].apply(lambda x: 'Si' if x else 'No')\n",
    "\n",
    "fig = px.bar(nota_promedio_por_etapa_tipo_recuperatorio, x=\"ETAPA\", y=\"NOTA\", color=\"EXAMEN\",\n",
    "             facet_col=\"RECUPERATORIO\",\n",
    "             title=\"Nota Promedio por Etapa, Tipo de Examen y Recuperatorio\",\n",
    "             labels={\"ETAPA\": \"Etapa\", \"NOTA\": \"Nota Promedio\", \"EXAMEN\": \"Tipo de Examen\", \"RECUPERATORIO\": \"Recuperatorio\"},\n",
    "             barmode=\"group\")\n",
    "fig.show()"
   ]
  },
  {
   "cell_type": "code",
   "execution_count": 182,
   "id": "5c76e8a7-3026-43c4-9d32-25327042a3a7",
   "metadata": {},
   "outputs": [
    {
     "data": {
      "application/vnd.plotly.v1+json": {
       "config": {
        "plotlyServerURL": "https://plot.ly"
       },
       "data": [
        {
         "alignmentgroup": "True",
         "hovertemplate": "Aprueba=Si<br>Etapas=%{x}<br>Porcentaje=%{y}<extra></extra>",
         "legendgroup": "Si",
         "marker": {
          "color": "green",
          "pattern": {
           "shape": ""
          }
         },
         "name": "Si",
         "offsetgroup": "Si",
         "orientation": "v",
         "showlegend": true,
         "textposition": "auto",
         "type": "bar",
         "x": [
          "primera",
          "segunda",
          "tercera"
         ],
         "xaxis": "x",
         "y": [
          0.9192825112107623,
          0.8967320261437909,
          0.9143192488262911
         ],
         "yaxis": "y"
        },
        {
         "alignmentgroup": "True",
         "hovertemplate": "Aprueba=No<br>Etapas=%{x}<br>Porcentaje=%{y}<extra></extra>",
         "legendgroup": "No",
         "marker": {
          "color": "red",
          "pattern": {
           "shape": ""
          }
         },
         "name": "No",
         "offsetgroup": "No",
         "orientation": "v",
         "showlegend": true,
         "textposition": "auto",
         "type": "bar",
         "x": [
          "primera",
          "segunda",
          "tercera"
         ],
         "xaxis": "x",
         "y": [
          0.08071748878923767,
          0.10326797385620914,
          0.08568075117370892
         ],
         "yaxis": "y"
        }
       ],
       "layout": {
        "autosize": true,
        "barmode": "relative",
        "legend": {
         "title": {
          "text": "Aprueba"
         },
         "tracegroupgap": 0
        },
        "template": {
         "data": {
          "bar": [
           {
            "error_x": {
             "color": "#2a3f5f"
            },
            "error_y": {
             "color": "#2a3f5f"
            },
            "marker": {
             "line": {
              "color": "#E5ECF6",
              "width": 0.5
             },
             "pattern": {
              "fillmode": "overlay",
              "size": 10,
              "solidity": 0.2
             }
            },
            "type": "bar"
           }
          ],
          "barpolar": [
           {
            "marker": {
             "line": {
              "color": "#E5ECF6",
              "width": 0.5
             },
             "pattern": {
              "fillmode": "overlay",
              "size": 10,
              "solidity": 0.2
             }
            },
            "type": "barpolar"
           }
          ],
          "carpet": [
           {
            "aaxis": {
             "endlinecolor": "#2a3f5f",
             "gridcolor": "white",
             "linecolor": "white",
             "minorgridcolor": "white",
             "startlinecolor": "#2a3f5f"
            },
            "baxis": {
             "endlinecolor": "#2a3f5f",
             "gridcolor": "white",
             "linecolor": "white",
             "minorgridcolor": "white",
             "startlinecolor": "#2a3f5f"
            },
            "type": "carpet"
           }
          ],
          "choropleth": [
           {
            "colorbar": {
             "outlinewidth": 0,
             "ticks": ""
            },
            "type": "choropleth"
           }
          ],
          "contour": [
           {
            "colorbar": {
             "outlinewidth": 0,
             "ticks": ""
            },
            "colorscale": [
             [
              0,
              "#0d0887"
             ],
             [
              0.1111111111111111,
              "#46039f"
             ],
             [
              0.2222222222222222,
              "#7201a8"
             ],
             [
              0.3333333333333333,
              "#9c179e"
             ],
             [
              0.4444444444444444,
              "#bd3786"
             ],
             [
              0.5555555555555556,
              "#d8576b"
             ],
             [
              0.6666666666666666,
              "#ed7953"
             ],
             [
              0.7777777777777778,
              "#fb9f3a"
             ],
             [
              0.8888888888888888,
              "#fdca26"
             ],
             [
              1,
              "#f0f921"
             ]
            ],
            "type": "contour"
           }
          ],
          "contourcarpet": [
           {
            "colorbar": {
             "outlinewidth": 0,
             "ticks": ""
            },
            "type": "contourcarpet"
           }
          ],
          "heatmap": [
           {
            "colorbar": {
             "outlinewidth": 0,
             "ticks": ""
            },
            "colorscale": [
             [
              0,
              "#0d0887"
             ],
             [
              0.1111111111111111,
              "#46039f"
             ],
             [
              0.2222222222222222,
              "#7201a8"
             ],
             [
              0.3333333333333333,
              "#9c179e"
             ],
             [
              0.4444444444444444,
              "#bd3786"
             ],
             [
              0.5555555555555556,
              "#d8576b"
             ],
             [
              0.6666666666666666,
              "#ed7953"
             ],
             [
              0.7777777777777778,
              "#fb9f3a"
             ],
             [
              0.8888888888888888,
              "#fdca26"
             ],
             [
              1,
              "#f0f921"
             ]
            ],
            "type": "heatmap"
           }
          ],
          "heatmapgl": [
           {
            "colorbar": {
             "outlinewidth": 0,
             "ticks": ""
            },
            "colorscale": [
             [
              0,
              "#0d0887"
             ],
             [
              0.1111111111111111,
              "#46039f"
             ],
             [
              0.2222222222222222,
              "#7201a8"
             ],
             [
              0.3333333333333333,
              "#9c179e"
             ],
             [
              0.4444444444444444,
              "#bd3786"
             ],
             [
              0.5555555555555556,
              "#d8576b"
             ],
             [
              0.6666666666666666,
              "#ed7953"
             ],
             [
              0.7777777777777778,
              "#fb9f3a"
             ],
             [
              0.8888888888888888,
              "#fdca26"
             ],
             [
              1,
              "#f0f921"
             ]
            ],
            "type": "heatmapgl"
           }
          ],
          "histogram": [
           {
            "marker": {
             "pattern": {
              "fillmode": "overlay",
              "size": 10,
              "solidity": 0.2
             }
            },
            "type": "histogram"
           }
          ],
          "histogram2d": [
           {
            "colorbar": {
             "outlinewidth": 0,
             "ticks": ""
            },
            "colorscale": [
             [
              0,
              "#0d0887"
             ],
             [
              0.1111111111111111,
              "#46039f"
             ],
             [
              0.2222222222222222,
              "#7201a8"
             ],
             [
              0.3333333333333333,
              "#9c179e"
             ],
             [
              0.4444444444444444,
              "#bd3786"
             ],
             [
              0.5555555555555556,
              "#d8576b"
             ],
             [
              0.6666666666666666,
              "#ed7953"
             ],
             [
              0.7777777777777778,
              "#fb9f3a"
             ],
             [
              0.8888888888888888,
              "#fdca26"
             ],
             [
              1,
              "#f0f921"
             ]
            ],
            "type": "histogram2d"
           }
          ],
          "histogram2dcontour": [
           {
            "colorbar": {
             "outlinewidth": 0,
             "ticks": ""
            },
            "colorscale": [
             [
              0,
              "#0d0887"
             ],
             [
              0.1111111111111111,
              "#46039f"
             ],
             [
              0.2222222222222222,
              "#7201a8"
             ],
             [
              0.3333333333333333,
              "#9c179e"
             ],
             [
              0.4444444444444444,
              "#bd3786"
             ],
             [
              0.5555555555555556,
              "#d8576b"
             ],
             [
              0.6666666666666666,
              "#ed7953"
             ],
             [
              0.7777777777777778,
              "#fb9f3a"
             ],
             [
              0.8888888888888888,
              "#fdca26"
             ],
             [
              1,
              "#f0f921"
             ]
            ],
            "type": "histogram2dcontour"
           }
          ],
          "mesh3d": [
           {
            "colorbar": {
             "outlinewidth": 0,
             "ticks": ""
            },
            "type": "mesh3d"
           }
          ],
          "parcoords": [
           {
            "line": {
             "colorbar": {
              "outlinewidth": 0,
              "ticks": ""
             }
            },
            "type": "parcoords"
           }
          ],
          "pie": [
           {
            "automargin": true,
            "type": "pie"
           }
          ],
          "scatter": [
           {
            "fillpattern": {
             "fillmode": "overlay",
             "size": 10,
             "solidity": 0.2
            },
            "type": "scatter"
           }
          ],
          "scatter3d": [
           {
            "line": {
             "colorbar": {
              "outlinewidth": 0,
              "ticks": ""
             }
            },
            "marker": {
             "colorbar": {
              "outlinewidth": 0,
              "ticks": ""
             }
            },
            "type": "scatter3d"
           }
          ],
          "scattercarpet": [
           {
            "marker": {
             "colorbar": {
              "outlinewidth": 0,
              "ticks": ""
             }
            },
            "type": "scattercarpet"
           }
          ],
          "scattergeo": [
           {
            "marker": {
             "colorbar": {
              "outlinewidth": 0,
              "ticks": ""
             }
            },
            "type": "scattergeo"
           }
          ],
          "scattergl": [
           {
            "marker": {
             "colorbar": {
              "outlinewidth": 0,
              "ticks": ""
             }
            },
            "type": "scattergl"
           }
          ],
          "scattermapbox": [
           {
            "marker": {
             "colorbar": {
              "outlinewidth": 0,
              "ticks": ""
             }
            },
            "type": "scattermapbox"
           }
          ],
          "scatterpolar": [
           {
            "marker": {
             "colorbar": {
              "outlinewidth": 0,
              "ticks": ""
             }
            },
            "type": "scatterpolar"
           }
          ],
          "scatterpolargl": [
           {
            "marker": {
             "colorbar": {
              "outlinewidth": 0,
              "ticks": ""
             }
            },
            "type": "scatterpolargl"
           }
          ],
          "scatterternary": [
           {
            "marker": {
             "colorbar": {
              "outlinewidth": 0,
              "ticks": ""
             }
            },
            "type": "scatterternary"
           }
          ],
          "surface": [
           {
            "colorbar": {
             "outlinewidth": 0,
             "ticks": ""
            },
            "colorscale": [
             [
              0,
              "#0d0887"
             ],
             [
              0.1111111111111111,
              "#46039f"
             ],
             [
              0.2222222222222222,
              "#7201a8"
             ],
             [
              0.3333333333333333,
              "#9c179e"
             ],
             [
              0.4444444444444444,
              "#bd3786"
             ],
             [
              0.5555555555555556,
              "#d8576b"
             ],
             [
              0.6666666666666666,
              "#ed7953"
             ],
             [
              0.7777777777777778,
              "#fb9f3a"
             ],
             [
              0.8888888888888888,
              "#fdca26"
             ],
             [
              1,
              "#f0f921"
             ]
            ],
            "type": "surface"
           }
          ],
          "table": [
           {
            "cells": {
             "fill": {
              "color": "#EBF0F8"
             },
             "line": {
              "color": "white"
             }
            },
            "header": {
             "fill": {
              "color": "#C8D4E3"
             },
             "line": {
              "color": "white"
             }
            },
            "type": "table"
           }
          ]
         },
         "layout": {
          "annotationdefaults": {
           "arrowcolor": "#2a3f5f",
           "arrowhead": 0,
           "arrowwidth": 1
          },
          "autotypenumbers": "strict",
          "coloraxis": {
           "colorbar": {
            "outlinewidth": 0,
            "ticks": ""
           }
          },
          "colorscale": {
           "diverging": [
            [
             0,
             "#8e0152"
            ],
            [
             0.1,
             "#c51b7d"
            ],
            [
             0.2,
             "#de77ae"
            ],
            [
             0.3,
             "#f1b6da"
            ],
            [
             0.4,
             "#fde0ef"
            ],
            [
             0.5,
             "#f7f7f7"
            ],
            [
             0.6,
             "#e6f5d0"
            ],
            [
             0.7,
             "#b8e186"
            ],
            [
             0.8,
             "#7fbc41"
            ],
            [
             0.9,
             "#4d9221"
            ],
            [
             1,
             "#276419"
            ]
           ],
           "sequential": [
            [
             0,
             "#0d0887"
            ],
            [
             0.1111111111111111,
             "#46039f"
            ],
            [
             0.2222222222222222,
             "#7201a8"
            ],
            [
             0.3333333333333333,
             "#9c179e"
            ],
            [
             0.4444444444444444,
             "#bd3786"
            ],
            [
             0.5555555555555556,
             "#d8576b"
            ],
            [
             0.6666666666666666,
             "#ed7953"
            ],
            [
             0.7777777777777778,
             "#fb9f3a"
            ],
            [
             0.8888888888888888,
             "#fdca26"
            ],
            [
             1,
             "#f0f921"
            ]
           ],
           "sequentialminus": [
            [
             0,
             "#0d0887"
            ],
            [
             0.1111111111111111,
             "#46039f"
            ],
            [
             0.2222222222222222,
             "#7201a8"
            ],
            [
             0.3333333333333333,
             "#9c179e"
            ],
            [
             0.4444444444444444,
             "#bd3786"
            ],
            [
             0.5555555555555556,
             "#d8576b"
            ],
            [
             0.6666666666666666,
             "#ed7953"
            ],
            [
             0.7777777777777778,
             "#fb9f3a"
            ],
            [
             0.8888888888888888,
             "#fdca26"
            ],
            [
             1,
             "#f0f921"
            ]
           ]
          },
          "colorway": [
           "#636efa",
           "#EF553B",
           "#00cc96",
           "#ab63fa",
           "#FFA15A",
           "#19d3f3",
           "#FF6692",
           "#B6E880",
           "#FF97FF",
           "#FECB52"
          ],
          "font": {
           "color": "#2a3f5f"
          },
          "geo": {
           "bgcolor": "white",
           "lakecolor": "white",
           "landcolor": "#E5ECF6",
           "showlakes": true,
           "showland": true,
           "subunitcolor": "white"
          },
          "hoverlabel": {
           "align": "left"
          },
          "hovermode": "closest",
          "mapbox": {
           "style": "light"
          },
          "paper_bgcolor": "white",
          "plot_bgcolor": "#E5ECF6",
          "polar": {
           "angularaxis": {
            "gridcolor": "white",
            "linecolor": "white",
            "ticks": ""
           },
           "bgcolor": "#E5ECF6",
           "radialaxis": {
            "gridcolor": "white",
            "linecolor": "white",
            "ticks": ""
           }
          },
          "scene": {
           "xaxis": {
            "backgroundcolor": "#E5ECF6",
            "gridcolor": "white",
            "gridwidth": 2,
            "linecolor": "white",
            "showbackground": true,
            "ticks": "",
            "zerolinecolor": "white"
           },
           "yaxis": {
            "backgroundcolor": "#E5ECF6",
            "gridcolor": "white",
            "gridwidth": 2,
            "linecolor": "white",
            "showbackground": true,
            "ticks": "",
            "zerolinecolor": "white"
           },
           "zaxis": {
            "backgroundcolor": "#E5ECF6",
            "gridcolor": "white",
            "gridwidth": 2,
            "linecolor": "white",
            "showbackground": true,
            "ticks": "",
            "zerolinecolor": "white"
           }
          },
          "shapedefaults": {
           "line": {
            "color": "#2a3f5f"
           }
          },
          "ternary": {
           "aaxis": {
            "gridcolor": "white",
            "linecolor": "white",
            "ticks": ""
           },
           "baxis": {
            "gridcolor": "white",
            "linecolor": "white",
            "ticks": ""
           },
           "bgcolor": "#E5ECF6",
           "caxis": {
            "gridcolor": "white",
            "linecolor": "white",
            "ticks": ""
           }
          },
          "title": {
           "x": 0.05
          },
          "xaxis": {
           "automargin": true,
           "gridcolor": "white",
           "linecolor": "white",
           "ticks": "",
           "title": {
            "standoff": 15
           },
           "zerolinecolor": "white",
           "zerolinewidth": 2
          },
          "yaxis": {
           "automargin": true,
           "gridcolor": "white",
           "linecolor": "white",
           "ticks": "",
           "title": {
            "standoff": 15
           },
           "zerolinecolor": "white",
           "zerolinewidth": 2
          }
         }
        },
        "title": {
         "text": "Porcentaje de Aprobación por Etapa"
        },
        "xaxis": {
         "anchor": "y",
         "autorange": true,
         "domain": [
          0,
          1
         ],
         "range": [
          -0.5,
          2.5
         ],
         "title": {
          "text": "Etapas"
         },
         "type": "category"
        },
        "yaxis": {
         "anchor": "x",
         "autorange": true,
         "domain": [
          0,
          1
         ],
         "range": [
          0,
          1.0526315789473684
         ],
         "title": {
          "text": "Porcentaje"
         },
         "type": "linear"
        }
       }
      },
      "image/png": "[encoded data removed]",
      "text/html": [
       "<div>                            <div id=\"ea60ea5e-64b4-431e-aeb3-70100db2970f\" class=\"plotly-graph-div\" style=\"height:525px; width:100%;\"></div>            <script type=\"text/javascript\">                require([\"plotly\"], function(Plotly) {                    window.PLOTLYENV=window.PLOTLYENV || {};                                    if (document.getElementById(\"ea60ea5e-64b4-431e-aeb3-70100db2970f\")) {                    Plotly.newPlot(                        \"ea60ea5e-64b4-431e-aeb3-70100db2970f\",                        [{\"alignmentgroup\":\"True\",\"hovertemplate\":\"Aprueba=Si\\u003cbr\\u003eEtapas=%{x}\\u003cbr\\u003ePorcentaje=%{y}\\u003cextra\\u003e\\u003c\\u002fextra\\u003e\",\"legendgroup\":\"Si\",\"marker\":{\"color\":\"green\",\"pattern\":{\"shape\":\"\"}},\"name\":\"Si\",\"offsetgroup\":\"Si\",\"orientation\":\"v\",\"showlegend\":true,\"textposition\":\"auto\",\"x\":[\"primera\",\"segunda\",\"tercera\"],\"xaxis\":\"x\",\"y\":[0.9192825112107623,0.8967320261437909,0.9143192488262911],\"yaxis\":\"y\",\"type\":\"bar\"},{\"alignmentgroup\":\"True\",\"hovertemplate\":\"Aprueba=No\\u003cbr\\u003eEtapas=%{x}\\u003cbr\\u003ePorcentaje=%{y}\\u003cextra\\u003e\\u003c\\u002fextra\\u003e\",\"legendgroup\":\"No\",\"marker\":{\"color\":\"red\",\"pattern\":{\"shape\":\"\"}},\"name\":\"No\",\"offsetgroup\":\"No\",\"orientation\":\"v\",\"showlegend\":true,\"textposition\":\"auto\",\"x\":[\"primera\",\"segunda\",\"tercera\"],\"xaxis\":\"x\",\"y\":[0.08071748878923767,0.10326797385620914,0.08568075117370892],\"yaxis\":\"y\",\"type\":\"bar\"}],                        {\"template\":{\"data\":{\"histogram2dcontour\":[{\"type\":\"histogram2dcontour\",\"colorbar\":{\"outlinewidth\":0,\"ticks\":\"\"},\"colorscale\":[[0.0,\"#0d0887\"],[0.1111111111111111,\"#46039f\"],[0.2222222222222222,\"#7201a8\"],[0.3333333333333333,\"#9c179e\"],[0.4444444444444444,\"#bd3786\"],[0.5555555555555556,\"#d8576b\"],[0.6666666666666666,\"#ed7953\"],[0.7777777777777778,\"#fb9f3a\"],[0.8888888888888888,\"#fdca26\"],[1.0,\"#f0f921\"]]}],\"choropleth\":[{\"type\":\"choropleth\",\"colorbar\":{\"outlinewidth\":0,\"ticks\":\"\"}}],\"histogram2d\":[{\"type\":\"histogram2d\",\"colorbar\":{\"outlinewidth\":0,\"ticks\":\"\"},\"colorscale\":[[0.0,\"#0d0887\"],[0.1111111111111111,\"#46039f\"],[0.2222222222222222,\"#7201a8\"],[0.3333333333333333,\"#9c179e\"],[0.4444444444444444,\"#bd3786\"],[0.5555555555555556,\"#d8576b\"],[0.6666666666666666,\"#ed7953\"],[0.7777777777777778,\"#fb9f3a\"],[0.8888888888888888,\"#fdca26\"],[1.0,\"#f0f921\"]]}],\"heatmap\":[{\"type\":\"heatmap\",\"colorbar\":{\"outlinewidth\":0,\"ticks\":\"\"},\"colorscale\":[[0.0,\"#0d0887\"],[0.1111111111111111,\"#46039f\"],[0.2222222222222222,\"#7201a8\"],[0.3333333333333333,\"#9c179e\"],[0.4444444444444444,\"#bd3786\"],[0.5555555555555556,\"#d8576b\"],[0.6666666666666666,\"#ed7953\"],[0.7777777777777778,\"#fb9f3a\"],[0.8888888888888888,\"#fdca26\"],[1.0,\"#f0f921\"]]}],\"heatmapgl\":[{\"type\":\"heatmapgl\",\"colorbar\":{\"outlinewidth\":0,\"ticks\":\"\"},\"colorscale\":[[0.0,\"#0d0887\"],[0.1111111111111111,\"#46039f\"],[0.2222222222222222,\"#7201a8\"],[0.3333333333333333,\"#9c179e\"],[0.4444444444444444,\"#bd3786\"],[0.5555555555555556,\"#d8576b\"],[0.6666666666666666,\"#ed7953\"],[0.7777777777777778,\"#fb9f3a\"],[0.8888888888888888,\"#fdca26\"],[1.0,\"#f0f921\"]]}],\"contourcarpet\":[{\"type\":\"contourcarpet\",\"colorbar\":{\"outlinewidth\":0,\"ticks\":\"\"}}],\"contour\":[{\"type\":\"contour\",\"colorbar\":{\"outlinewidth\":0,\"ticks\":\"\"},\"colorscale\":[[0.0,\"#0d0887\"],[0.1111111111111111,\"#46039f\"],[0.2222222222222222,\"#7201a8\"],[0.3333333333333333,\"#9c179e\"],[0.4444444444444444,\"#bd3786\"],[0.5555555555555556,\"#d8576b\"],[0.6666666666666666,\"#ed7953\"],[0.7777777777777778,\"#fb9f3a\"],[0.8888888888888888,\"#fdca26\"],[1.0,\"#f0f921\"]]}],\"surface\":[{\"type\":\"surface\",\"colorbar\":{\"outlinewidth\":0,\"ticks\":\"\"},\"colorscale\":[[0.0,\"#0d0887\"],[0.1111111111111111,\"#46039f\"],[0.2222222222222222,\"#7201a8\"],[0.3333333333333333,\"#9c179e\"],[0.4444444444444444,\"#bd3786\"],[0.5555555555555556,\"#d8576b\"],[0.6666666666666666,\"#ed7953\"],[0.7777777777777778,\"#fb9f3a\"],[0.8888888888888888,\"#fdca26\"],[1.0,\"#f0f921\"]]}],\"mesh3d\":[{\"type\":\"mesh3d\",\"colorbar\":{\"outlinewidth\":0,\"ticks\":\"\"}}],\"scatter\":[{\"fillpattern\":{\"fillmode\":\"overlay\",\"size\":10,\"solidity\":0.2},\"type\":\"scatter\"}],\"parcoords\":[{\"type\":\"parcoords\",\"line\":{\"colorbar\":{\"outlinewidth\":0,\"ticks\":\"\"}}}],\"scatterpolargl\":[{\"type\":\"scatterpolargl\",\"marker\":{\"colorbar\":{\"outlinewidth\":0,\"ticks\":\"\"}}}],\"bar\":[{\"error_x\":{\"color\":\"#2a3f5f\"},\"error_y\":{\"color\":\"#2a3f5f\"},\"marker\":{\"line\":{\"color\":\"#E5ECF6\",\"width\":0.5},\"pattern\":{\"fillmode\":\"overlay\",\"size\":10,\"solidity\":0.2}},\"type\":\"bar\"}],\"scattergeo\":[{\"type\":\"scattergeo\",\"marker\":{\"colorbar\":{\"outlinewidth\":0,\"ticks\":\"\"}}}],\"scatterpolar\":[{\"type\":\"scatterpolar\",\"marker\":{\"colorbar\":{\"outlinewidth\":0,\"ticks\":\"\"}}}],\"histogram\":[{\"marker\":{\"pattern\":{\"fillmode\":\"overlay\",\"size\":10,\"solidity\":0.2}},\"type\":\"histogram\"}],\"scattergl\":[{\"type\":\"scattergl\",\"marker\":{\"colorbar\":{\"outlinewidth\":0,\"ticks\":\"\"}}}],\"scatter3d\":[{\"type\":\"scatter3d\",\"line\":{\"colorbar\":{\"outlinewidth\":0,\"ticks\":\"\"}},\"marker\":{\"colorbar\":{\"outlinewidth\":0,\"ticks\":\"\"}}}],\"scattermapbox\":[{\"type\":\"scattermapbox\",\"marker\":{\"colorbar\":{\"outlinewidth\":0,\"ticks\":\"\"}}}],\"scatterternary\":[{\"type\":\"scatterternary\",\"marker\":{\"colorbar\":{\"outlinewidth\":0,\"ticks\":\"\"}}}],\"scattercarpet\":[{\"type\":\"scattercarpet\",\"marker\":{\"colorbar\":{\"outlinewidth\":0,\"ticks\":\"\"}}}],\"carpet\":[{\"aaxis\":{\"endlinecolor\":\"#2a3f5f\",\"gridcolor\":\"white\",\"linecolor\":\"white\",\"minorgridcolor\":\"white\",\"startlinecolor\":\"#2a3f5f\"},\"baxis\":{\"endlinecolor\":\"#2a3f5f\",\"gridcolor\":\"white\",\"linecolor\":\"white\",\"minorgridcolor\":\"white\",\"startlinecolor\":\"#2a3f5f\"},\"type\":\"carpet\"}],\"table\":[{\"cells\":{\"fill\":{\"color\":\"#EBF0F8\"},\"line\":{\"color\":\"white\"}},\"header\":{\"fill\":{\"color\":\"#C8D4E3\"},\"line\":{\"color\":\"white\"}},\"type\":\"table\"}],\"barpolar\":[{\"marker\":{\"line\":{\"color\":\"#E5ECF6\",\"width\":0.5},\"pattern\":{\"fillmode\":\"overlay\",\"size\":10,\"solidity\":0.2}},\"type\":\"barpolar\"}],\"pie\":[{\"automargin\":true,\"type\":\"pie\"}]},\"layout\":{\"autotypenumbers\":\"strict\",\"colorway\":[\"#636efa\",\"#EF553B\",\"#00cc96\",\"#ab63fa\",\"#FFA15A\",\"#19d3f3\",\"#FF6692\",\"#B6E880\",\"#FF97FF\",\"#FECB52\"],\"font\":{\"color\":\"#2a3f5f\"},\"hovermode\":\"closest\",\"hoverlabel\":{\"align\":\"left\"},\"paper_bgcolor\":\"white\",\"plot_bgcolor\":\"#E5ECF6\",\"polar\":{\"bgcolor\":\"#E5ECF6\",\"angularaxis\":{\"gridcolor\":\"white\",\"linecolor\":\"white\",\"ticks\":\"\"},\"radialaxis\":{\"gridcolor\":\"white\",\"linecolor\":\"white\",\"ticks\":\"\"}},\"ternary\":{\"bgcolor\":\"#E5ECF6\",\"aaxis\":{\"gridcolor\":\"white\",\"linecolor\":\"white\",\"ticks\":\"\"},\"baxis\":{\"gridcolor\":\"white\",\"linecolor\":\"white\",\"ticks\":\"\"},\"caxis\":{\"gridcolor\":\"white\",\"linecolor\":\"white\",\"ticks\":\"\"}},\"coloraxis\":{\"colorbar\":{\"outlinewidth\":0,\"ticks\":\"\"}},\"colorscale\":{\"sequential\":[[0.0,\"#0d0887\"],[0.1111111111111111,\"#46039f\"],[0.2222222222222222,\"#7201a8\"],[0.3333333333333333,\"#9c179e\"],[0.4444444444444444,\"#bd3786\"],[0.5555555555555556,\"#d8576b\"],[0.6666666666666666,\"#ed7953\"],[0.7777777777777778,\"#fb9f3a\"],[0.8888888888888888,\"#fdca26\"],[1.0,\"#f0f921\"]],\"sequentialminus\":[[0.0,\"#0d0887\"],[0.1111111111111111,\"#46039f\"],[0.2222222222222222,\"#7201a8\"],[0.3333333333333333,\"#9c179e\"],[0.4444444444444444,\"#bd3786\"],[0.5555555555555556,\"#d8576b\"],[0.6666666666666666,\"#ed7953\"],[0.7777777777777778,\"#fb9f3a\"],[0.8888888888888888,\"#fdca26\"],[1.0,\"#f0f921\"]],\"diverging\":[[0,\"#8e0152\"],[0.1,\"#c51b7d\"],[0.2,\"#de77ae\"],[0.3,\"#f1b6da\"],[0.4,\"#fde0ef\"],[0.5,\"#f7f7f7\"],[0.6,\"#e6f5d0\"],[0.7,\"#b8e186\"],[0.8,\"#7fbc41\"],[0.9,\"#4d9221\"],[1,\"#276419\"]]},\"xaxis\":{\"gridcolor\":\"white\",\"linecolor\":\"white\",\"ticks\":\"\",\"title\":{\"standoff\":15},\"zerolinecolor\":\"white\",\"automargin\":true,\"zerolinewidth\":2},\"yaxis\":{\"gridcolor\":\"white\",\"linecolor\":\"white\",\"ticks\":\"\",\"title\":{\"standoff\":15},\"zerolinecolor\":\"white\",\"automargin\":true,\"zerolinewidth\":2},\"scene\":{\"xaxis\":{\"backgroundcolor\":\"#E5ECF6\",\"gridcolor\":\"white\",\"linecolor\":\"white\",\"showbackground\":true,\"ticks\":\"\",\"zerolinecolor\":\"white\",\"gridwidth\":2},\"yaxis\":{\"backgroundcolor\":\"#E5ECF6\",\"gridcolor\":\"white\",\"linecolor\":\"white\",\"showbackground\":true,\"ticks\":\"\",\"zerolinecolor\":\"white\",\"gridwidth\":2},\"zaxis\":{\"backgroundcolor\":\"#E5ECF6\",\"gridcolor\":\"white\",\"linecolor\":\"white\",\"showbackground\":true,\"ticks\":\"\",\"zerolinecolor\":\"white\",\"gridwidth\":2}},\"shapedefaults\":{\"line\":{\"color\":\"#2a3f5f\"}},\"annotationdefaults\":{\"arrowcolor\":\"#2a3f5f\",\"arrowhead\":0,\"arrowwidth\":1},\"geo\":{\"bgcolor\":\"white\",\"landcolor\":\"#E5ECF6\",\"subunitcolor\":\"white\",\"showland\":true,\"showlakes\":true,\"lakecolor\":\"white\"},\"title\":{\"x\":0.05},\"mapbox\":{\"style\":\"light\"}}},\"xaxis\":{\"anchor\":\"y\",\"domain\":[0.0,1.0],\"title\":{\"text\":\"Etapas\"}},\"yaxis\":{\"anchor\":\"x\",\"domain\":[0.0,1.0],\"title\":{\"text\":\"Porcentaje\"}},\"legend\":{\"title\":{\"text\":\"Aprueba\"},\"tracegroupgap\":0},\"title\":{\"text\":\"Porcentaje de Aprobaci\\u00f3n por Etapa\"},\"barmode\":\"relative\"},                        {\"responsive\": true}                    ).then(function(){\n",
       "                            \n",
       "var gd = document.getElementById('ea60ea5e-64b4-431e-aeb3-70100db2970f');\n",
       "var x = new MutationObserver(function (mutations, observer) {{\n",
       "        var display = window.getComputedStyle(gd).display;\n",
       "        if (!display || display === 'none') {{\n",
       "            console.log([gd, 'removed!']);\n",
       "            Plotly.purge(gd);\n",
       "            observer.disconnect();\n",
       "        }}\n",
       "}});\n",
       "\n",
       "// Listen for the removal of the full notebook cells\n",
       "var notebookContainer = gd.closest('#notebook-container');\n",
       "if (notebookContainer) {{\n",
       "    x.observe(notebookContainer, {childList: true});\n",
       "}}\n",
       "\n",
       "// Listen for the clearing of the current output cell\n",
       "var outputEl = gd.closest('.output');\n",
       "if (outputEl) {{\n",
       "    x.observe(outputEl, {childList: true});\n",
       "}}\n",
       "\n",
       "                        })                };                });            </script>        </div>"
      ]
     },
     "metadata": {},
     "output_type": "display_data"
    }
   ],
   "source": [
    "porcentaje_aprobacion_por_etapa = df_pe.groupby(\"ETAPA\")[\"APRUEBA\"].value_counts(normalize=True).unstack().fillna(0)\n",
    "porcentaje_aprobacion_por_etapa.reset_index(inplace=True)\n",
    "\n",
    "fig = px.bar(porcentaje_aprobacion_por_etapa, x=\"ETAPA\", y=[\"Si\", \"No\"],\n",
    "             title=\"Porcentaje de Aprobación por Etapa\",\n",
    "             labels={\"ETAPA\": \"Etapas\", \"value\": \"Porcentaje\", \"variable\": \"Aprueba\"},\n",
    "             color_discrete_sequence=[\"green\", \"red\"])\n",
    "fig.show()"
   ]
  },
  {
   "cell_type": "code",
   "execution_count": 179,
   "id": "30ff1d2d-f24e-4b83-abd6-ed21670f5d52",
   "metadata": {},
   "outputs": [
    {
     "data": {
      "application/vnd.plotly.v1+json": {
       "config": {
        "plotlyServerURL": "https://plot.ly"
       },
       "data": [
        {
         "alignmentgroup": "True",
         "hovertemplate": "Aprobación=Si<br>Recuperatorio=%{x}<br>Cantidad=%{y}<extra></extra>",
         "legendgroup": "Si",
         "marker": {
          "color": "#636efa",
          "pattern": {
           "shape": ""
          }
         },
         "name": "Si",
         "offsetgroup": "Si",
         "orientation": "v",
         "showlegend": true,
         "textposition": "auto",
         "type": "bar",
         "x": [
          "No",
          "Si"
         ],
         "xaxis": "x",
         "y": [
          5268,
          439
         ],
         "yaxis": "y"
        },
        {
         "alignmentgroup": "True",
         "hovertemplate": "Aprobación=No<br>Recuperatorio=%{x}<br>Cantidad=%{y}<extra></extra>",
         "legendgroup": "No",
         "marker": {
          "color": "#EF553B",
          "pattern": {
           "shape": ""
          }
         },
         "name": "No",
         "offsetgroup": "No",
         "orientation": "v",
         "showlegend": true,
         "textposition": "auto",
         "type": "bar",
         "x": [
          "No",
          "Si"
         ],
         "xaxis": "x",
         "y": [
          465,
          97
         ],
         "yaxis": "y"
        }
       ],
       "layout": {
        "autosize": true,
        "barmode": "group",
        "legend": {
         "title": {
          "text": "Aprobación"
         },
         "tracegroupgap": 0
        },
        "template": {
         "data": {
          "bar": [
           {
            "error_x": {
             "color": "#2a3f5f"
            },
            "error_y": {
             "color": "#2a3f5f"
            },
            "marker": {
             "line": {
              "color": "#E5ECF6",
              "width": 0.5
             },
             "pattern": {
              "fillmode": "overlay",
              "size": 10,
              "solidity": 0.2
             }
            },
            "type": "bar"
           }
          ],
          "barpolar": [
           {
            "marker": {
             "line": {
              "color": "#E5ECF6",
              "width": 0.5
             },
             "pattern": {
              "fillmode": "overlay",
              "size": 10,
              "solidity": 0.2
             }
            },
            "type": "barpolar"
           }
          ],
          "carpet": [
           {
            "aaxis": {
             "endlinecolor": "#2a3f5f",
             "gridcolor": "white",
             "linecolor": "white",
             "minorgridcolor": "white",
             "startlinecolor": "#2a3f5f"
            },
            "baxis": {
             "endlinecolor": "#2a3f5f",
             "gridcolor": "white",
             "linecolor": "white",
             "minorgridcolor": "white",
             "startlinecolor": "#2a3f5f"
            },
            "type": "carpet"
           }
          ],
          "choropleth": [
           {
            "colorbar": {
             "outlinewidth": 0,
             "ticks": ""
            },
            "type": "choropleth"
           }
          ],
          "contour": [
           {
            "colorbar": {
             "outlinewidth": 0,
             "ticks": ""
            },
            "colorscale": [
             [
              0,
              "#0d0887"
             ],
             [
              0.1111111111111111,
              "#46039f"
             ],
             [
              0.2222222222222222,
              "#7201a8"
             ],
             [
              0.3333333333333333,
              "#9c179e"
             ],
             [
              0.4444444444444444,
              "#bd3786"
             ],
             [
              0.5555555555555556,
              "#d8576b"
             ],
             [
              0.6666666666666666,
              "#ed7953"
             ],
             [
              0.7777777777777778,
              "#fb9f3a"
             ],
             [
              0.8888888888888888,
              "#fdca26"
             ],
             [
              1,
              "#f0f921"
             ]
            ],
            "type": "contour"
           }
          ],
          "contourcarpet": [
           {
            "colorbar": {
             "outlinewidth": 0,
             "ticks": ""
            },
            "type": "contourcarpet"
           }
          ],
          "heatmap": [
           {
            "colorbar": {
             "outlinewidth": 0,
             "ticks": ""
            },
            "colorscale": [
             [
              0,
              "#0d0887"
             ],
             [
              0.1111111111111111,
              "#46039f"
             ],
             [
              0.2222222222222222,
              "#7201a8"
             ],
             [
              0.3333333333333333,
              "#9c179e"
             ],
             [
              0.4444444444444444,
              "#bd3786"
             ],
             [
              0.5555555555555556,
              "#d8576b"
             ],
             [
              0.6666666666666666,
              "#ed7953"
             ],
             [
              0.7777777777777778,
              "#fb9f3a"
             ],
             [
              0.8888888888888888,
              "#fdca26"
             ],
             [
              1,
              "#f0f921"
             ]
            ],
            "type": "heatmap"
           }
          ],
          "heatmapgl": [
           {
            "colorbar": {
             "outlinewidth": 0,
             "ticks": ""
            },
            "colorscale": [
             [
              0,
              "#0d0887"
             ],
             [
              0.1111111111111111,
              "#46039f"
             ],
             [
              0.2222222222222222,
              "#7201a8"
             ],
             [
              0.3333333333333333,
              "#9c179e"
             ],
             [
              0.4444444444444444,
              "#bd3786"
             ],
             [
              0.5555555555555556,
              "#d8576b"
             ],
             [
              0.6666666666666666,
              "#ed7953"
             ],
             [
              0.7777777777777778,
              "#fb9f3a"
             ],
             [
              0.8888888888888888,
              "#fdca26"
             ],
             [
              1,
              "#f0f921"
             ]
            ],
            "type": "heatmapgl"
           }
          ],
          "histogram": [
           {
            "marker": {
             "pattern": {
              "fillmode": "overlay",
              "size": 10,
              "solidity": 0.2
             }
            },
            "type": "histogram"
           }
          ],
          "histogram2d": [
           {
            "colorbar": {
             "outlinewidth": 0,
             "ticks": ""
            },
            "colorscale": [
             [
              0,
              "#0d0887"
             ],
             [
              0.1111111111111111,
              "#46039f"
             ],
             [
              0.2222222222222222,
              "#7201a8"
             ],
             [
              0.3333333333333333,
              "#9c179e"
             ],
             [
              0.4444444444444444,
              "#bd3786"
             ],
             [
              0.5555555555555556,
              "#d8576b"
             ],
             [
              0.6666666666666666,
              "#ed7953"
             ],
             [
              0.7777777777777778,
              "#fb9f3a"
             ],
             [
              0.8888888888888888,
              "#fdca26"
             ],
             [
              1,
              "#f0f921"
             ]
            ],
            "type": "histogram2d"
           }
          ],
          "histogram2dcontour": [
           {
            "colorbar": {
             "outlinewidth": 0,
             "ticks": ""
            },
            "colorscale": [
             [
              0,
              "#0d0887"
             ],
             [
              0.1111111111111111,
              "#46039f"
             ],
             [
              0.2222222222222222,
              "#7201a8"
             ],
             [
              0.3333333333333333,
              "#9c179e"
             ],
             [
              0.4444444444444444,
              "#bd3786"
             ],
             [
              0.5555555555555556,
              "#d8576b"
             ],
             [
              0.6666666666666666,
              "#ed7953"
             ],
             [
              0.7777777777777778,
              "#fb9f3a"
             ],
             [
              0.8888888888888888,
              "#fdca26"
             ],
             [
              1,
              "#f0f921"
             ]
            ],
            "type": "histogram2dcontour"
           }
          ],
          "mesh3d": [
           {
            "colorbar": {
             "outlinewidth": 0,
             "ticks": ""
            },
            "type": "mesh3d"
           }
          ],
          "parcoords": [
           {
            "line": {
             "colorbar": {
              "outlinewidth": 0,
              "ticks": ""
             }
            },
            "type": "parcoords"
           }
          ],
          "pie": [
           {
            "automargin": true,
            "type": "pie"
           }
          ],
          "scatter": [
           {
            "fillpattern": {
             "fillmode": "overlay",
             "size": 10,
             "solidity": 0.2
            },
            "type": "scatter"
           }
          ],
          "scatter3d": [
           {
            "line": {
             "colorbar": {
              "outlinewidth": 0,
              "ticks": ""
             }
            },
            "marker": {
             "colorbar": {
              "outlinewidth": 0,
              "ticks": ""
             }
            },
            "type": "scatter3d"
           }
          ],
          "scattercarpet": [
           {
            "marker": {
             "colorbar": {
              "outlinewidth": 0,
              "ticks": ""
             }
            },
            "type": "scattercarpet"
           }
          ],
          "scattergeo": [
           {
            "marker": {
             "colorbar": {
              "outlinewidth": 0,
              "ticks": ""
             }
            },
            "type": "scattergeo"
           }
          ],
          "scattergl": [
           {
            "marker": {
             "colorbar": {
              "outlinewidth": 0,
              "ticks": ""
             }
            },
            "type": "scattergl"
           }
          ],
          "scattermapbox": [
           {
            "marker": {
             "colorbar": {
              "outlinewidth": 0,
              "ticks": ""
             }
            },
            "type": "scattermapbox"
           }
          ],
          "scatterpolar": [
           {
            "marker": {
             "colorbar": {
              "outlinewidth": 0,
              "ticks": ""
             }
            },
            "type": "scatterpolar"
           }
          ],
          "scatterpolargl": [
           {
            "marker": {
             "colorbar": {
              "outlinewidth": 0,
              "ticks": ""
             }
            },
            "type": "scatterpolargl"
           }
          ],
          "scatterternary": [
           {
            "marker": {
             "colorbar": {
              "outlinewidth": 0,
              "ticks": ""
             }
            },
            "type": "scatterternary"
           }
          ],
          "surface": [
           {
            "colorbar": {
             "outlinewidth": 0,
             "ticks": ""
            },
            "colorscale": [
             [
              0,
              "#0d0887"
             ],
             [
              0.1111111111111111,
              "#46039f"
             ],
             [
              0.2222222222222222,
              "#7201a8"
             ],
             [
              0.3333333333333333,
              "#9c179e"
             ],
             [
              0.4444444444444444,
              "#bd3786"
             ],
             [
              0.5555555555555556,
              "#d8576b"
             ],
             [
              0.6666666666666666,
              "#ed7953"
             ],
             [
              0.7777777777777778,
              "#fb9f3a"
             ],
             [
              0.8888888888888888,
              "#fdca26"
             ],
             [
              1,
              "#f0f921"
             ]
            ],
            "type": "surface"
           }
          ],
          "table": [
           {
            "cells": {
             "fill": {
              "color": "#EBF0F8"
             },
             "line": {
              "color": "white"
             }
            },
            "header": {
             "fill": {
              "color": "#C8D4E3"
             },
             "line": {
              "color": "white"
             }
            },
            "type": "table"
           }
          ]
         },
         "layout": {
          "annotationdefaults": {
           "arrowcolor": "#2a3f5f",
           "arrowhead": 0,
           "arrowwidth": 1
          },
          "autotypenumbers": "strict",
          "coloraxis": {
           "colorbar": {
            "outlinewidth": 0,
            "ticks": ""
           }
          },
          "colorscale": {
           "diverging": [
            [
             0,
             "#8e0152"
            ],
            [
             0.1,
             "#c51b7d"
            ],
            [
             0.2,
             "#de77ae"
            ],
            [
             0.3,
             "#f1b6da"
            ],
            [
             0.4,
             "#fde0ef"
            ],
            [
             0.5,
             "#f7f7f7"
            ],
            [
             0.6,
             "#e6f5d0"
            ],
            [
             0.7,
             "#b8e186"
            ],
            [
             0.8,
             "#7fbc41"
            ],
            [
             0.9,
             "#4d9221"
            ],
            [
             1,
             "#276419"
            ]
           ],
           "sequential": [
            [
             0,
             "#0d0887"
            ],
            [
             0.1111111111111111,
             "#46039f"
            ],
            [
             0.2222222222222222,
             "#7201a8"
            ],
            [
             0.3333333333333333,
             "#9c179e"
            ],
            [
             0.4444444444444444,
             "#bd3786"
            ],
            [
             0.5555555555555556,
             "#d8576b"
            ],
            [
             0.6666666666666666,
             "#ed7953"
            ],
            [
             0.7777777777777778,
             "#fb9f3a"
            ],
            [
             0.8888888888888888,
             "#fdca26"
            ],
            [
             1,
             "#f0f921"
            ]
           ],
           "sequentialminus": [
            [
             0,
             "#0d0887"
            ],
            [
             0.1111111111111111,
             "#46039f"
            ],
            [
             0.2222222222222222,
             "#7201a8"
            ],
            [
             0.3333333333333333,
             "#9c179e"
            ],
            [
             0.4444444444444444,
             "#bd3786"
            ],
            [
             0.5555555555555556,
             "#d8576b"
            ],
            [
             0.6666666666666666,
             "#ed7953"
            ],
            [
             0.7777777777777778,
             "#fb9f3a"
            ],
            [
             0.8888888888888888,
             "#fdca26"
            ],
            [
             1,
             "#f0f921"
            ]
           ]
          },
          "colorway": [
           "#636efa",
           "#EF553B",
           "#00cc96",
           "#ab63fa",
           "#FFA15A",
           "#19d3f3",
           "#FF6692",
           "#B6E880",
           "#FF97FF",
           "#FECB52"
          ],
          "font": {
           "color": "#2a3f5f"
          },
          "geo": {
           "bgcolor": "white",
           "lakecolor": "white",
           "landcolor": "#E5ECF6",
           "showlakes": true,
           "showland": true,
           "subunitcolor": "white"
          },
          "hoverlabel": {
           "align": "left"
          },
          "hovermode": "closest",
          "mapbox": {
           "style": "light"
          },
          "paper_bgcolor": "white",
          "plot_bgcolor": "#E5ECF6",
          "polar": {
           "angularaxis": {
            "gridcolor": "white",
            "linecolor": "white",
            "ticks": ""
           },
           "bgcolor": "#E5ECF6",
           "radialaxis": {
            "gridcolor": "white",
            "linecolor": "white",
            "ticks": ""
           }
          },
          "scene": {
           "xaxis": {
            "backgroundcolor": "#E5ECF6",
            "gridcolor": "white",
            "gridwidth": 2,
            "linecolor": "white",
            "showbackground": true,
            "ticks": "",
            "zerolinecolor": "white"
           },
           "yaxis": {
            "backgroundcolor": "#E5ECF6",
            "gridcolor": "white",
            "gridwidth": 2,
            "linecolor": "white",
            "showbackground": true,
            "ticks": "",
            "zerolinecolor": "white"
           },
           "zaxis": {
            "backgroundcolor": "#E5ECF6",
            "gridcolor": "white",
            "gridwidth": 2,
            "linecolor": "white",
            "showbackground": true,
            "ticks": "",
            "zerolinecolor": "white"
           }
          },
          "shapedefaults": {
           "line": {
            "color": "#2a3f5f"
           }
          },
          "ternary": {
           "aaxis": {
            "gridcolor": "white",
            "linecolor": "white",
            "ticks": ""
           },
           "baxis": {
            "gridcolor": "white",
            "linecolor": "white",
            "ticks": ""
           },
           "bgcolor": "#E5ECF6",
           "caxis": {
            "gridcolor": "white",
            "linecolor": "white",
            "ticks": ""
           }
          },
          "title": {
           "x": 0.05
          },
          "xaxis": {
           "automargin": true,
           "gridcolor": "white",
           "linecolor": "white",
           "ticks": "",
           "title": {
            "standoff": 15
           },
           "zerolinecolor": "white",
           "zerolinewidth": 2
          },
          "yaxis": {
           "automargin": true,
           "gridcolor": "white",
           "linecolor": "white",
           "ticks": "",
           "title": {
            "standoff": 15
           },
           "zerolinecolor": "white",
           "zerolinewidth": 2
          }
         }
        },
        "title": {
         "text": "Relación entre Toma de Recuperatorios y Aprobación"
        },
        "xaxis": {
         "anchor": "y",
         "autorange": true,
         "domain": [
          0,
          1
         ],
         "range": [
          -0.5,
          1.5
         ],
         "title": {
          "text": "Recuperatorio"
         },
         "type": "category"
        },
        "yaxis": {
         "anchor": "x",
         "autorange": true,
         "domain": [
          0,
          1
         ],
         "range": [
          0,
          5545.263157894737
         ],
         "title": {
          "text": "Cantidad"
         },
         "type": "linear"
        }
       }
      },
      "image/png": "[encoded data removed]",
      "text/html": [
       "<div>                            <div id=\"d611db6a-e03e-413d-b19f-ec4979495870\" class=\"plotly-graph-div\" style=\"height:525px; width:100%;\"></div>            <script type=\"text/javascript\">                require([\"plotly\"], function(Plotly) {                    window.PLOTLYENV=window.PLOTLYENV || {};                                    if (document.getElementById(\"d611db6a-e03e-413d-b19f-ec4979495870\")) {                    Plotly.newPlot(                        \"d611db6a-e03e-413d-b19f-ec4979495870\",                        [{\"alignmentgroup\":\"True\",\"hovertemplate\":\"Aprobaci\\u00f3n=Si\\u003cbr\\u003eRecuperatorio=%{x}\\u003cbr\\u003eCantidad=%{y}\\u003cextra\\u003e\\u003c\\u002fextra\\u003e\",\"legendgroup\":\"Si\",\"marker\":{\"color\":\"#636efa\",\"pattern\":{\"shape\":\"\"}},\"name\":\"Si\",\"offsetgroup\":\"Si\",\"orientation\":\"v\",\"showlegend\":true,\"textposition\":\"auto\",\"x\":[\"No\",\"Si\"],\"xaxis\":\"x\",\"y\":[5268,439],\"yaxis\":\"y\",\"type\":\"bar\"},{\"alignmentgroup\":\"True\",\"hovertemplate\":\"Aprobaci\\u00f3n=No\\u003cbr\\u003eRecuperatorio=%{x}\\u003cbr\\u003eCantidad=%{y}\\u003cextra\\u003e\\u003c\\u002fextra\\u003e\",\"legendgroup\":\"No\",\"marker\":{\"color\":\"#EF553B\",\"pattern\":{\"shape\":\"\"}},\"name\":\"No\",\"offsetgroup\":\"No\",\"orientation\":\"v\",\"showlegend\":true,\"textposition\":\"auto\",\"x\":[\"No\",\"Si\"],\"xaxis\":\"x\",\"y\":[465,97],\"yaxis\":\"y\",\"type\":\"bar\"}],                        {\"template\":{\"data\":{\"histogram2dcontour\":[{\"type\":\"histogram2dcontour\",\"colorbar\":{\"outlinewidth\":0,\"ticks\":\"\"},\"colorscale\":[[0.0,\"#0d0887\"],[0.1111111111111111,\"#46039f\"],[0.2222222222222222,\"#7201a8\"],[0.3333333333333333,\"#9c179e\"],[0.4444444444444444,\"#bd3786\"],[0.5555555555555556,\"#d8576b\"],[0.6666666666666666,\"#ed7953\"],[0.7777777777777778,\"#fb9f3a\"],[0.8888888888888888,\"#fdca26\"],[1.0,\"#f0f921\"]]}],\"choropleth\":[{\"type\":\"choropleth\",\"colorbar\":{\"outlinewidth\":0,\"ticks\":\"\"}}],\"histogram2d\":[{\"type\":\"histogram2d\",\"colorbar\":{\"outlinewidth\":0,\"ticks\":\"\"},\"colorscale\":[[0.0,\"#0d0887\"],[0.1111111111111111,\"#46039f\"],[0.2222222222222222,\"#7201a8\"],[0.3333333333333333,\"#9c179e\"],[0.4444444444444444,\"#bd3786\"],[0.5555555555555556,\"#d8576b\"],[0.6666666666666666,\"#ed7953\"],[0.7777777777777778,\"#fb9f3a\"],[0.8888888888888888,\"#fdca26\"],[1.0,\"#f0f921\"]]}],\"heatmap\":[{\"type\":\"heatmap\",\"colorbar\":{\"outlinewidth\":0,\"ticks\":\"\"},\"colorscale\":[[0.0,\"#0d0887\"],[0.1111111111111111,\"#46039f\"],[0.2222222222222222,\"#7201a8\"],[0.3333333333333333,\"#9c179e\"],[0.4444444444444444,\"#bd3786\"],[0.5555555555555556,\"#d8576b\"],[0.6666666666666666,\"#ed7953\"],[0.7777777777777778,\"#fb9f3a\"],[0.8888888888888888,\"#fdca26\"],[1.0,\"#f0f921\"]]}],\"heatmapgl\":[{\"type\":\"heatmapgl\",\"colorbar\":{\"outlinewidth\":0,\"ticks\":\"\"},\"colorscale\":[[0.0,\"#0d0887\"],[0.1111111111111111,\"#46039f\"],[0.2222222222222222,\"#7201a8\"],[0.3333333333333333,\"#9c179e\"],[0.4444444444444444,\"#bd3786\"],[0.5555555555555556,\"#d8576b\"],[0.6666666666666666,\"#ed7953\"],[0.7777777777777778,\"#fb9f3a\"],[0.8888888888888888,\"#fdca26\"],[1.0,\"#f0f921\"]]}],\"contourcarpet\":[{\"type\":\"contourcarpet\",\"colorbar\":{\"outlinewidth\":0,\"ticks\":\"\"}}],\"contour\":[{\"type\":\"contour\",\"colorbar\":{\"outlinewidth\":0,\"ticks\":\"\"},\"colorscale\":[[0.0,\"#0d0887\"],[0.1111111111111111,\"#46039f\"],[0.2222222222222222,\"#7201a8\"],[0.3333333333333333,\"#9c179e\"],[0.4444444444444444,\"#bd3786\"],[0.5555555555555556,\"#d8576b\"],[0.6666666666666666,\"#ed7953\"],[0.7777777777777778,\"#fb9f3a\"],[0.8888888888888888,\"#fdca26\"],[1.0,\"#f0f921\"]]}],\"surface\":[{\"type\":\"surface\",\"colorbar\":{\"outlinewidth\":0,\"ticks\":\"\"},\"colorscale\":[[0.0,\"#0d0887\"],[0.1111111111111111,\"#46039f\"],[0.2222222222222222,\"#7201a8\"],[0.3333333333333333,\"#9c179e\"],[0.4444444444444444,\"#bd3786\"],[0.5555555555555556,\"#d8576b\"],[0.6666666666666666,\"#ed7953\"],[0.7777777777777778,\"#fb9f3a\"],[0.8888888888888888,\"#fdca26\"],[1.0,\"#f0f921\"]]}],\"mesh3d\":[{\"type\":\"mesh3d\",\"colorbar\":{\"outlinewidth\":0,\"ticks\":\"\"}}],\"scatter\":[{\"fillpattern\":{\"fillmode\":\"overlay\",\"size\":10,\"solidity\":0.2},\"type\":\"scatter\"}],\"parcoords\":[{\"type\":\"parcoords\",\"line\":{\"colorbar\":{\"outlinewidth\":0,\"ticks\":\"\"}}}],\"scatterpolargl\":[{\"type\":\"scatterpolargl\",\"marker\":{\"colorbar\":{\"outlinewidth\":0,\"ticks\":\"\"}}}],\"bar\":[{\"error_x\":{\"color\":\"#2a3f5f\"},\"error_y\":{\"color\":\"#2a3f5f\"},\"marker\":{\"line\":{\"color\":\"#E5ECF6\",\"width\":0.5},\"pattern\":{\"fillmode\":\"overlay\",\"size\":10,\"solidity\":0.2}},\"type\":\"bar\"}],\"scattergeo\":[{\"type\":\"scattergeo\",\"marker\":{\"colorbar\":{\"outlinewidth\":0,\"ticks\":\"\"}}}],\"scatterpolar\":[{\"type\":\"scatterpolar\",\"marker\":{\"colorbar\":{\"outlinewidth\":0,\"ticks\":\"\"}}}],\"histogram\":[{\"marker\":{\"pattern\":{\"fillmode\":\"overlay\",\"size\":10,\"solidity\":0.2}},\"type\":\"histogram\"}],\"scattergl\":[{\"type\":\"scattergl\",\"marker\":{\"colorbar\":{\"outlinewidth\":0,\"ticks\":\"\"}}}],\"scatter3d\":[{\"type\":\"scatter3d\",\"line\":{\"colorbar\":{\"outlinewidth\":0,\"ticks\":\"\"}},\"marker\":{\"colorbar\":{\"outlinewidth\":0,\"ticks\":\"\"}}}],\"scattermapbox\":[{\"type\":\"scattermapbox\",\"marker\":{\"colorbar\":{\"outlinewidth\":0,\"ticks\":\"\"}}}],\"scatterternary\":[{\"type\":\"scatterternary\",\"marker\":{\"colorbar\":{\"outlinewidth\":0,\"ticks\":\"\"}}}],\"scattercarpet\":[{\"type\":\"scattercarpet\",\"marker\":{\"colorbar\":{\"outlinewidth\":0,\"ticks\":\"\"}}}],\"carpet\":[{\"aaxis\":{\"endlinecolor\":\"#2a3f5f\",\"gridcolor\":\"white\",\"linecolor\":\"white\",\"minorgridcolor\":\"white\",\"startlinecolor\":\"#2a3f5f\"},\"baxis\":{\"endlinecolor\":\"#2a3f5f\",\"gridcolor\":\"white\",\"linecolor\":\"white\",\"minorgridcolor\":\"white\",\"startlinecolor\":\"#2a3f5f\"},\"type\":\"carpet\"}],\"table\":[{\"cells\":{\"fill\":{\"color\":\"#EBF0F8\"},\"line\":{\"color\":\"white\"}},\"header\":{\"fill\":{\"color\":\"#C8D4E3\"},\"line\":{\"color\":\"white\"}},\"type\":\"table\"}],\"barpolar\":[{\"marker\":{\"line\":{\"color\":\"#E5ECF6\",\"width\":0.5},\"pattern\":{\"fillmode\":\"overlay\",\"size\":10,\"solidity\":0.2}},\"type\":\"barpolar\"}],\"pie\":[{\"automargin\":true,\"type\":\"pie\"}]},\"layout\":{\"autotypenumbers\":\"strict\",\"colorway\":[\"#636efa\",\"#EF553B\",\"#00cc96\",\"#ab63fa\",\"#FFA15A\",\"#19d3f3\",\"#FF6692\",\"#B6E880\",\"#FF97FF\",\"#FECB52\"],\"font\":{\"color\":\"#2a3f5f\"},\"hovermode\":\"closest\",\"hoverlabel\":{\"align\":\"left\"},\"paper_bgcolor\":\"white\",\"plot_bgcolor\":\"#E5ECF6\",\"polar\":{\"bgcolor\":\"#E5ECF6\",\"angularaxis\":{\"gridcolor\":\"white\",\"linecolor\":\"white\",\"ticks\":\"\"},\"radialaxis\":{\"gridcolor\":\"white\",\"linecolor\":\"white\",\"ticks\":\"\"}},\"ternary\":{\"bgcolor\":\"#E5ECF6\",\"aaxis\":{\"gridcolor\":\"white\",\"linecolor\":\"white\",\"ticks\":\"\"},\"baxis\":{\"gridcolor\":\"white\",\"linecolor\":\"white\",\"ticks\":\"\"},\"caxis\":{\"gridcolor\":\"white\",\"linecolor\":\"white\",\"ticks\":\"\"}},\"coloraxis\":{\"colorbar\":{\"outlinewidth\":0,\"ticks\":\"\"}},\"colorscale\":{\"sequential\":[[0.0,\"#0d0887\"],[0.1111111111111111,\"#46039f\"],[0.2222222222222222,\"#7201a8\"],[0.3333333333333333,\"#9c179e\"],[0.4444444444444444,\"#bd3786\"],[0.5555555555555556,\"#d8576b\"],[0.6666666666666666,\"#ed7953\"],[0.7777777777777778,\"#fb9f3a\"],[0.8888888888888888,\"#fdca26\"],[1.0,\"#f0f921\"]],\"sequentialminus\":[[0.0,\"#0d0887\"],[0.1111111111111111,\"#46039f\"],[0.2222222222222222,\"#7201a8\"],[0.3333333333333333,\"#9c179e\"],[0.4444444444444444,\"#bd3786\"],[0.5555555555555556,\"#d8576b\"],[0.6666666666666666,\"#ed7953\"],[0.7777777777777778,\"#fb9f3a\"],[0.8888888888888888,\"#fdca26\"],[1.0,\"#f0f921\"]],\"diverging\":[[0,\"#8e0152\"],[0.1,\"#c51b7d\"],[0.2,\"#de77ae\"],[0.3,\"#f1b6da\"],[0.4,\"#fde0ef\"],[0.5,\"#f7f7f7\"],[0.6,\"#e6f5d0\"],[0.7,\"#b8e186\"],[0.8,\"#7fbc41\"],[0.9,\"#4d9221\"],[1,\"#276419\"]]},\"xaxis\":{\"gridcolor\":\"white\",\"linecolor\":\"white\",\"ticks\":\"\",\"title\":{\"standoff\":15},\"zerolinecolor\":\"white\",\"automargin\":true,\"zerolinewidth\":2},\"yaxis\":{\"gridcolor\":\"white\",\"linecolor\":\"white\",\"ticks\":\"\",\"title\":{\"standoff\":15},\"zerolinecolor\":\"white\",\"automargin\":true,\"zerolinewidth\":2},\"scene\":{\"xaxis\":{\"backgroundcolor\":\"#E5ECF6\",\"gridcolor\":\"white\",\"linecolor\":\"white\",\"showbackground\":true,\"ticks\":\"\",\"zerolinecolor\":\"white\",\"gridwidth\":2},\"yaxis\":{\"backgroundcolor\":\"#E5ECF6\",\"gridcolor\":\"white\",\"linecolor\":\"white\",\"showbackground\":true,\"ticks\":\"\",\"zerolinecolor\":\"white\",\"gridwidth\":2},\"zaxis\":{\"backgroundcolor\":\"#E5ECF6\",\"gridcolor\":\"white\",\"linecolor\":\"white\",\"showbackground\":true,\"ticks\":\"\",\"zerolinecolor\":\"white\",\"gridwidth\":2}},\"shapedefaults\":{\"line\":{\"color\":\"#2a3f5f\"}},\"annotationdefaults\":{\"arrowcolor\":\"#2a3f5f\",\"arrowhead\":0,\"arrowwidth\":1},\"geo\":{\"bgcolor\":\"white\",\"landcolor\":\"#E5ECF6\",\"subunitcolor\":\"white\",\"showland\":true,\"showlakes\":true,\"lakecolor\":\"white\"},\"title\":{\"x\":0.05},\"mapbox\":{\"style\":\"light\"}}},\"xaxis\":{\"anchor\":\"y\",\"domain\":[0.0,1.0],\"title\":{\"text\":\"Recuperatorio\"}},\"yaxis\":{\"anchor\":\"x\",\"domain\":[0.0,1.0],\"title\":{\"text\":\"Cantidad\"}},\"legend\":{\"title\":{\"text\":\"Aprobaci\\u00f3n\"},\"tracegroupgap\":0},\"title\":{\"text\":\"Relaci\\u00f3n entre Toma de Recuperatorios y Aprobaci\\u00f3n\"},\"barmode\":\"group\"},                        {\"responsive\": true}                    ).then(function(){\n",
       "                            \n",
       "var gd = document.getElementById('d611db6a-e03e-413d-b19f-ec4979495870');\n",
       "var x = new MutationObserver(function (mutations, observer) {{\n",
       "        var display = window.getComputedStyle(gd).display;\n",
       "        if (!display || display === 'none') {{\n",
       "            console.log([gd, 'removed!']);\n",
       "            Plotly.purge(gd);\n",
       "            observer.disconnect();\n",
       "        }}\n",
       "}});\n",
       "\n",
       "// Listen for the removal of the full notebook cells\n",
       "var notebookContainer = gd.closest('#notebook-container');\n",
       "if (notebookContainer) {{\n",
       "    x.observe(notebookContainer, {childList: true});\n",
       "}}\n",
       "\n",
       "// Listen for the clearing of the current output cell\n",
       "var outputEl = gd.closest('.output');\n",
       "if (outputEl) {{\n",
       "    x.observe(outputEl, {childList: true});\n",
       "}}\n",
       "\n",
       "                        })                };                });            </script>        </div>"
      ]
     },
     "metadata": {},
     "output_type": "display_data"
    }
   ],
   "source": [
    "relacion_recuperatorios_aprobacion = df_pe.groupby([\"RECUPERATORIO\", \"APRUEBA\"]).size().unstack(fill_value=0).reset_index()\n",
    "relacion_recuperatorios_aprobacion['RECUPERATORIO'] = relacion_recuperatorios_aprobacion['RECUPERATORIO'].apply(lambda x: 'Si' if x else 'No')\n",
    "\n",
    "fig = px.bar(relacion_recuperatorios_aprobacion, x=\"RECUPERATORIO\", y=[\"Si\", \"No\"],\n",
    "             title=\"Relación entre Toma de Recuperatorios y Aprobación\",\n",
    "             labels={\"RECUPERATORIO\": \"Recuperatorio\", \"variable\": \"Aprobación\", \"value\": \"Cantidad\"},\n",
    "             barmode=\"group\")\n",
    "fig.show()"
   ]
  }
 ],
 "metadata": {
  "kernelspec": {
   "display_name": "Python 3 (ipykernel)",
   "language": "python",
   "name": "python3"
  },
  "language_info": {
   "codemirror_mode": {
    "name": "ipython",
    "version": 3
   },
   "file_extension": ".py",
   "mimetype": "text/x-python",
   "name": "python",
   "nbconvert_exporter": "python",
   "pygments_lexer": "ipython3",
   "version": "3.11.2"
  }
 },
 "nbformat": 4,
 "nbformat_minor": 5
}
